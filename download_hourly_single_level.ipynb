{
 "cells": [
  {
   "cell_type": "markdown",
   "metadata": {},
   "source": [
    "# ERA5 monthly averaged data on single levels from 1985 to 2014\n",
    "ERA5 form: https://cds.climate.copernicus.eu/cdsapp#!/dataset/reanalysis-era5-single-levels?tab=form\n",
    "\n",
    "ERA5 variables: https://confluence.ecmwf.int/display/CKB/ERA5%3A+data+documentation"
   ]
  },
  {
   "cell_type": "code",
   "execution_count": 1,
   "metadata": {},
   "outputs": [],
   "source": [
    "import cdsapi\n",
    "import glob"
   ]
  },
  {
   "cell_type": "code",
   "execution_count": 2,
   "metadata": {},
   "outputs": [],
   "source": [
    "path = '/home/franzihe/nird_NS9600K/franzihe/data/ERA5/3_hourly/'"
   ]
  },
  {
   "cell_type": "code",
   "execution_count": 3,
   "metadata": {},
   "outputs": [],
   "source": [
    "form = 'netcdf' # 'grib'"
   ]
  },
  {
   "cell_type": "code",
   "execution_count": 4,
   "metadata": {},
   "outputs": [],
   "source": [
    "available_month = {'01':['01'],\n",
    "                   '02':['02'],\n",
    "                   '03':['03'],\n",
    "                   '04':['04'], \n",
    "                   '05':['05'], \n",
    "                   '06':['06'], \n",
    "                   '07':['07'],\n",
    "                   '08':['08'], \n",
    "                   '09':['09'], \n",
    "                   '10':['10'], \n",
    "                   '11':['11'], \n",
    "                   '12':['12']\n",
    "                  }"
   ]
  },
  {
   "cell_type": "code",
   "execution_count": 5,
   "metadata": {},
   "outputs": [],
   "source": [
    "available_years = {\n",
    "                   \"08\": ['2008',],\n",
    "                    }"
   ]
  },
  {
   "cell_type": "code",
   "execution_count": 6,
   "metadata": {},
   "outputs": [],
   "source": [
    "variable = {'tp' :'total_precipitation',\n",
    "            'sf' :'snowfall', }"
   ]
  },
  {
   "cell_type": "code",
   "execution_count": 7,
   "metadata": {},
   "outputs": [
    {
     "name": "stdout",
     "output_type": "stream",
     "text": [
      "/home/franzihe/nird_NS9600K/franzihe/data/ERA5/3_hourly/tp_3hourly_ERA5_200801.nc is downloaded\n",
      "Have downloaded in total : 1 files\n"
     ]
    },
    {
     "name": "stderr",
     "output_type": "stream",
     "text": [
      "2020-11-25 15:35:04,322 INFO Welcome to the CDS\n",
      "2020-11-25 15:35:04,325 INFO Sending request to https://cds.climate.copernicus.eu/api/v2/resources/reanalysis-era5-single-levels\n",
      "2020-11-25 15:35:04,553 INFO Request is queued\n",
      "2020-11-25 15:35:05,601 INFO Request is running\n",
      "2020-11-25 15:35:37,063 INFO Request is completed\n",
      "2020-11-25 15:35:37,066 INFO Downloading http://136.156.132.110/cache-compute-0001/cache/data1/adaptor.mars.internal-1606314905.2912788-16149-5-72bce5b2-63ab-4ea2-99dc-01732d8d7a26.nc to /home/franzihe/nird_NS9600K/franzihe/data/ERA5/3_hourly/tp_3hourly_ERA5_200802.nc (459.4M)\n",
      "2020-11-25 15:37:15,488 INFO Download rate 4.7M/s     \n",
      "2020-11-25 15:37:15,884 INFO Welcome to the CDS\n",
      "2020-11-25 15:37:15,885 INFO Sending request to https://cds.climate.copernicus.eu/api/v2/resources/reanalysis-era5-single-levels\n"
     ]
    },
    {
     "name": "stdout",
     "output_type": "stream",
     "text": [
      "File saved: /home/franzihe/nird_NS9600K/franzihe/data/ERA5/3_hourly/tp_3hourly_ERA5_200802.nc\n"
     ]
    },
    {
     "name": "stderr",
     "output_type": "stream",
     "text": [
      "2020-11-25 15:37:16,085 INFO Request is queued\n",
      "2020-11-25 15:37:17,132 INFO Request is running\n",
      "2020-11-25 15:37:48,838 INFO Request is completed\n",
      "2020-11-25 15:37:48,840 INFO Downloading http://136.156.132.236/cache-compute-0007/cache/data2/adaptor.mars.internal-1606315036.3393977-911-30-fd7e276c-932f-4bf9-a507-28f1c76b3f6d.nc to /home/franzihe/nird_NS9600K/franzihe/data/ERA5/3_hourly/tp_3hourly_ERA5_200803.nc (491.1M)\n",
      "2020-11-25 15:39:35,036 INFO Download rate 4.6M/s     \n",
      "2020-11-25 15:39:35,424 INFO Welcome to the CDS\n"
     ]
    },
    {
     "name": "stdout",
     "output_type": "stream",
     "text": [
      "File saved: /home/franzihe/nird_NS9600K/franzihe/data/ERA5/3_hourly/tp_3hourly_ERA5_200803.nc\n"
     ]
    },
    {
     "name": "stderr",
     "output_type": "stream",
     "text": [
      "2020-11-25 15:39:35,426 INFO Sending request to https://cds.climate.copernicus.eu/api/v2/resources/reanalysis-era5-single-levels\n",
      "2020-11-25 15:39:35,632 INFO Request is queued\n",
      "2020-11-25 15:39:36,674 INFO Request is running\n",
      "2020-11-25 15:40:08,132 INFO Request is completed\n",
      "2020-11-25 15:40:08,134 INFO Downloading http://136.156.132.235/cache-compute-0006/cache/data7/adaptor.mars.internal-1606315175.9933453-15052-9-a244a155-d013-4490-8d6e-420065135d75.nc to /home/franzihe/nird_NS9600K/franzihe/data/ERA5/3_hourly/tp_3hourly_ERA5_200804.nc (475.3M)\n",
      "2020-11-25 15:42:05,299 INFO Download rate 4.1M/s     \n",
      "2020-11-25 15:42:06,729 INFO Welcome to the CDS\n"
     ]
    },
    {
     "name": "stdout",
     "output_type": "stream",
     "text": [
      "File saved: /home/franzihe/nird_NS9600K/franzihe/data/ERA5/3_hourly/tp_3hourly_ERA5_200804.nc\n"
     ]
    },
    {
     "name": "stderr",
     "output_type": "stream",
     "text": [
      "2020-11-25 15:42:06,731 INFO Sending request to https://cds.climate.copernicus.eu/api/v2/resources/reanalysis-era5-single-levels\n",
      "2020-11-25 15:42:07,000 INFO Request is queued\n",
      "2020-11-25 15:42:08,044 INFO Request is running\n",
      "2020-11-25 15:42:39,481 INFO Request is completed\n",
      "2020-11-25 15:42:39,482 INFO Downloading http://136.156.132.198/cache-compute-0003/cache/data5/adaptor.mars.internal-1606315327.104645-26135-27-d6068e35-1c8b-45ef-b83b-e9a18595279c.nc to /home/franzihe/nird_NS9600K/franzihe/data/ERA5/3_hourly/tp_3hourly_ERA5_200805.nc (491.1M)\n",
      "2020-11-25 15:44:34,243 INFO Download rate 4.3M/s     \n"
     ]
    },
    {
     "name": "stdout",
     "output_type": "stream",
     "text": [
      "File saved: /home/franzihe/nird_NS9600K/franzihe/data/ERA5/3_hourly/tp_3hourly_ERA5_200805.nc\n"
     ]
    },
    {
     "name": "stderr",
     "output_type": "stream",
     "text": [
      "2020-11-25 15:44:34,647 INFO Welcome to the CDS\n",
      "2020-11-25 15:44:34,648 INFO Sending request to https://cds.climate.copernicus.eu/api/v2/resources/reanalysis-era5-single-levels\n",
      "2020-11-25 15:44:34,874 INFO Request is queued\n",
      "2020-11-25 15:44:48,289 INFO Request is running\n",
      "2020-11-25 15:45:24,523 INFO Request is completed\n",
      "2020-11-25 15:45:24,525 INFO Downloading http://136.156.133.37/cache-compute-0011/cache/data3/adaptor.mars.internal-1606315483.2772512-32302-30-51630a7b-0ac4-48c1-8a0c-26659a941778.nc to /home/franzihe/nird_NS9600K/franzihe/data/ERA5/3_hourly/tp_3hourly_ERA5_200806.nc (475.3M)\n",
      "2020-11-25 15:47:11,615 INFO Download rate 4.4M/s     \n"
     ]
    },
    {
     "name": "stdout",
     "output_type": "stream",
     "text": [
      "File saved: /home/franzihe/nird_NS9600K/franzihe/data/ERA5/3_hourly/tp_3hourly_ERA5_200806.nc\n"
     ]
    },
    {
     "name": "stderr",
     "output_type": "stream",
     "text": [
      "2020-11-25 15:47:12,015 INFO Welcome to the CDS\n",
      "2020-11-25 15:47:12,017 INFO Sending request to https://cds.climate.copernicus.eu/api/v2/resources/reanalysis-era5-single-levels\n",
      "2020-11-25 15:47:12,198 INFO Request is queued\n",
      "2020-11-25 15:47:13,241 INFO Request is running\n",
      "2020-11-25 15:47:44,681 INFO Request is completed\n",
      "2020-11-25 15:47:44,684 INFO Downloading http://136.156.133.37/cache-compute-0011/cache/data0/adaptor.mars.internal-1606315632.996612-2410-26-4fdee85a-2f5b-4019-b33a-b8d98835b7d4.nc to /home/franzihe/nird_NS9600K/franzihe/data/ERA5/3_hourly/tp_3hourly_ERA5_200807.nc (491.1M)\n",
      "2020-11-25 15:49:14,998 INFO Download rate 5.4M/s     \n"
     ]
    },
    {
     "name": "stdout",
     "output_type": "stream",
     "text": [
      "File saved: /home/franzihe/nird_NS9600K/franzihe/data/ERA5/3_hourly/tp_3hourly_ERA5_200807.nc\n"
     ]
    },
    {
     "name": "stderr",
     "output_type": "stream",
     "text": [
      "2020-11-25 15:49:15,396 INFO Welcome to the CDS\n",
      "2020-11-25 15:49:15,397 INFO Sending request to https://cds.climate.copernicus.eu/api/v2/resources/reanalysis-era5-single-levels\n",
      "2020-11-25 15:49:15,598 INFO Request is queued\n",
      "2020-11-25 15:49:23,885 INFO Request is running\n",
      "2020-11-25 15:50:05,220 INFO Request is completed\n",
      "2020-11-25 15:50:05,222 INFO Downloading http://136.156.133.37/cache-compute-0011/cache/data0/adaptor.mars.internal-1606315763.1191642-10874-5-516b368e-86b7-4754-afcf-4e20bbf313ca.nc to /home/franzihe/nird_NS9600K/franzihe/data/ERA5/3_hourly/tp_3hourly_ERA5_200808.nc (491.1M)\n",
      "2020-11-25 15:51:28,684 INFO Download rate 5.9M/s     \n",
      "2020-11-25 15:51:29,070 INFO Welcome to the CDS\n"
     ]
    },
    {
     "name": "stdout",
     "output_type": "stream",
     "text": [
      "File saved: /home/franzihe/nird_NS9600K/franzihe/data/ERA5/3_hourly/tp_3hourly_ERA5_200808.nc\n"
     ]
    },
    {
     "name": "stderr",
     "output_type": "stream",
     "text": [
      "2020-11-25 15:51:29,073 INFO Sending request to https://cds.climate.copernicus.eu/api/v2/resources/reanalysis-era5-single-levels\n",
      "2020-11-25 15:51:29,398 INFO Request is queued\n",
      "2020-11-25 15:51:34,268 INFO Request is running\n",
      "2020-11-25 15:52:19,016 INFO Request is completed\n",
      "2020-11-25 15:52:19,019 INFO Downloading http://136.156.132.198/cache-compute-0003/cache/data2/adaptor.mars.internal-1606315894.0835516-22243-28-7071ecaf-474d-46a8-b775-62282c17ea4b.nc to /home/franzihe/nird_NS9600K/franzihe/data/ERA5/3_hourly/tp_3hourly_ERA5_200809.nc (475.3M)\n",
      "2020-11-25 15:53:48,778 INFO Download rate 5.3M/s     \n"
     ]
    },
    {
     "name": "stdout",
     "output_type": "stream",
     "text": [
      "File saved: /home/franzihe/nird_NS9600K/franzihe/data/ERA5/3_hourly/tp_3hourly_ERA5_200809.nc\n"
     ]
    },
    {
     "name": "stderr",
     "output_type": "stream",
     "text": [
      "2020-11-25 15:53:49,199 INFO Welcome to the CDS\n",
      "2020-11-25 15:53:49,200 INFO Sending request to https://cds.climate.copernicus.eu/api/v2/resources/reanalysis-era5-single-levels\n",
      "2020-11-25 15:53:49,397 INFO Request is queued\n",
      "2020-11-25 15:54:02,804 INFO Request is running\n",
      "2020-11-25 15:54:39,243 INFO Request is completed\n",
      "2020-11-25 15:54:39,246 INFO Downloading http://136.156.133.36/cache-compute-0010/cache/data9/adaptor.mars.internal-1606316037.919449-16315-34-b34a256b-469d-4c32-9a74-cd7cf8f090a8.nc to /home/franzihe/nird_NS9600K/franzihe/data/ERA5/3_hourly/tp_3hourly_ERA5_200810.nc (491.1M)\n",
      "2020-11-25 15:56:17,826 INFO Download rate 5M/s       \n",
      "2020-11-25 15:56:18,195 INFO Welcome to the CDS\n",
      "2020-11-25 15:56:18,196 INFO Sending request to https://cds.climate.copernicus.eu/api/v2/resources/reanalysis-era5-single-levels\n"
     ]
    },
    {
     "name": "stdout",
     "output_type": "stream",
     "text": [
      "File saved: /home/franzihe/nird_NS9600K/franzihe/data/ERA5/3_hourly/tp_3hourly_ERA5_200810.nc\n"
     ]
    },
    {
     "name": "stderr",
     "output_type": "stream",
     "text": [
      "2020-11-25 15:56:18,430 INFO Request is queued\n",
      "2020-11-25 15:56:19,471 INFO Request is running\n",
      "2020-11-25 15:56:50,918 INFO Request is completed\n",
      "2020-11-25 15:56:50,920 INFO Downloading http://136.156.133.42/cache-compute-0014/cache/data0/adaptor.mars.internal-1606316179.0837996-30930-15-290acd17-a93e-4630-81e4-378a5bb9f52d.nc to /home/franzihe/nird_NS9600K/franzihe/data/ERA5/3_hourly/tp_3hourly_ERA5_200811.nc (475.3M)\n",
      "2020-11-25 15:58:25,011 INFO Download rate 5.1M/s     \n",
      "2020-11-25 15:58:25,364 INFO Welcome to the CDS\n",
      "2020-11-25 15:58:25,365 INFO Sending request to https://cds.climate.copernicus.eu/api/v2/resources/reanalysis-era5-single-levels\n"
     ]
    },
    {
     "name": "stdout",
     "output_type": "stream",
     "text": [
      "File saved: /home/franzihe/nird_NS9600K/franzihe/data/ERA5/3_hourly/tp_3hourly_ERA5_200811.nc\n"
     ]
    },
    {
     "name": "stderr",
     "output_type": "stream",
     "text": [
      "2020-11-25 15:58:25,594 INFO Request is queued\n",
      "2020-11-25 15:58:28,179 INFO Request is running\n",
      "2020-11-25 15:58:58,076 INFO Request is completed\n",
      "2020-11-25 15:58:58,078 INFO Downloading http://136.156.132.236/cache-compute-0007/cache/data0/adaptor.mars.internal-1606316307.033797-10828-29-e43eafde-5377-4368-b557-b8e8d5a9cc80.nc to /home/franzihe/nird_NS9600K/franzihe/data/ERA5/3_hourly/tp_3hourly_ERA5_200812.nc (491.1M)\n",
      "2020-11-25 16:00:26,892 INFO Download rate 5.5M/s     \n",
      "2020-11-25 16:00:27,356 INFO Welcome to the CDS\n",
      "2020-11-25 16:00:27,359 INFO Sending request to https://cds.climate.copernicus.eu/api/v2/resources/reanalysis-era5-single-levels\n"
     ]
    },
    {
     "name": "stdout",
     "output_type": "stream",
     "text": [
      "File saved: /home/franzihe/nird_NS9600K/franzihe/data/ERA5/3_hourly/tp_3hourly_ERA5_200812.nc\n",
      "/home/franzihe/nird_NS9600K/franzihe/data/ERA5/3_hourly/sf_3hourly_ERA5_200801.nc is downloaded\n",
      "Have downloaded in total : 2 files\n"
     ]
    },
    {
     "name": "stderr",
     "output_type": "stream",
     "text": [
      "2020-11-25 16:00:27,592 INFO Request is queued\n",
      "2020-11-25 16:00:28,633 INFO Request is running\n",
      "2020-11-25 16:01:00,066 INFO Request is completed\n",
      "2020-11-25 16:01:00,067 INFO Downloading http://136.156.133.36/cache-compute-0010/cache/data1/adaptor.mars.internal-1606316427.9764445-23245-32-53f34f49-3139-44d0-86c7-7041a7e0bfe7.nc to /home/franzihe/nird_NS9600K/franzihe/data/ERA5/3_hourly/sf_3hourly_ERA5_200802.nc (459.4M)\n",
      "2020-11-25 16:02:32,067 INFO Download rate 5M/s       \n"
     ]
    },
    {
     "name": "stdout",
     "output_type": "stream",
     "text": [
      "File saved: /home/franzihe/nird_NS9600K/franzihe/data/ERA5/3_hourly/sf_3hourly_ERA5_200802.nc\n"
     ]
    },
    {
     "name": "stderr",
     "output_type": "stream",
     "text": [
      "2020-11-25 16:02:32,439 INFO Welcome to the CDS\n",
      "2020-11-25 16:02:32,441 INFO Sending request to https://cds.climate.copernicus.eu/api/v2/resources/reanalysis-era5-single-levels\n",
      "2020-11-25 16:02:32,656 INFO Request is queued\n",
      "2020-11-25 16:02:33,702 INFO Request is running\n",
      "2020-11-25 16:03:05,136 INFO Request is completed\n",
      "2020-11-25 16:03:05,138 INFO Downloading http://136.156.132.153/cache-compute-0002/cache/data6/adaptor.mars.internal-1606316552.8513458-31069-33-ac4aa80f-445c-4570-ae16-6ab96ddaeea2.nc to /home/franzihe/nird_NS9600K/franzihe/data/ERA5/3_hourly/sf_3hourly_ERA5_200803.nc (491.1M)\n",
      "2020-11-25 16:04:40,156 INFO Download rate 5.2M/s     \n"
     ]
    },
    {
     "name": "stdout",
     "output_type": "stream",
     "text": [
      "File saved: /home/franzihe/nird_NS9600K/franzihe/data/ERA5/3_hourly/sf_3hourly_ERA5_200803.nc\n"
     ]
    },
    {
     "name": "stderr",
     "output_type": "stream",
     "text": [
      "2020-11-25 16:04:40,610 INFO Welcome to the CDS\n",
      "2020-11-25 16:04:40,611 INFO Sending request to https://cds.climate.copernicus.eu/api/v2/resources/reanalysis-era5-single-levels\n",
      "2020-11-25 16:04:40,782 INFO Request is queued\n",
      "2020-11-25 16:04:41,825 INFO Request is running\n",
      "2020-11-25 16:05:13,298 INFO Request is completed\n",
      "2020-11-25 16:05:13,300 INFO Downloading http://136.156.132.110/cache-compute-0001/cache/data1/adaptor.mars.internal-1606316681.533988-23152-21-f20b426f-58be-486d-9075-d9e296134fd3.nc to /home/franzihe/nird_NS9600K/franzihe/data/ERA5/3_hourly/sf_3hourly_ERA5_200804.nc (475.3M)\n",
      "2020-11-25 16:06:46,023 INFO Download rate 5.1M/s     \n"
     ]
    },
    {
     "name": "stdout",
     "output_type": "stream",
     "text": [
      "File saved: /home/franzihe/nird_NS9600K/franzihe/data/ERA5/3_hourly/sf_3hourly_ERA5_200804.nc\n"
     ]
    },
    {
     "name": "stderr",
     "output_type": "stream",
     "text": [
      "2020-11-25 16:06:46,460 INFO Welcome to the CDS\n",
      "2020-11-25 16:06:46,462 INFO Sending request to https://cds.climate.copernicus.eu/api/v2/resources/reanalysis-era5-single-levels\n",
      "2020-11-25 16:06:46,683 INFO Request is queued\n",
      "2020-11-25 16:06:47,730 INFO Request is running\n",
      "2020-11-25 16:07:19,160 INFO Request is completed\n",
      "2020-11-25 16:07:19,161 INFO Downloading http://136.156.132.235/cache-compute-0006/cache/data5/adaptor.mars.internal-1606316807.7061567-3492-17-0e505b8d-30d9-464a-97eb-6a0c259998d3.nc to /home/franzihe/nird_NS9600K/franzihe/data/ERA5/3_hourly/sf_3hourly_ERA5_200805.nc (491.1M)\n",
      "2020-11-25 16:08:54,744 INFO Download rate 5.1M/s     \n"
     ]
    },
    {
     "name": "stdout",
     "output_type": "stream",
     "text": [
      "File saved: /home/franzihe/nird_NS9600K/franzihe/data/ERA5/3_hourly/sf_3hourly_ERA5_200805.nc\n"
     ]
    },
    {
     "name": "stderr",
     "output_type": "stream",
     "text": [
      "2020-11-25 16:08:55,223 INFO Welcome to the CDS\n",
      "2020-11-25 16:08:55,224 INFO Sending request to https://cds.climate.copernicus.eu/api/v2/resources/reanalysis-era5-single-levels\n",
      "2020-11-25 16:08:55,461 INFO Request is queued\n",
      "2020-11-25 16:08:56,499 INFO Request is running\n",
      "2020-11-25 16:09:28,142 INFO Request is completed\n",
      "2020-11-25 16:09:28,143 INFO Downloading http://136.156.132.153/cache-compute-0002/cache/data3/adaptor.mars.internal-1606316935.9198644-21801-5-215d7b71-8a09-4621-9bc0-17cf0c3893aa.nc to /home/franzihe/nird_NS9600K/franzihe/data/ERA5/3_hourly/sf_3hourly_ERA5_200806.nc (475.3M)\n",
      "2020-11-25 16:11:19,718 INFO Download rate 4.3M/s     \n"
     ]
    },
    {
     "name": "stdout",
     "output_type": "stream",
     "text": [
      "File saved: /home/franzihe/nird_NS9600K/franzihe/data/ERA5/3_hourly/sf_3hourly_ERA5_200806.nc\n"
     ]
    },
    {
     "name": "stderr",
     "output_type": "stream",
     "text": [
      "2020-11-25 16:11:20,137 INFO Welcome to the CDS\n",
      "2020-11-25 16:11:20,137 INFO Sending request to https://cds.climate.copernicus.eu/api/v2/resources/reanalysis-era5-single-levels\n",
      "2020-11-25 16:11:20,538 INFO Request is queued\n",
      "2020-11-25 16:11:21,579 INFO Request is running\n",
      "2020-11-25 16:11:53,024 INFO Request is completed\n",
      "2020-11-25 16:11:53,026 INFO Downloading http://136.156.133.32/cache-compute-0009/cache/data4/adaptor.mars.internal-1606317080.7933657-17618-5-0841235a-8821-4b38-b100-4040f8c9f3a0.nc to /home/franzihe/nird_NS9600K/franzihe/data/ERA5/3_hourly/sf_3hourly_ERA5_200807.nc (491.1M)\n",
      "2020-11-25 16:13:48,723 INFO Download rate 4.2M/s     \n"
     ]
    },
    {
     "name": "stdout",
     "output_type": "stream",
     "text": [
      "File saved: /home/franzihe/nird_NS9600K/franzihe/data/ERA5/3_hourly/sf_3hourly_ERA5_200807.nc\n"
     ]
    },
    {
     "name": "stderr",
     "output_type": "stream",
     "text": [
      "2020-11-25 16:13:49,105 INFO Welcome to the CDS\n",
      "2020-11-25 16:13:49,106 INFO Sending request to https://cds.climate.copernicus.eu/api/v2/resources/reanalysis-era5-single-levels\n",
      "2020-11-25 16:13:49,301 INFO Request is queued\n",
      "2020-11-25 16:13:50,343 INFO Request is running\n",
      "2020-11-25 16:14:21,779 INFO Request is completed\n",
      "2020-11-25 16:14:21,783 INFO Downloading http://136.156.132.105/cache-compute-0000/cache/data5/adaptor.mars.internal-1606317229.9404063-11626-29-844cd825-551f-4864-84d6-2cff123caca4.nc to /home/franzihe/nird_NS9600K/franzihe/data/ERA5/3_hourly/sf_3hourly_ERA5_200808.nc (491.1M)\n",
      "2020-11-25 16:16:06,490 INFO Download rate 4.7M/s      \n",
      "2020-11-25 16:16:06,920 INFO Welcome to the CDS\n",
      "2020-11-25 16:16:06,921 INFO Sending request to https://cds.climate.copernicus.eu/api/v2/resources/reanalysis-era5-single-levels\n"
     ]
    },
    {
     "name": "stdout",
     "output_type": "stream",
     "text": [
      "File saved: /home/franzihe/nird_NS9600K/franzihe/data/ERA5/3_hourly/sf_3hourly_ERA5_200808.nc\n"
     ]
    },
    {
     "name": "stderr",
     "output_type": "stream",
     "text": [
      "2020-11-25 16:16:07,175 INFO Request is queued\n",
      "2020-11-25 16:16:09,763 INFO Request is running\n",
      "2020-11-25 16:16:56,810 INFO Request is completed\n",
      "2020-11-25 16:16:56,812 INFO Downloading http://136.156.132.105/cache-compute-0000/cache/data8/adaptor.mars.internal-1606317369.2683754-3880-31-5dea58a4-c879-4b39-82da-21a758ece1ca.nc to /home/franzihe/nird_NS9600K/franzihe/data/ERA5/3_hourly/sf_3hourly_ERA5_200809.nc (475.3M)\n",
      "2020-11-25 16:18:41,599 INFO Download rate 4.5M/s     \n"
     ]
    },
    {
     "name": "stdout",
     "output_type": "stream",
     "text": [
      "File saved: /home/franzihe/nird_NS9600K/franzihe/data/ERA5/3_hourly/sf_3hourly_ERA5_200809.nc\n"
     ]
    },
    {
     "name": "stderr",
     "output_type": "stream",
     "text": [
      "2020-11-25 16:18:42,091 INFO Welcome to the CDS\n",
      "2020-11-25 16:18:42,092 INFO Sending request to https://cds.climate.copernicus.eu/api/v2/resources/reanalysis-era5-single-levels\n",
      "2020-11-25 16:18:42,319 INFO Request is queued\n",
      "2020-11-25 16:18:44,897 INFO Request is running\n",
      "2020-11-25 16:19:31,943 INFO Request is completed\n",
      "2020-11-25 16:19:31,945 INFO Downloading http://136.156.132.210/cache-compute-0005/cache/data2/adaptor.mars.internal-1606317524.3586953-13141-15-a24b3603-40be-4860-b70b-176d326bbbe9.nc to /home/franzihe/nird_NS9600K/franzihe/data/ERA5/3_hourly/sf_3hourly_ERA5_200810.nc (491.1M)\n",
      "2020-11-25 16:21:01,639 INFO Download rate 5.5M/s     \n"
     ]
    },
    {
     "name": "stdout",
     "output_type": "stream",
     "text": [
      "File saved: /home/franzihe/nird_NS9600K/franzihe/data/ERA5/3_hourly/sf_3hourly_ERA5_200810.nc\n"
     ]
    },
    {
     "name": "stderr",
     "output_type": "stream",
     "text": [
      "2020-11-25 16:21:02,121 INFO Welcome to the CDS\n",
      "2020-11-25 16:21:02,123 INFO Sending request to https://cds.climate.copernicus.eu/api/v2/resources/reanalysis-era5-single-levels\n",
      "2020-11-25 16:21:02,326 INFO Request is queued\n",
      "2020-11-25 16:21:03,369 INFO Request is running\n",
      "2020-11-25 16:21:34,810 INFO Request is completed\n",
      "2020-11-25 16:21:34,812 INFO Downloading http://136.156.133.36/cache-compute-0010/cache/data2/adaptor.mars.internal-1606317662.6000543-5408-17-246d5f38-158e-4f9e-a5f0-4844b2085f61.nc to /home/franzihe/nird_NS9600K/franzihe/data/ERA5/3_hourly/sf_3hourly_ERA5_200811.nc (475.3M)\n",
      "2020-11-25 16:23:01,796 INFO Download rate 5.5M/s     \n"
     ]
    },
    {
     "name": "stdout",
     "output_type": "stream",
     "text": [
      "File saved: /home/franzihe/nird_NS9600K/franzihe/data/ERA5/3_hourly/sf_3hourly_ERA5_200811.nc\n"
     ]
    },
    {
     "name": "stderr",
     "output_type": "stream",
     "text": [
      "2020-11-25 16:23:02,336 INFO Welcome to the CDS\n",
      "2020-11-25 16:23:02,338 INFO Sending request to https://cds.climate.copernicus.eu/api/v2/resources/reanalysis-era5-single-levels\n",
      "2020-11-25 16:23:02,516 INFO Request is queued\n",
      "2020-11-25 16:23:05,101 INFO Request is running\n",
      "2020-11-25 16:23:34,997 INFO Request is completed\n",
      "2020-11-25 16:23:34,998 INFO Downloading http://136.156.133.25/cache-compute-0008/cache/data1/adaptor.mars.internal-1606317783.6606207-25760-19-25b7c16e-8351-4978-bcbc-a954bbaddbbe.nc to /home/franzihe/nird_NS9600K/franzihe/data/ERA5/3_hourly/sf_3hourly_ERA5_200812.nc (491.1M)\n",
      "2020-11-25 16:25:07,692 INFO Download rate 5.3M/s     \n"
     ]
    },
    {
     "name": "stdout",
     "output_type": "stream",
     "text": [
      "File saved: /home/franzihe/nird_NS9600K/franzihe/data/ERA5/3_hourly/sf_3hourly_ERA5_200812.nc\n"
     ]
    }
   ],
   "source": [
    "counter = 0\n",
    "for keys, var in variable.items():\n",
    "    for years in available_years:\n",
    "        for months in available_month:\n",
    "            if form == 'netcdf':\n",
    "                _ff = 'nc'\n",
    "            elif form == 'grib':\n",
    "                _ff = 'grib'\n",
    "                \n",
    "            filename = '{keys}_3hourly_ERA5_{starty}{startm}.{format}'.format(keys = keys,\n",
    "                                                                                   starty = available_years[years][0],\n",
    "                                                                                   startm = available_month[months][0], \n",
    "                                                                                      format = _ff)\n",
    "            files = glob.glob(path+filename)\n",
    "            if path + filename in files:\n",
    "                print(path + filename + ' is downloaded')\n",
    "                counter += 1\n",
    "                print(\"Have downloaded in total : \" + str(counter) + \" files\")\n",
    "            else:\n",
    "                c = cdsapi.Client()\n",
    "\n",
    "                c.retrieve(\n",
    "                    'reanalysis-era5-single-levels',\n",
    "                    {\n",
    "                        'product_type': 'reanalysis',\n",
    "                        'format': form,\n",
    "                        'variable': var,\n",
    "                        'year': available_years[years],\n",
    "                        'month': available_month[months],\n",
    "                        'day': [\n",
    "                            '01', '02', '03',\n",
    "                            '04', '05', '06',\n",
    "                            '07', '08', '09',\n",
    "                            '10', '11', '12',\n",
    "                            '13', '14', '15',\n",
    "                            '16', '17', '18',\n",
    "                            '19', '20', '21',\n",
    "                            '22', '23', '24',\n",
    "                            '25', '26', '27',\n",
    "                            '28', '29', '30',\n",
    "                            '31',\n",
    "                        ],\n",
    "                        'time': [\n",
    "                            '00:00', '03:00', '06:00',\n",
    "                            '09:00', '12:00', '15:00',\n",
    "                            '18:00', '21:00',\n",
    "                        ],\n",
    "                    },\n",
    "                    path + filename)\n",
    "                print('File saved: {}'.format(path + filename))"
   ]
  },
  {
   "cell_type": "code",
   "execution_count": null,
   "metadata": {},
   "outputs": [],
   "source": []
  }
 ],
 "metadata": {
  "jupytext": {
   "formats": "ipynb,py:light"
  },
  "kernelspec": {
   "display_name": "Python 3",
   "language": "python",
   "name": "python3"
  },
  "language_info": {
   "codemirror_mode": {
    "name": "ipython",
    "version": 3
   },
   "file_extension": ".py",
   "mimetype": "text/x-python",
   "name": "python",
   "nbconvert_exporter": "python",
   "pygments_lexer": "ipython3",
   "version": "3.7.3"
  }
 },
 "nbformat": 4,
 "nbformat_minor": 4
}
