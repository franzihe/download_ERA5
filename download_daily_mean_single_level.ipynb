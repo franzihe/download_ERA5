{
 "cells": [
  {
   "cell_type": "markdown",
   "metadata": {},
   "source": [
    "# ERA5 monthly averaged data on single levels from 1985 to 2014\n",
    "\n",
    "[ERA5 daily statistics calculator](https://cds.climate.copernicus.eu/apps/user-apps/app-c3s-daily-era5-statistics?dataset=reanalysis-era5-single-levels&product_type=reanalysis&variable_e5sl=100m_u_component_of_wind&pressure_level_e5sl=-&statistic=daily_mean&year_e5sl=2022&month=01&frequency=1-hourly&time_zone=UTC%2B00:00&grid_e5=0.25/0.25&area.lat:record:list:float=-90&area.lat:record:list:float=90&area.lon:record:list:float=-180&area.lon:record:list:float=180)\n",
    "\n",
    "[ERA5 statistics calculator documentation](https://cds.climate.copernicus.eu/cdsapp#!/software/app-c3s-daily-era5-statistics?tab=doc)\n",
    "\n",
    "[Retrieve daily ERA5 data using the CDS API](https://confluence.ecmwf.int/pages/viewpage.action?pageId=228867588)\n",
    "\n",
    "CDS API script to use CDS service to retrieve daily ERA5* variables and iterate over all months in the specified years.\n",
    " \n",
    "### Requires:\n",
    "1) the CDS API to be installed and working on your system\n",
    "2) You have agreed to the ERA5 Licence (via the CDS web page)\n",
    "3) Selection of required variable, daily statistic, etc\n",
    " \n",
    "### Output:\n",
    "1) separate netCDF file for chosen daily statistic/variable for each month"
   ]
  },
  {
   "cell_type": "code",
   "execution_count": 1,
   "metadata": {},
   "outputs": [
    {
     "name": "stdout",
     "output_type": "stream",
     "text": [
      "mimi.uio.no\n"
     ]
    }
   ],
   "source": [
    "import cdsapi\n",
    "import requests\n",
    "from glob import glob\n",
    "import os\n",
    "import pathlib\n",
    "import sys\n",
    "import socket\n",
    "hostname = socket.gethostname()\n",
    "\n",
    "abs_path = str(pathlib.Path(hostname).parent.absolute())\n",
    "WORKDIR = abs_path[:- (len(abs_path.split('/')[-2] + abs_path.split('/')[-1])+1)]\n",
    "\n",
    "\n",
    "if \"mimi\" in hostname:\n",
    "    print(hostname)\n",
    "    DATA_DIR = \"/scratch/franzihe/\"\n",
    "elif \"glefsekaldt\" in hostname: \n",
    "    DATA_DIR = \"/home/franzihe/Data/\"\n",
    "\n",
    "INPUT_DATA_DIR = os.path.join(DATA_DIR, 'input')\n",
    "\n",
    "era_out = os.path.join(INPUT_DATA_DIR, 'ERA5/daily_means/')\n",
    "\n",
    "\n",
    "# make input directory\n",
    "try:\n",
    "    os.mkdir(era_out)\n",
    "except OSError:\n",
    "    pass\n",
    "\n"
   ]
  },
  {
   "cell_type": "code",
   "execution_count": 2,
   "metadata": {},
   "outputs": [],
   "source": [
    "# Uncomment years as required\n",
    " \n",
    "YEARS =  [\n",
    "            '2007', '2008',\n",
    "           '2009', '2010', \n",
    "] "
   ]
  },
  {
   "cell_type": "code",
   "execution_count": 3,
   "metadata": {},
   "outputs": [],
   "source": [
    "# Retrieve all months for a given year.\n",
    "MONTHS = [\n",
    "\"01\", \"02\", \"03\", \"04\", \"05\", \"06\",\n",
    "\"07\", \"08\", \"09\", \"10\", \"11\", \"12\"\n",
    "]\n"
   ]
  },
  {
   "cell_type": "code",
   "execution_count": 4,
   "metadata": {},
   "outputs": [],
   "source": [
    "# select your variable; name must be a valid ERA5 CDS API name.\n",
    "# var = \"2m_temperature\"\n",
    "variable = {\n",
    "            'sf'   : 'snowfall', \n",
    "            'tclw' : 'total_column_cloud_liquid_water',\n",
    "            'tciw' : 'total_column_cloud_ice_water',\n",
    "            # 'tcslw': 'total_column_supercooled_liquid_water',\n",
    "            'tcrw' : 'total_column_rain_water',\n",
    "            'tcsw' : 'total_column_snow_water',\n",
    "            # 'tcw'  : 'total_column_water',\n",
    "            # 'tcwv' : 'total_column_water_vapour',\n",
    "            '2t'   : '2m_temperature', \n",
    "            'tp'   : '\ttotal_precipitation'\n",
    "            }\n",
    "\n",
    "stat = \"daily_mean\"\n",
    "latitude = [[-90, -45], [45, 90]] # geographical latitude South, North"
   ]
  },
  {
   "cell_type": "code",
   "execution_count": 5,
   "metadata": {},
   "outputs": [
    {
     "name": "stdout",
     "output_type": "stream",
     "text": [
      "/scratch/franzihe/input/ERA5/daily_means/sf_daily_mean_-90_-45_ERA5_200701.nc is downloaded\n",
      "Have downloaded in total : 1 files\n",
      "/scratch/franzihe/input/ERA5/daily_means/sf_daily_mean_-90_-45_ERA5_200702.nc is downloaded\n",
      "Have downloaded in total : 2 files\n",
      "/scratch/franzihe/input/ERA5/daily_means/sf_daily_mean_-90_-45_ERA5_200703.nc is downloaded\n",
      "Have downloaded in total : 3 files\n",
      "/scratch/franzihe/input/ERA5/daily_means/sf_daily_mean_-90_-45_ERA5_200704.nc is downloaded\n",
      "Have downloaded in total : 4 files\n",
      "/scratch/franzihe/input/ERA5/daily_means/sf_daily_mean_-90_-45_ERA5_200705.nc is downloaded\n",
      "Have downloaded in total : 5 files\n",
      "/scratch/franzihe/input/ERA5/daily_means/sf_daily_mean_-90_-45_ERA5_200706.nc is downloaded\n",
      "Have downloaded in total : 6 files\n",
      "/scratch/franzihe/input/ERA5/daily_means/sf_daily_mean_-90_-45_ERA5_200707.nc is downloaded\n",
      "Have downloaded in total : 7 files\n",
      "/scratch/franzihe/input/ERA5/daily_means/sf_daily_mean_-90_-45_ERA5_200708.nc is downloaded\n",
      "Have downloaded in total : 8 files\n",
      "/scratch/franzihe/input/ERA5/daily_means/sf_daily_mean_-90_-45_ERA5_200709.nc is downloaded\n",
      "Have downloaded in total : 9 files\n",
      "/scratch/franzihe/input/ERA5/daily_means/sf_daily_mean_-90_-45_ERA5_200710.nc is downloaded\n",
      "Have downloaded in total : 10 files\n",
      "/scratch/franzihe/input/ERA5/daily_means/sf_daily_mean_-90_-45_ERA5_200711.nc is downloaded\n",
      "Have downloaded in total : 11 files\n",
      "/scratch/franzihe/input/ERA5/daily_means/sf_daily_mean_-90_-45_ERA5_200712.nc is downloaded\n",
      "Have downloaded in total : 12 files\n",
      "/scratch/franzihe/input/ERA5/daily_means/sf_daily_mean_-90_-45_ERA5_200801.nc is downloaded\n",
      "Have downloaded in total : 13 files\n",
      "/scratch/franzihe/input/ERA5/daily_means/sf_daily_mean_-90_-45_ERA5_200802.nc is downloaded\n",
      "Have downloaded in total : 14 files\n",
      "/scratch/franzihe/input/ERA5/daily_means/sf_daily_mean_-90_-45_ERA5_200803.nc is downloaded\n",
      "Have downloaded in total : 15 files\n",
      "/scratch/franzihe/input/ERA5/daily_means/sf_daily_mean_-90_-45_ERA5_200804.nc is downloaded\n",
      "Have downloaded in total : 16 files\n",
      "/scratch/franzihe/input/ERA5/daily_means/sf_daily_mean_-90_-45_ERA5_200805.nc is downloaded\n",
      "Have downloaded in total : 17 files\n",
      "/scratch/franzihe/input/ERA5/daily_means/sf_daily_mean_-90_-45_ERA5_200806.nc is downloaded\n",
      "Have downloaded in total : 18 files\n",
      "/scratch/franzihe/input/ERA5/daily_means/sf_daily_mean_-90_-45_ERA5_200807.nc is downloaded\n",
      "Have downloaded in total : 19 files\n",
      "/scratch/franzihe/input/ERA5/daily_means/sf_daily_mean_-90_-45_ERA5_200808.nc is downloaded\n",
      "Have downloaded in total : 20 files\n",
      "/scratch/franzihe/input/ERA5/daily_means/sf_daily_mean_-90_-45_ERA5_200809.nc is downloaded\n",
      "Have downloaded in total : 21 files\n",
      "/scratch/franzihe/input/ERA5/daily_means/sf_daily_mean_-90_-45_ERA5_200810.nc is downloaded\n",
      "Have downloaded in total : 22 files\n",
      "/scratch/franzihe/input/ERA5/daily_means/sf_daily_mean_-90_-45_ERA5_200811.nc is downloaded\n",
      "Have downloaded in total : 23 files\n",
      "/scratch/franzihe/input/ERA5/daily_means/sf_daily_mean_-90_-45_ERA5_200812.nc is downloaded\n",
      "Have downloaded in total : 24 files\n",
      "/scratch/franzihe/input/ERA5/daily_means/sf_daily_mean_-90_-45_ERA5_200901.nc is downloaded\n",
      "Have downloaded in total : 25 files\n",
      "/scratch/franzihe/input/ERA5/daily_means/sf_daily_mean_-90_-45_ERA5_200902.nc is downloaded\n",
      "Have downloaded in total : 26 files\n",
      "/scratch/franzihe/input/ERA5/daily_means/sf_daily_mean_-90_-45_ERA5_200903.nc is downloaded\n",
      "Have downloaded in total : 27 files\n",
      "/scratch/franzihe/input/ERA5/daily_means/sf_daily_mean_-90_-45_ERA5_200904.nc is downloaded\n",
      "Have downloaded in total : 28 files\n",
      "/scratch/franzihe/input/ERA5/daily_means/sf_daily_mean_-90_-45_ERA5_200905.nc is downloaded\n",
      "Have downloaded in total : 29 files\n",
      "/scratch/franzihe/input/ERA5/daily_means/sf_daily_mean_-90_-45_ERA5_200906.nc is downloaded\n",
      "Have downloaded in total : 30 files\n",
      "/scratch/franzihe/input/ERA5/daily_means/sf_daily_mean_-90_-45_ERA5_200907.nc is downloaded\n",
      "Have downloaded in total : 31 files\n",
      "/scratch/franzihe/input/ERA5/daily_means/sf_daily_mean_-90_-45_ERA5_200908.nc is downloaded\n",
      "Have downloaded in total : 32 files\n",
      "/scratch/franzihe/input/ERA5/daily_means/sf_daily_mean_-90_-45_ERA5_200909.nc is downloaded\n",
      "Have downloaded in total : 33 files\n",
      "/scratch/franzihe/input/ERA5/daily_means/sf_daily_mean_-90_-45_ERA5_200910.nc is downloaded\n",
      "Have downloaded in total : 34 files\n",
      "/scratch/franzihe/input/ERA5/daily_means/sf_daily_mean_-90_-45_ERA5_200911.nc is downloaded\n",
      "Have downloaded in total : 35 files\n",
      "/scratch/franzihe/input/ERA5/daily_means/sf_daily_mean_-90_-45_ERA5_200912.nc is downloaded\n",
      "Have downloaded in total : 36 files\n",
      "/scratch/franzihe/input/ERA5/daily_means/sf_daily_mean_-90_-45_ERA5_201001.nc is downloaded\n",
      "Have downloaded in total : 37 files\n",
      "/scratch/franzihe/input/ERA5/daily_means/sf_daily_mean_-90_-45_ERA5_201002.nc is downloaded\n",
      "Have downloaded in total : 38 files\n",
      "/scratch/franzihe/input/ERA5/daily_means/sf_daily_mean_-90_-45_ERA5_201003.nc is downloaded\n",
      "Have downloaded in total : 39 files\n",
      "/scratch/franzihe/input/ERA5/daily_means/sf_daily_mean_-90_-45_ERA5_201004.nc is downloaded\n",
      "Have downloaded in total : 40 files\n",
      "/scratch/franzihe/input/ERA5/daily_means/sf_daily_mean_-90_-45_ERA5_201005.nc is downloaded\n",
      "Have downloaded in total : 41 files\n",
      "/scratch/franzihe/input/ERA5/daily_means/sf_daily_mean_-90_-45_ERA5_201006.nc is downloaded\n",
      "Have downloaded in total : 42 files\n",
      "/scratch/franzihe/input/ERA5/daily_means/sf_daily_mean_-90_-45_ERA5_201007.nc is downloaded\n",
      "Have downloaded in total : 43 files\n",
      "/scratch/franzihe/input/ERA5/daily_means/sf_daily_mean_-90_-45_ERA5_201008.nc is downloaded\n",
      "Have downloaded in total : 44 files\n",
      "/scratch/franzihe/input/ERA5/daily_means/sf_daily_mean_-90_-45_ERA5_201009.nc is downloaded\n",
      "Have downloaded in total : 45 files\n",
      "/scratch/franzihe/input/ERA5/daily_means/sf_daily_mean_-90_-45_ERA5_201010.nc is downloaded\n",
      "Have downloaded in total : 46 files\n",
      "/scratch/franzihe/input/ERA5/daily_means/sf_daily_mean_-90_-45_ERA5_201011.nc is downloaded\n",
      "Have downloaded in total : 47 files\n",
      "/scratch/franzihe/input/ERA5/daily_means/sf_daily_mean_-90_-45_ERA5_201012.nc is downloaded\n",
      "Have downloaded in total : 48 files\n",
      "/scratch/franzihe/input/ERA5/daily_means/tclw_daily_mean_-90_-45_ERA5_200701.nc is downloaded\n",
      "Have downloaded in total : 49 files\n",
      "/scratch/franzihe/input/ERA5/daily_means/tclw_daily_mean_-90_-45_ERA5_200702.nc is downloaded\n",
      "Have downloaded in total : 50 files\n",
      "/scratch/franzihe/input/ERA5/daily_means/tclw_daily_mean_-90_-45_ERA5_200703.nc is downloaded\n",
      "Have downloaded in total : 51 files\n",
      "/scratch/franzihe/input/ERA5/daily_means/tclw_daily_mean_-90_-45_ERA5_200704.nc is downloaded\n",
      "Have downloaded in total : 52 files\n",
      "/scratch/franzihe/input/ERA5/daily_means/tclw_daily_mean_-90_-45_ERA5_200705.nc is downloaded\n",
      "Have downloaded in total : 53 files\n",
      "/scratch/franzihe/input/ERA5/daily_means/tclw_daily_mean_-90_-45_ERA5_200706.nc is downloaded\n",
      "Have downloaded in total : 54 files\n",
      "/scratch/franzihe/input/ERA5/daily_means/tclw_daily_mean_-90_-45_ERA5_200707.nc is downloaded\n",
      "Have downloaded in total : 55 files\n",
      "/scratch/franzihe/input/ERA5/daily_means/tclw_daily_mean_-90_-45_ERA5_200708.nc is downloaded\n",
      "Have downloaded in total : 56 files\n",
      "/scratch/franzihe/input/ERA5/daily_means/tclw_daily_mean_-90_-45_ERA5_200709.nc is downloaded\n",
      "Have downloaded in total : 57 files\n",
      "/scratch/franzihe/input/ERA5/daily_means/tclw_daily_mean_-90_-45_ERA5_200710.nc is downloaded\n",
      "Have downloaded in total : 58 files\n",
      "/scratch/franzihe/input/ERA5/daily_means/tclw_daily_mean_-90_-45_ERA5_200711.nc is downloaded\n",
      "Have downloaded in total : 59 files\n",
      "/scratch/franzihe/input/ERA5/daily_means/tclw_daily_mean_-90_-45_ERA5_200712.nc is downloaded\n",
      "Have downloaded in total : 60 files\n",
      "/scratch/franzihe/input/ERA5/daily_means/tclw_daily_mean_-90_-45_ERA5_200801.nc is downloaded\n",
      "Have downloaded in total : 61 files\n",
      "/scratch/franzihe/input/ERA5/daily_means/tclw_daily_mean_-90_-45_ERA5_200802.nc is downloaded\n",
      "Have downloaded in total : 62 files\n",
      "/scratch/franzihe/input/ERA5/daily_means/tclw_daily_mean_-90_-45_ERA5_200803.nc is downloaded\n",
      "Have downloaded in total : 63 files\n",
      "/scratch/franzihe/input/ERA5/daily_means/tclw_daily_mean_-90_-45_ERA5_200804.nc is downloaded\n",
      "Have downloaded in total : 64 files\n",
      "/scratch/franzihe/input/ERA5/daily_means/tclw_daily_mean_-90_-45_ERA5_200805.nc is downloaded\n",
      "Have downloaded in total : 65 files\n",
      "/scratch/franzihe/input/ERA5/daily_means/tclw_daily_mean_-90_-45_ERA5_200806.nc is downloaded\n",
      "Have downloaded in total : 66 files\n",
      "/scratch/franzihe/input/ERA5/daily_means/tclw_daily_mean_-90_-45_ERA5_200807.nc is downloaded\n",
      "Have downloaded in total : 67 files\n",
      "/scratch/franzihe/input/ERA5/daily_means/tclw_daily_mean_-90_-45_ERA5_200808.nc is downloaded\n",
      "Have downloaded in total : 68 files\n",
      "/scratch/franzihe/input/ERA5/daily_means/tclw_daily_mean_-90_-45_ERA5_200809.nc is downloaded\n",
      "Have downloaded in total : 69 files\n",
      "/scratch/franzihe/input/ERA5/daily_means/tclw_daily_mean_-90_-45_ERA5_200810.nc is downloaded\n",
      "Have downloaded in total : 70 files\n",
      "/scratch/franzihe/input/ERA5/daily_means/tclw_daily_mean_-90_-45_ERA5_200811.nc is downloaded\n",
      "Have downloaded in total : 71 files\n",
      "/scratch/franzihe/input/ERA5/daily_means/tclw_daily_mean_-90_-45_ERA5_200812.nc is downloaded\n",
      "Have downloaded in total : 72 files\n",
      "/scratch/franzihe/input/ERA5/daily_means/tclw_daily_mean_-90_-45_ERA5_200901.nc is downloaded\n",
      "Have downloaded in total : 73 files\n",
      "/scratch/franzihe/input/ERA5/daily_means/tclw_daily_mean_-90_-45_ERA5_200902.nc is downloaded\n",
      "Have downloaded in total : 74 files\n",
      "/scratch/franzihe/input/ERA5/daily_means/tclw_daily_mean_-90_-45_ERA5_200903.nc is downloaded\n",
      "Have downloaded in total : 75 files\n",
      "/scratch/franzihe/input/ERA5/daily_means/tclw_daily_mean_-90_-45_ERA5_200904.nc is downloaded\n",
      "Have downloaded in total : 76 files\n",
      "/scratch/franzihe/input/ERA5/daily_means/tclw_daily_mean_-90_-45_ERA5_200905.nc is downloaded\n",
      "Have downloaded in total : 77 files\n",
      "/scratch/franzihe/input/ERA5/daily_means/tclw_daily_mean_-90_-45_ERA5_200906.nc is downloaded\n",
      "Have downloaded in total : 78 files\n",
      "/scratch/franzihe/input/ERA5/daily_means/tclw_daily_mean_-90_-45_ERA5_200907.nc is downloaded\n",
      "Have downloaded in total : 79 files\n",
      "/scratch/franzihe/input/ERA5/daily_means/tclw_daily_mean_-90_-45_ERA5_200908.nc is downloaded\n",
      "Have downloaded in total : 80 files\n",
      "/scratch/franzihe/input/ERA5/daily_means/tclw_daily_mean_-90_-45_ERA5_200909.nc is downloaded\n",
      "Have downloaded in total : 81 files\n",
      "/scratch/franzihe/input/ERA5/daily_means/tclw_daily_mean_-90_-45_ERA5_200910.nc is downloaded\n",
      "Have downloaded in total : 82 files\n",
      "/scratch/franzihe/input/ERA5/daily_means/tclw_daily_mean_-90_-45_ERA5_200911.nc is downloaded\n",
      "Have downloaded in total : 83 files\n",
      "/scratch/franzihe/input/ERA5/daily_means/tclw_daily_mean_-90_-45_ERA5_200912.nc is downloaded\n",
      "Have downloaded in total : 84 files\n",
      "/scratch/franzihe/input/ERA5/daily_means/tclw_daily_mean_-90_-45_ERA5_201001.nc is downloaded\n",
      "Have downloaded in total : 85 files\n",
      "/scratch/franzihe/input/ERA5/daily_means/tclw_daily_mean_-90_-45_ERA5_201002.nc is downloaded\n",
      "Have downloaded in total : 86 files\n",
      "/scratch/franzihe/input/ERA5/daily_means/tclw_daily_mean_-90_-45_ERA5_201003.nc is downloaded\n",
      "Have downloaded in total : 87 files\n",
      "/scratch/franzihe/input/ERA5/daily_means/tclw_daily_mean_-90_-45_ERA5_201004.nc is downloaded\n",
      "Have downloaded in total : 88 files\n",
      "/scratch/franzihe/input/ERA5/daily_means/tclw_daily_mean_-90_-45_ERA5_201005.nc is downloaded\n",
      "Have downloaded in total : 89 files\n",
      "/scratch/franzihe/input/ERA5/daily_means/tclw_daily_mean_-90_-45_ERA5_201006.nc is downloaded\n",
      "Have downloaded in total : 90 files\n",
      "/scratch/franzihe/input/ERA5/daily_means/tclw_daily_mean_-90_-45_ERA5_201007.nc is downloaded\n",
      "Have downloaded in total : 91 files\n",
      "/scratch/franzihe/input/ERA5/daily_means/tclw_daily_mean_-90_-45_ERA5_201008.nc is downloaded\n",
      "Have downloaded in total : 92 files\n",
      "/scratch/franzihe/input/ERA5/daily_means/tclw_daily_mean_-90_-45_ERA5_201009.nc is downloaded\n",
      "Have downloaded in total : 93 files\n",
      "/scratch/franzihe/input/ERA5/daily_means/tclw_daily_mean_-90_-45_ERA5_201010.nc is downloaded\n",
      "Have downloaded in total : 94 files\n",
      "/scratch/franzihe/input/ERA5/daily_means/tclw_daily_mean_-90_-45_ERA5_201011.nc is downloaded\n",
      "Have downloaded in total : 95 files\n",
      "/scratch/franzihe/input/ERA5/daily_means/tclw_daily_mean_-90_-45_ERA5_201012.nc is downloaded\n",
      "Have downloaded in total : 96 files\n",
      "/scratch/franzihe/input/ERA5/daily_means/tciw_daily_mean_-90_-45_ERA5_200701.nc is downloaded\n",
      "Have downloaded in total : 97 files\n",
      "/scratch/franzihe/input/ERA5/daily_means/tciw_daily_mean_-90_-45_ERA5_200702.nc is downloaded\n",
      "Have downloaded in total : 98 files\n",
      "/scratch/franzihe/input/ERA5/daily_means/tciw_daily_mean_-90_-45_ERA5_200703.nc is downloaded\n",
      "Have downloaded in total : 99 files\n",
      "/scratch/franzihe/input/ERA5/daily_means/tciw_daily_mean_-90_-45_ERA5_200704.nc is downloaded\n",
      "Have downloaded in total : 100 files\n",
      "/scratch/franzihe/input/ERA5/daily_means/tciw_daily_mean_-90_-45_ERA5_200705.nc is downloaded\n",
      "Have downloaded in total : 101 files\n",
      "/scratch/franzihe/input/ERA5/daily_means/tciw_daily_mean_-90_-45_ERA5_200706.nc is downloaded\n",
      "Have downloaded in total : 102 files\n",
      "/scratch/franzihe/input/ERA5/daily_means/tciw_daily_mean_-90_-45_ERA5_200707.nc is downloaded\n",
      "Have downloaded in total : 103 files\n",
      "/scratch/franzihe/input/ERA5/daily_means/tciw_daily_mean_-90_-45_ERA5_200708.nc is downloaded\n",
      "Have downloaded in total : 104 files\n",
      "/scratch/franzihe/input/ERA5/daily_means/tciw_daily_mean_-90_-45_ERA5_200709.nc is downloaded\n",
      "Have downloaded in total : 105 files\n",
      "/scratch/franzihe/input/ERA5/daily_means/tciw_daily_mean_-90_-45_ERA5_200710.nc is downloaded\n",
      "Have downloaded in total : 106 files\n",
      "/scratch/franzihe/input/ERA5/daily_means/tciw_daily_mean_-90_-45_ERA5_200711.nc is downloaded\n",
      "Have downloaded in total : 107 files\n",
      "/scratch/franzihe/input/ERA5/daily_means/tciw_daily_mean_-90_-45_ERA5_200712.nc is downloaded\n",
      "Have downloaded in total : 108 files\n",
      "/scratch/franzihe/input/ERA5/daily_means/tciw_daily_mean_-90_-45_ERA5_200801.nc is downloaded\n",
      "Have downloaded in total : 109 files\n",
      "/scratch/franzihe/input/ERA5/daily_means/tciw_daily_mean_-90_-45_ERA5_200802.nc is downloaded\n",
      "Have downloaded in total : 110 files\n",
      "/scratch/franzihe/input/ERA5/daily_means/tciw_daily_mean_-90_-45_ERA5_200803.nc is downloaded\n",
      "Have downloaded in total : 111 files\n",
      "/scratch/franzihe/input/ERA5/daily_means/tciw_daily_mean_-90_-45_ERA5_200804.nc is downloaded\n",
      "Have downloaded in total : 112 files\n",
      "/scratch/franzihe/input/ERA5/daily_means/tciw_daily_mean_-90_-45_ERA5_200805.nc is downloaded\n",
      "Have downloaded in total : 113 files\n",
      "/scratch/franzihe/input/ERA5/daily_means/tciw_daily_mean_-90_-45_ERA5_200806.nc is downloaded\n",
      "Have downloaded in total : 114 files\n",
      "/scratch/franzihe/input/ERA5/daily_means/tciw_daily_mean_-90_-45_ERA5_200807.nc is downloaded\n",
      "Have downloaded in total : 115 files\n",
      "/scratch/franzihe/input/ERA5/daily_means/tciw_daily_mean_-90_-45_ERA5_200808.nc is downloaded\n",
      "Have downloaded in total : 116 files\n",
      "/scratch/franzihe/input/ERA5/daily_means/tciw_daily_mean_-90_-45_ERA5_200809.nc is downloaded\n",
      "Have downloaded in total : 117 files\n",
      "/scratch/franzihe/input/ERA5/daily_means/tciw_daily_mean_-90_-45_ERA5_200810.nc is downloaded\n",
      "Have downloaded in total : 118 files\n",
      "/scratch/franzihe/input/ERA5/daily_means/tciw_daily_mean_-90_-45_ERA5_200811.nc is downloaded\n",
      "Have downloaded in total : 119 files\n",
      "/scratch/franzihe/input/ERA5/daily_means/tciw_daily_mean_-90_-45_ERA5_200812.nc is downloaded\n",
      "Have downloaded in total : 120 files\n",
      "/scratch/franzihe/input/ERA5/daily_means/tciw_daily_mean_-90_-45_ERA5_200901.nc is downloaded\n",
      "Have downloaded in total : 121 files\n",
      "/scratch/franzihe/input/ERA5/daily_means/tciw_daily_mean_-90_-45_ERA5_200902.nc is downloaded\n",
      "Have downloaded in total : 122 files\n",
      "/scratch/franzihe/input/ERA5/daily_means/tciw_daily_mean_-90_-45_ERA5_200903.nc is downloaded\n",
      "Have downloaded in total : 123 files\n",
      "/scratch/franzihe/input/ERA5/daily_means/tciw_daily_mean_-90_-45_ERA5_200904.nc is downloaded\n",
      "Have downloaded in total : 124 files\n",
      "/scratch/franzihe/input/ERA5/daily_means/tciw_daily_mean_-90_-45_ERA5_200905.nc is downloaded\n",
      "Have downloaded in total : 125 files\n",
      "/scratch/franzihe/input/ERA5/daily_means/tciw_daily_mean_-90_-45_ERA5_200906.nc is downloaded\n",
      "Have downloaded in total : 126 files\n",
      "/scratch/franzihe/input/ERA5/daily_means/tciw_daily_mean_-90_-45_ERA5_200907.nc is downloaded\n",
      "Have downloaded in total : 127 files\n",
      "/scratch/franzihe/input/ERA5/daily_means/tciw_daily_mean_-90_-45_ERA5_200908.nc is downloaded\n",
      "Have downloaded in total : 128 files\n",
      "/scratch/franzihe/input/ERA5/daily_means/tciw_daily_mean_-90_-45_ERA5_200909.nc is downloaded\n",
      "Have downloaded in total : 129 files\n",
      "/scratch/franzihe/input/ERA5/daily_means/tciw_daily_mean_-90_-45_ERA5_200910.nc is downloaded\n",
      "Have downloaded in total : 130 files\n",
      "/scratch/franzihe/input/ERA5/daily_means/tciw_daily_mean_-90_-45_ERA5_200911.nc is downloaded\n",
      "Have downloaded in total : 131 files\n",
      "/scratch/franzihe/input/ERA5/daily_means/tciw_daily_mean_-90_-45_ERA5_200912.nc is downloaded\n",
      "Have downloaded in total : 132 files\n",
      "/scratch/franzihe/input/ERA5/daily_means/tciw_daily_mean_-90_-45_ERA5_201001.nc is downloaded\n",
      "Have downloaded in total : 133 files\n",
      "/scratch/franzihe/input/ERA5/daily_means/tciw_daily_mean_-90_-45_ERA5_201002.nc is downloaded\n",
      "Have downloaded in total : 134 files\n",
      "/scratch/franzihe/input/ERA5/daily_means/tciw_daily_mean_-90_-45_ERA5_201003.nc is downloaded\n",
      "Have downloaded in total : 135 files\n",
      "/scratch/franzihe/input/ERA5/daily_means/tciw_daily_mean_-90_-45_ERA5_201004.nc is downloaded\n",
      "Have downloaded in total : 136 files\n",
      "/scratch/franzihe/input/ERA5/daily_means/tciw_daily_mean_-90_-45_ERA5_201005.nc is downloaded\n",
      "Have downloaded in total : 137 files\n",
      "/scratch/franzihe/input/ERA5/daily_means/tciw_daily_mean_-90_-45_ERA5_201006.nc is downloaded\n",
      "Have downloaded in total : 138 files\n",
      "/scratch/franzihe/input/ERA5/daily_means/tciw_daily_mean_-90_-45_ERA5_201007.nc is downloaded\n",
      "Have downloaded in total : 139 files\n",
      "/scratch/franzihe/input/ERA5/daily_means/tciw_daily_mean_-90_-45_ERA5_201008.nc is downloaded\n",
      "Have downloaded in total : 140 files\n",
      "/scratch/franzihe/input/ERA5/daily_means/tciw_daily_mean_-90_-45_ERA5_201009.nc is downloaded\n",
      "Have downloaded in total : 141 files\n",
      "/scratch/franzihe/input/ERA5/daily_means/tciw_daily_mean_-90_-45_ERA5_201010.nc is downloaded\n",
      "Have downloaded in total : 142 files\n",
      "/scratch/franzihe/input/ERA5/daily_means/tciw_daily_mean_-90_-45_ERA5_201011.nc is downloaded\n",
      "Have downloaded in total : 143 files\n",
      "/scratch/franzihe/input/ERA5/daily_means/tciw_daily_mean_-90_-45_ERA5_201012.nc is downloaded\n",
      "Have downloaded in total : 144 files\n",
      "/scratch/franzihe/input/ERA5/daily_means/tcrw_daily_mean_-90_-45_ERA5_200701.nc is downloaded\n",
      "Have downloaded in total : 145 files\n",
      "/scratch/franzihe/input/ERA5/daily_means/tcrw_daily_mean_-90_-45_ERA5_200702.nc is downloaded\n",
      "Have downloaded in total : 146 files\n",
      "/scratch/franzihe/input/ERA5/daily_means/tcrw_daily_mean_-90_-45_ERA5_200703.nc is downloaded\n",
      "Have downloaded in total : 147 files\n",
      "/scratch/franzihe/input/ERA5/daily_means/tcrw_daily_mean_-90_-45_ERA5_200704.nc is downloaded\n",
      "Have downloaded in total : 148 files\n",
      "/scratch/franzihe/input/ERA5/daily_means/tcrw_daily_mean_-90_-45_ERA5_200705.nc is downloaded\n",
      "Have downloaded in total : 149 files\n",
      "/scratch/franzihe/input/ERA5/daily_means/tcrw_daily_mean_-90_-45_ERA5_200706.nc is downloaded\n",
      "Have downloaded in total : 150 files\n",
      "/scratch/franzihe/input/ERA5/daily_means/tcrw_daily_mean_-90_-45_ERA5_200707.nc is downloaded\n",
      "Have downloaded in total : 151 files\n",
      "/scratch/franzihe/input/ERA5/daily_means/tcrw_daily_mean_-90_-45_ERA5_200708.nc is downloaded\n",
      "Have downloaded in total : 152 files\n",
      "/scratch/franzihe/input/ERA5/daily_means/tcrw_daily_mean_-90_-45_ERA5_200709.nc is downloaded\n",
      "Have downloaded in total : 153 files\n",
      "/scratch/franzihe/input/ERA5/daily_means/tcrw_daily_mean_-90_-45_ERA5_200710.nc is downloaded\n",
      "Have downloaded in total : 154 files\n",
      "/scratch/franzihe/input/ERA5/daily_means/tcrw_daily_mean_-90_-45_ERA5_200711.nc is downloaded\n",
      "Have downloaded in total : 155 files\n",
      "/scratch/franzihe/input/ERA5/daily_means/tcrw_daily_mean_-90_-45_ERA5_200712.nc is downloaded\n",
      "Have downloaded in total : 156 files\n",
      "/scratch/franzihe/input/ERA5/daily_means/tcrw_daily_mean_-90_-45_ERA5_200801.nc is downloaded\n",
      "Have downloaded in total : 157 files\n",
      "/scratch/franzihe/input/ERA5/daily_means/tcrw_daily_mean_-90_-45_ERA5_200802.nc is downloaded\n",
      "Have downloaded in total : 158 files\n",
      "/scratch/franzihe/input/ERA5/daily_means/tcrw_daily_mean_-90_-45_ERA5_200803.nc is downloaded\n",
      "Have downloaded in total : 159 files\n",
      "/scratch/franzihe/input/ERA5/daily_means/tcrw_daily_mean_-90_-45_ERA5_200804.nc is downloaded\n",
      "Have downloaded in total : 160 files\n",
      "/scratch/franzihe/input/ERA5/daily_means/tcrw_daily_mean_-90_-45_ERA5_200805.nc is downloaded\n",
      "Have downloaded in total : 161 files\n",
      "/scratch/franzihe/input/ERA5/daily_means/tcrw_daily_mean_-90_-45_ERA5_200806.nc is downloaded\n",
      "Have downloaded in total : 162 files\n",
      "/scratch/franzihe/input/ERA5/daily_means/tcrw_daily_mean_-90_-45_ERA5_200807.nc is downloaded\n",
      "Have downloaded in total : 163 files\n",
      "/scratch/franzihe/input/ERA5/daily_means/tcrw_daily_mean_-90_-45_ERA5_200808.nc is downloaded\n",
      "Have downloaded in total : 164 files\n",
      "/scratch/franzihe/input/ERA5/daily_means/tcrw_daily_mean_-90_-45_ERA5_200809.nc is downloaded\n",
      "Have downloaded in total : 165 files\n",
      "/scratch/franzihe/input/ERA5/daily_means/tcrw_daily_mean_-90_-45_ERA5_200810.nc is downloaded\n",
      "Have downloaded in total : 166 files\n",
      "/scratch/franzihe/input/ERA5/daily_means/tcrw_daily_mean_-90_-45_ERA5_200811.nc is downloaded\n",
      "Have downloaded in total : 167 files\n",
      "/scratch/franzihe/input/ERA5/daily_means/tcrw_daily_mean_-90_-45_ERA5_200812.nc is downloaded\n",
      "Have downloaded in total : 168 files\n",
      "/scratch/franzihe/input/ERA5/daily_means/tcrw_daily_mean_-90_-45_ERA5_200901.nc is downloaded\n",
      "Have downloaded in total : 169 files\n",
      "/scratch/franzihe/input/ERA5/daily_means/tcrw_daily_mean_-90_-45_ERA5_200902.nc is downloaded\n",
      "Have downloaded in total : 170 files\n",
      "/scratch/franzihe/input/ERA5/daily_means/tcrw_daily_mean_-90_-45_ERA5_200903.nc is downloaded\n",
      "Have downloaded in total : 171 files\n",
      "/scratch/franzihe/input/ERA5/daily_means/tcrw_daily_mean_-90_-45_ERA5_200904.nc is downloaded\n",
      "Have downloaded in total : 172 files\n",
      "/scratch/franzihe/input/ERA5/daily_means/tcrw_daily_mean_-90_-45_ERA5_200905.nc is downloaded\n",
      "Have downloaded in total : 173 files\n",
      "/scratch/franzihe/input/ERA5/daily_means/tcrw_daily_mean_-90_-45_ERA5_200906.nc is downloaded\n",
      "Have downloaded in total : 174 files\n",
      "/scratch/franzihe/input/ERA5/daily_means/tcrw_daily_mean_-90_-45_ERA5_200907.nc is downloaded\n",
      "Have downloaded in total : 175 files\n",
      "/scratch/franzihe/input/ERA5/daily_means/tcrw_daily_mean_-90_-45_ERA5_200908.nc is downloaded\n",
      "Have downloaded in total : 176 files\n",
      "/scratch/franzihe/input/ERA5/daily_means/tcrw_daily_mean_-90_-45_ERA5_200909.nc is downloaded\n",
      "Have downloaded in total : 177 files\n",
      "/scratch/franzihe/input/ERA5/daily_means/tcrw_daily_mean_-90_-45_ERA5_200910.nc is downloaded\n",
      "Have downloaded in total : 178 files\n",
      "/scratch/franzihe/input/ERA5/daily_means/tcrw_daily_mean_-90_-45_ERA5_200911.nc is downloaded\n",
      "Have downloaded in total : 179 files\n",
      "/scratch/franzihe/input/ERA5/daily_means/tcrw_daily_mean_-90_-45_ERA5_200912.nc is downloaded\n",
      "Have downloaded in total : 180 files\n",
      "/scratch/franzihe/input/ERA5/daily_means/tcrw_daily_mean_-90_-45_ERA5_201001.nc is downloaded\n",
      "Have downloaded in total : 181 files\n",
      "/scratch/franzihe/input/ERA5/daily_means/tcrw_daily_mean_-90_-45_ERA5_201002.nc is downloaded\n",
      "Have downloaded in total : 182 files\n",
      "/scratch/franzihe/input/ERA5/daily_means/tcrw_daily_mean_-90_-45_ERA5_201003.nc is downloaded\n",
      "Have downloaded in total : 183 files\n",
      "/scratch/franzihe/input/ERA5/daily_means/tcrw_daily_mean_-90_-45_ERA5_201004.nc is downloaded\n",
      "Have downloaded in total : 184 files\n",
      "/scratch/franzihe/input/ERA5/daily_means/tcrw_daily_mean_-90_-45_ERA5_201005.nc is downloaded\n",
      "Have downloaded in total : 185 files\n",
      "/scratch/franzihe/input/ERA5/daily_means/tcrw_daily_mean_-90_-45_ERA5_201006.nc is downloaded\n",
      "Have downloaded in total : 186 files\n",
      "/scratch/franzihe/input/ERA5/daily_means/tcrw_daily_mean_-90_-45_ERA5_201007.nc is downloaded\n",
      "Have downloaded in total : 187 files\n",
      "/scratch/franzihe/input/ERA5/daily_means/tcrw_daily_mean_-90_-45_ERA5_201008.nc is downloaded\n",
      "Have downloaded in total : 188 files\n",
      "/scratch/franzihe/input/ERA5/daily_means/tcrw_daily_mean_-90_-45_ERA5_201009.nc is downloaded\n",
      "Have downloaded in total : 189 files\n",
      "/scratch/franzihe/input/ERA5/daily_means/tcrw_daily_mean_-90_-45_ERA5_201010.nc is downloaded\n",
      "Have downloaded in total : 190 files\n",
      "/scratch/franzihe/input/ERA5/daily_means/tcrw_daily_mean_-90_-45_ERA5_201011.nc is downloaded\n",
      "Have downloaded in total : 191 files\n",
      "/scratch/franzihe/input/ERA5/daily_means/tcrw_daily_mean_-90_-45_ERA5_201012.nc is downloaded\n",
      "Have downloaded in total : 192 files\n",
      "/scratch/franzihe/input/ERA5/daily_means/tcsw_daily_mean_-90_-45_ERA5_200701.nc is downloaded\n",
      "Have downloaded in total : 193 files\n",
      "/scratch/franzihe/input/ERA5/daily_means/tcsw_daily_mean_-90_-45_ERA5_200702.nc is downloaded\n",
      "Have downloaded in total : 194 files\n",
      "/scratch/franzihe/input/ERA5/daily_means/tcsw_daily_mean_-90_-45_ERA5_200703.nc is downloaded\n",
      "Have downloaded in total : 195 files\n",
      "/scratch/franzihe/input/ERA5/daily_means/tcsw_daily_mean_-90_-45_ERA5_200704.nc is downloaded\n",
      "Have downloaded in total : 196 files\n",
      "/scratch/franzihe/input/ERA5/daily_means/tcsw_daily_mean_-90_-45_ERA5_200705.nc is downloaded\n",
      "Have downloaded in total : 197 files\n",
      "/scratch/franzihe/input/ERA5/daily_means/tcsw_daily_mean_-90_-45_ERA5_200706.nc is downloaded\n",
      "Have downloaded in total : 198 files\n",
      "/scratch/franzihe/input/ERA5/daily_means/tcsw_daily_mean_-90_-45_ERA5_200707.nc is downloaded\n",
      "Have downloaded in total : 199 files\n",
      "/scratch/franzihe/input/ERA5/daily_means/tcsw_daily_mean_-90_-45_ERA5_200708.nc is downloaded\n",
      "Have downloaded in total : 200 files\n",
      "/scratch/franzihe/input/ERA5/daily_means/tcsw_daily_mean_-90_-45_ERA5_200709.nc is downloaded\n",
      "Have downloaded in total : 201 files\n",
      "/scratch/franzihe/input/ERA5/daily_means/tcsw_daily_mean_-90_-45_ERA5_200710.nc is downloaded\n",
      "Have downloaded in total : 202 files\n",
      "/scratch/franzihe/input/ERA5/daily_means/tcsw_daily_mean_-90_-45_ERA5_200711.nc is downloaded\n",
      "Have downloaded in total : 203 files\n",
      "/scratch/franzihe/input/ERA5/daily_means/tcsw_daily_mean_-90_-45_ERA5_200712.nc is downloaded\n",
      "Have downloaded in total : 204 files\n",
      "/scratch/franzihe/input/ERA5/daily_means/tcsw_daily_mean_-90_-45_ERA5_200801.nc is downloaded\n",
      "Have downloaded in total : 205 files\n",
      "/scratch/franzihe/input/ERA5/daily_means/tcsw_daily_mean_-90_-45_ERA5_200802.nc is downloaded\n",
      "Have downloaded in total : 206 files\n",
      "/scratch/franzihe/input/ERA5/daily_means/tcsw_daily_mean_-90_-45_ERA5_200803.nc is downloaded\n",
      "Have downloaded in total : 207 files\n",
      "/scratch/franzihe/input/ERA5/daily_means/tcsw_daily_mean_-90_-45_ERA5_200804.nc is downloaded\n",
      "Have downloaded in total : 208 files\n",
      "/scratch/franzihe/input/ERA5/daily_means/tcsw_daily_mean_-90_-45_ERA5_200805.nc is downloaded\n",
      "Have downloaded in total : 209 files\n",
      "/scratch/franzihe/input/ERA5/daily_means/tcsw_daily_mean_-90_-45_ERA5_200806.nc is downloaded\n",
      "Have downloaded in total : 210 files\n",
      "/scratch/franzihe/input/ERA5/daily_means/tcsw_daily_mean_-90_-45_ERA5_200807.nc is downloaded\n",
      "Have downloaded in total : 211 files\n",
      "/scratch/franzihe/input/ERA5/daily_means/tcsw_daily_mean_-90_-45_ERA5_200808.nc is downloaded\n",
      "Have downloaded in total : 212 files\n",
      "/scratch/franzihe/input/ERA5/daily_means/tcsw_daily_mean_-90_-45_ERA5_200809.nc is downloaded\n",
      "Have downloaded in total : 213 files\n",
      "/scratch/franzihe/input/ERA5/daily_means/tcsw_daily_mean_-90_-45_ERA5_200810.nc is downloaded\n",
      "Have downloaded in total : 214 files\n",
      "/scratch/franzihe/input/ERA5/daily_means/tcsw_daily_mean_-90_-45_ERA5_200811.nc is downloaded\n",
      "Have downloaded in total : 215 files\n",
      "/scratch/franzihe/input/ERA5/daily_means/tcsw_daily_mean_-90_-45_ERA5_200812.nc is downloaded\n",
      "Have downloaded in total : 216 files\n",
      "/scratch/franzihe/input/ERA5/daily_means/tcsw_daily_mean_-90_-45_ERA5_200901.nc is downloaded\n",
      "Have downloaded in total : 217 files\n",
      "/scratch/franzihe/input/ERA5/daily_means/tcsw_daily_mean_-90_-45_ERA5_200902.nc is downloaded\n",
      "Have downloaded in total : 218 files\n",
      "/scratch/franzihe/input/ERA5/daily_means/tcsw_daily_mean_-90_-45_ERA5_200903.nc is downloaded\n",
      "Have downloaded in total : 219 files\n",
      "/scratch/franzihe/input/ERA5/daily_means/tcsw_daily_mean_-90_-45_ERA5_200904.nc is downloaded\n",
      "Have downloaded in total : 220 files\n",
      "/scratch/franzihe/input/ERA5/daily_means/tcsw_daily_mean_-90_-45_ERA5_200905.nc is downloaded\n",
      "Have downloaded in total : 221 files\n",
      "/scratch/franzihe/input/ERA5/daily_means/tcsw_daily_mean_-90_-45_ERA5_200906.nc is downloaded\n",
      "Have downloaded in total : 222 files\n",
      "/scratch/franzihe/input/ERA5/daily_means/tcsw_daily_mean_-90_-45_ERA5_200907.nc is downloaded\n",
      "Have downloaded in total : 223 files\n",
      "/scratch/franzihe/input/ERA5/daily_means/tcsw_daily_mean_-90_-45_ERA5_200908.nc is downloaded\n",
      "Have downloaded in total : 224 files\n",
      "/scratch/franzihe/input/ERA5/daily_means/tcsw_daily_mean_-90_-45_ERA5_200909.nc is downloaded\n",
      "Have downloaded in total : 225 files\n",
      "/scratch/franzihe/input/ERA5/daily_means/tcsw_daily_mean_-90_-45_ERA5_200910.nc is downloaded\n",
      "Have downloaded in total : 226 files\n",
      "/scratch/franzihe/input/ERA5/daily_means/tcsw_daily_mean_-90_-45_ERA5_200911.nc is downloaded\n",
      "Have downloaded in total : 227 files\n",
      "/scratch/franzihe/input/ERA5/daily_means/tcsw_daily_mean_-90_-45_ERA5_200912.nc is downloaded\n",
      "Have downloaded in total : 228 files\n",
      "/scratch/franzihe/input/ERA5/daily_means/tcsw_daily_mean_-90_-45_ERA5_201001.nc is downloaded\n",
      "Have downloaded in total : 229 files\n",
      "/scratch/franzihe/input/ERA5/daily_means/tcsw_daily_mean_-90_-45_ERA5_201002.nc is downloaded\n",
      "Have downloaded in total : 230 files\n",
      "/scratch/franzihe/input/ERA5/daily_means/tcsw_daily_mean_-90_-45_ERA5_201003.nc is downloaded\n",
      "Have downloaded in total : 231 files\n",
      "/scratch/franzihe/input/ERA5/daily_means/tcsw_daily_mean_-90_-45_ERA5_201004.nc is downloaded\n",
      "Have downloaded in total : 232 files\n",
      "/scratch/franzihe/input/ERA5/daily_means/tcsw_daily_mean_-90_-45_ERA5_201005.nc is downloaded\n",
      "Have downloaded in total : 233 files\n",
      "/scratch/franzihe/input/ERA5/daily_means/tcsw_daily_mean_-90_-45_ERA5_201006.nc is downloaded\n",
      "Have downloaded in total : 234 files\n",
      "/scratch/franzihe/input/ERA5/daily_means/tcsw_daily_mean_-90_-45_ERA5_201007.nc is downloaded\n",
      "Have downloaded in total : 235 files\n",
      "/scratch/franzihe/input/ERA5/daily_means/tcsw_daily_mean_-90_-45_ERA5_201008.nc is downloaded\n",
      "Have downloaded in total : 236 files\n",
      "/scratch/franzihe/input/ERA5/daily_means/tcsw_daily_mean_-90_-45_ERA5_201009.nc is downloaded\n",
      "Have downloaded in total : 237 files\n",
      "/scratch/franzihe/input/ERA5/daily_means/tcsw_daily_mean_-90_-45_ERA5_201010.nc is downloaded\n",
      "Have downloaded in total : 238 files\n",
      "/scratch/franzihe/input/ERA5/daily_means/tcsw_daily_mean_-90_-45_ERA5_201011.nc is downloaded\n",
      "Have downloaded in total : 239 files\n",
      "/scratch/franzihe/input/ERA5/daily_means/tcsw_daily_mean_-90_-45_ERA5_201012.nc is downloaded\n",
      "Have downloaded in total : 240 files\n",
      "/scratch/franzihe/input/ERA5/daily_means/2t_daily_mean_-90_-45_ERA5_200701.nc is downloaded\n",
      "Have downloaded in total : 241 files\n",
      "/scratch/franzihe/input/ERA5/daily_means/2t_daily_mean_-90_-45_ERA5_200702.nc is downloaded\n",
      "Have downloaded in total : 242 files\n",
      "/scratch/franzihe/input/ERA5/daily_means/2t_daily_mean_-90_-45_ERA5_200703.nc is downloaded\n",
      "Have downloaded in total : 243 files\n",
      "/scratch/franzihe/input/ERA5/daily_means/2t_daily_mean_-90_-45_ERA5_200704.nc is downloaded\n",
      "Have downloaded in total : 244 files\n",
      "/scratch/franzihe/input/ERA5/daily_means/2t_daily_mean_-90_-45_ERA5_200705.nc is downloaded\n",
      "Have downloaded in total : 245 files\n",
      "/scratch/franzihe/input/ERA5/daily_means/2t_daily_mean_-90_-45_ERA5_200706.nc is downloaded\n",
      "Have downloaded in total : 246 files\n",
      "/scratch/franzihe/input/ERA5/daily_means/2t_daily_mean_-90_-45_ERA5_200707.nc is downloaded\n",
      "Have downloaded in total : 247 files\n",
      "/scratch/franzihe/input/ERA5/daily_means/2t_daily_mean_-90_-45_ERA5_200708.nc is downloaded\n",
      "Have downloaded in total : 248 files\n",
      "/scratch/franzihe/input/ERA5/daily_means/2t_daily_mean_-90_-45_ERA5_200709.nc is downloaded\n",
      "Have downloaded in total : 249 files\n",
      "/scratch/franzihe/input/ERA5/daily_means/2t_daily_mean_-90_-45_ERA5_200710.nc is downloaded\n",
      "Have downloaded in total : 250 files\n",
      "/scratch/franzihe/input/ERA5/daily_means/2t_daily_mean_-90_-45_ERA5_200711.nc is downloaded\n",
      "Have downloaded in total : 251 files\n",
      "/scratch/franzihe/input/ERA5/daily_means/2t_daily_mean_-90_-45_ERA5_200712.nc is downloaded\n",
      "Have downloaded in total : 252 files\n",
      "/scratch/franzihe/input/ERA5/daily_means/2t_daily_mean_-90_-45_ERA5_200801.nc is downloaded\n",
      "Have downloaded in total : 253 files\n",
      "/scratch/franzihe/input/ERA5/daily_means/2t_daily_mean_-90_-45_ERA5_200802.nc is downloaded\n",
      "Have downloaded in total : 254 files\n",
      "/scratch/franzihe/input/ERA5/daily_means/2t_daily_mean_-90_-45_ERA5_200803.nc is downloaded\n",
      "Have downloaded in total : 255 files\n",
      "/scratch/franzihe/input/ERA5/daily_means/2t_daily_mean_-90_-45_ERA5_200804.nc is downloaded\n",
      "Have downloaded in total : 256 files\n",
      "/scratch/franzihe/input/ERA5/daily_means/2t_daily_mean_-90_-45_ERA5_200805.nc is downloaded\n",
      "Have downloaded in total : 257 files\n",
      "/scratch/franzihe/input/ERA5/daily_means/2t_daily_mean_-90_-45_ERA5_200806.nc is downloaded\n",
      "Have downloaded in total : 258 files\n",
      "/scratch/franzihe/input/ERA5/daily_means/2t_daily_mean_-90_-45_ERA5_200807.nc is downloaded\n",
      "Have downloaded in total : 259 files\n",
      "/scratch/franzihe/input/ERA5/daily_means/2t_daily_mean_-90_-45_ERA5_200808.nc is downloaded\n",
      "Have downloaded in total : 260 files\n",
      "/scratch/franzihe/input/ERA5/daily_means/2t_daily_mean_-90_-45_ERA5_200809.nc is downloaded\n",
      "Have downloaded in total : 261 files\n",
      "/scratch/franzihe/input/ERA5/daily_means/2t_daily_mean_-90_-45_ERA5_200810.nc is downloaded\n",
      "Have downloaded in total : 262 files\n",
      "/scratch/franzihe/input/ERA5/daily_means/2t_daily_mean_-90_-45_ERA5_200811.nc is downloaded\n",
      "Have downloaded in total : 263 files\n",
      "/scratch/franzihe/input/ERA5/daily_means/2t_daily_mean_-90_-45_ERA5_200812.nc is downloaded\n",
      "Have downloaded in total : 264 files\n",
      "/scratch/franzihe/input/ERA5/daily_means/2t_daily_mean_-90_-45_ERA5_200901.nc is downloaded\n",
      "Have downloaded in total : 265 files\n",
      "/scratch/franzihe/input/ERA5/daily_means/2t_daily_mean_-90_-45_ERA5_200902.nc is downloaded\n",
      "Have downloaded in total : 266 files\n",
      "/scratch/franzihe/input/ERA5/daily_means/2t_daily_mean_-90_-45_ERA5_200903.nc is downloaded\n",
      "Have downloaded in total : 267 files\n",
      "/scratch/franzihe/input/ERA5/daily_means/2t_daily_mean_-90_-45_ERA5_200904.nc is downloaded\n",
      "Have downloaded in total : 268 files\n",
      "/scratch/franzihe/input/ERA5/daily_means/2t_daily_mean_-90_-45_ERA5_200905.nc is downloaded\n",
      "Have downloaded in total : 269 files\n",
      "/scratch/franzihe/input/ERA5/daily_means/2t_daily_mean_-90_-45_ERA5_200906.nc is downloaded\n",
      "Have downloaded in total : 270 files\n",
      "/scratch/franzihe/input/ERA5/daily_means/2t_daily_mean_-90_-45_ERA5_200907.nc is downloaded\n",
      "Have downloaded in total : 271 files\n",
      "/scratch/franzihe/input/ERA5/daily_means/2t_daily_mean_-90_-45_ERA5_200908.nc is downloaded\n",
      "Have downloaded in total : 272 files\n",
      "/scratch/franzihe/input/ERA5/daily_means/2t_daily_mean_-90_-45_ERA5_200909.nc is downloaded\n",
      "Have downloaded in total : 273 files\n",
      "/scratch/franzihe/input/ERA5/daily_means/2t_daily_mean_-90_-45_ERA5_200910.nc is downloaded\n",
      "Have downloaded in total : 274 files\n",
      "/scratch/franzihe/input/ERA5/daily_means/2t_daily_mean_-90_-45_ERA5_200911.nc is downloaded\n",
      "Have downloaded in total : 275 files\n",
      "/scratch/franzihe/input/ERA5/daily_means/2t_daily_mean_-90_-45_ERA5_200912.nc is downloaded\n",
      "Have downloaded in total : 276 files\n",
      "/scratch/franzihe/input/ERA5/daily_means/2t_daily_mean_-90_-45_ERA5_201001.nc is downloaded\n",
      "Have downloaded in total : 277 files\n",
      "/scratch/franzihe/input/ERA5/daily_means/2t_daily_mean_-90_-45_ERA5_201002.nc is downloaded\n",
      "Have downloaded in total : 278 files\n",
      "/scratch/franzihe/input/ERA5/daily_means/2t_daily_mean_-90_-45_ERA5_201003.nc is downloaded\n",
      "Have downloaded in total : 279 files\n",
      "/scratch/franzihe/input/ERA5/daily_means/2t_daily_mean_-90_-45_ERA5_201004.nc is downloaded\n",
      "Have downloaded in total : 280 files\n",
      "/scratch/franzihe/input/ERA5/daily_means/2t_daily_mean_-90_-45_ERA5_201005.nc is downloaded\n",
      "Have downloaded in total : 281 files\n",
      "/scratch/franzihe/input/ERA5/daily_means/2t_daily_mean_-90_-45_ERA5_201006.nc is downloaded\n",
      "Have downloaded in total : 282 files\n",
      "/scratch/franzihe/input/ERA5/daily_means/2t_daily_mean_-90_-45_ERA5_201007.nc is downloaded\n",
      "Have downloaded in total : 283 files\n",
      "/scratch/franzihe/input/ERA5/daily_means/2t_daily_mean_-90_-45_ERA5_201008.nc is downloaded\n",
      "Have downloaded in total : 284 files\n",
      "/scratch/franzihe/input/ERA5/daily_means/2t_daily_mean_-90_-45_ERA5_201009.nc is downloaded\n",
      "Have downloaded in total : 285 files\n",
      "/scratch/franzihe/input/ERA5/daily_means/2t_daily_mean_-90_-45_ERA5_201010.nc is downloaded\n",
      "Have downloaded in total : 286 files\n",
      "/scratch/franzihe/input/ERA5/daily_means/2t_daily_mean_-90_-45_ERA5_201011.nc is downloaded\n",
      "Have downloaded in total : 287 files\n",
      "/scratch/franzihe/input/ERA5/daily_means/2t_daily_mean_-90_-45_ERA5_201012.nc is downloaded\n",
      "Have downloaded in total : 288 files\n",
      "/scratch/franzihe/input/ERA5/daily_means/tp_daily_mean_-90_-45_ERA5_200701.nc is downloaded\n",
      "Have downloaded in total : 289 files\n",
      "/scratch/franzihe/input/ERA5/daily_means/tp_daily_mean_-90_-45_ERA5_200702.nc is downloaded\n",
      "Have downloaded in total : 290 files\n",
      "/scratch/franzihe/input/ERA5/daily_means/tp_daily_mean_-90_-45_ERA5_200703.nc is downloaded\n",
      "Have downloaded in total : 291 files\n",
      "/scratch/franzihe/input/ERA5/daily_means/tp_daily_mean_-90_-45_ERA5_200704.nc is downloaded\n",
      "Have downloaded in total : 292 files\n",
      "/scratch/franzihe/input/ERA5/daily_means/tp_daily_mean_-90_-45_ERA5_200705.nc is downloaded\n",
      "Have downloaded in total : 293 files\n",
      "/scratch/franzihe/input/ERA5/daily_means/tp_daily_mean_-90_-45_ERA5_200706.nc is downloaded\n",
      "Have downloaded in total : 294 files\n",
      "/scratch/franzihe/input/ERA5/daily_means/tp_daily_mean_-90_-45_ERA5_200707.nc is downloaded\n",
      "Have downloaded in total : 295 files\n",
      "/scratch/franzihe/input/ERA5/daily_means/tp_daily_mean_-90_-45_ERA5_200708.nc is downloaded\n",
      "Have downloaded in total : 296 files\n",
      "/scratch/franzihe/input/ERA5/daily_means/tp_daily_mean_-90_-45_ERA5_200709.nc is downloaded\n",
      "Have downloaded in total : 297 files\n",
      "/scratch/franzihe/input/ERA5/daily_means/tp_daily_mean_-90_-45_ERA5_200710.nc is downloaded\n",
      "Have downloaded in total : 298 files\n",
      "/scratch/franzihe/input/ERA5/daily_means/tp_daily_mean_-90_-45_ERA5_200711.nc is downloaded\n",
      "Have downloaded in total : 299 files\n",
      "/scratch/franzihe/input/ERA5/daily_means/tp_daily_mean_-90_-45_ERA5_200712.nc is downloaded\n",
      "Have downloaded in total : 300 files\n",
      "/scratch/franzihe/input/ERA5/daily_means/tp_daily_mean_-90_-45_ERA5_200801.nc is downloaded\n",
      "Have downloaded in total : 301 files\n",
      "/scratch/franzihe/input/ERA5/daily_means/tp_daily_mean_-90_-45_ERA5_200802.nc is downloaded\n",
      "Have downloaded in total : 302 files\n",
      "/scratch/franzihe/input/ERA5/daily_means/tp_daily_mean_-90_-45_ERA5_200803.nc is downloaded\n",
      "Have downloaded in total : 303 files\n",
      "/scratch/franzihe/input/ERA5/daily_means/tp_daily_mean_-90_-45_ERA5_200804.nc is downloaded\n",
      "Have downloaded in total : 304 files\n",
      "/scratch/franzihe/input/ERA5/daily_means/tp_daily_mean_-90_-45_ERA5_200805.nc is downloaded\n",
      "Have downloaded in total : 305 files\n",
      "/scratch/franzihe/input/ERA5/daily_means/tp_daily_mean_-90_-45_ERA5_200806.nc is downloaded\n",
      "Have downloaded in total : 306 files\n",
      "/scratch/franzihe/input/ERA5/daily_means/tp_daily_mean_-90_-45_ERA5_200807.nc is downloaded\n",
      "Have downloaded in total : 307 files\n",
      "/scratch/franzihe/input/ERA5/daily_means/tp_daily_mean_-90_-45_ERA5_200808.nc is downloaded\n",
      "Have downloaded in total : 308 files\n",
      "/scratch/franzihe/input/ERA5/daily_means/tp_daily_mean_-90_-45_ERA5_200809.nc is downloaded\n",
      "Have downloaded in total : 309 files\n",
      "/scratch/franzihe/input/ERA5/daily_means/tp_daily_mean_-90_-45_ERA5_200810.nc is downloaded\n",
      "Have downloaded in total : 310 files\n",
      "/scratch/franzihe/input/ERA5/daily_means/tp_daily_mean_-90_-45_ERA5_200811.nc is downloaded\n",
      "Have downloaded in total : 311 files\n",
      "/scratch/franzihe/input/ERA5/daily_means/tp_daily_mean_-90_-45_ERA5_200812.nc is downloaded\n",
      "Have downloaded in total : 312 files\n",
      "/scratch/franzihe/input/ERA5/daily_means/tp_daily_mean_-90_-45_ERA5_200901.nc is downloaded\n",
      "Have downloaded in total : 313 files\n",
      "/scratch/franzihe/input/ERA5/daily_means/tp_daily_mean_-90_-45_ERA5_200902.nc is downloaded\n",
      "Have downloaded in total : 314 files\n"
     ]
    },
    {
     "name": "stderr",
     "output_type": "stream",
     "text": [
      "2023-01-23 19:07:59,795 INFO Welcome to the CDS\n",
      "2023-01-23 19:07:59,796 INFO Sending request to https://cds.climate.copernicus.eu/api/v2/tasks/services/tool/toolbox/orchestrator/workflow/clientid-bf510e053028442fa32176fd2db57ef0\n",
      "2023-01-23 19:07:59,982 INFO Request is completed\n"
     ]
    },
    {
     "name": "stdout",
     "output_type": "stream",
     "text": [
      "Writing data to /scratch/franzihe/input/ERA5/daily_means/tp_daily_mean_-90_-45_ERA5_200903.nc\n"
     ]
    },
    {
     "name": "stderr",
     "output_type": "stream",
     "text": [
      "2023-01-23 19:08:01,405 INFO Welcome to the CDS\n",
      "2023-01-23 19:08:01,406 INFO Sending request to https://cds.climate.copernicus.eu/api/v2/tasks/services/tool/toolbox/orchestrator/workflow/clientid-3da9ec5624284782b8aebd1c17261ad8\n",
      "2023-01-23 19:08:01,467 INFO Request is queued\n",
      "2023-01-23 19:08:02,522 INFO Request is running\n",
      "2023-01-23 19:09:55,460 INFO Request is completed\n"
     ]
    },
    {
     "name": "stdout",
     "output_type": "stream",
     "text": [
      "Writing data to /scratch/franzihe/input/ERA5/daily_means/tp_daily_mean_-90_-45_ERA5_200904.nc\n"
     ]
    },
    {
     "name": "stderr",
     "output_type": "stream",
     "text": [
      "2023-01-23 19:09:56,765 INFO Welcome to the CDS\n",
      "2023-01-23 19:09:56,767 INFO Sending request to https://cds.climate.copernicus.eu/api/v2/tasks/services/tool/toolbox/orchestrator/workflow/clientid-30ef29349d6149648a8bed4c54768fc1\n",
      "2023-01-23 19:09:56,825 INFO Request is queued\n",
      "2023-01-23 19:09:57,881 INFO Request is running\n",
      "2023-01-23 19:12:48,595 INFO Request is completed\n"
     ]
    },
    {
     "name": "stdout",
     "output_type": "stream",
     "text": [
      "Writing data to /scratch/franzihe/input/ERA5/daily_means/tp_daily_mean_-90_-45_ERA5_200905.nc\n"
     ]
    },
    {
     "name": "stderr",
     "output_type": "stream",
     "text": [
      "2023-01-23 19:12:49,753 INFO Welcome to the CDS\n",
      "2023-01-23 19:12:49,754 INFO Sending request to https://cds.climate.copernicus.eu/api/v2/tasks/services/tool/toolbox/orchestrator/workflow/clientid-6b38ae6684f748e3bee87c197c489cb1\n",
      "2023-01-23 19:12:49,835 INFO Request is queued\n",
      "2023-01-23 19:12:50,892 INFO Request is running\n",
      "2023-01-23 19:14:43,807 INFO Request is completed\n"
     ]
    },
    {
     "name": "stdout",
     "output_type": "stream",
     "text": [
      "Writing data to /scratch/franzihe/input/ERA5/daily_means/tp_daily_mean_-90_-45_ERA5_200906.nc\n"
     ]
    },
    {
     "name": "stderr",
     "output_type": "stream",
     "text": [
      "2023-01-23 19:14:45,163 INFO Welcome to the CDS\n",
      "2023-01-23 19:14:45,165 INFO Sending request to https://cds.climate.copernicus.eu/api/v2/tasks/services/tool/toolbox/orchestrator/workflow/clientid-7aee1dcaf68a4ac0a016ca0e172f4036\n",
      "2023-01-23 19:14:45,236 INFO Request is queued\n",
      "2023-01-23 19:14:46,293 INFO Request is running\n",
      "2023-01-23 19:17:36,986 INFO Request is completed\n"
     ]
    },
    {
     "name": "stdout",
     "output_type": "stream",
     "text": [
      "Writing data to /scratch/franzihe/input/ERA5/daily_means/tp_daily_mean_-90_-45_ERA5_200907.nc\n"
     ]
    },
    {
     "name": "stderr",
     "output_type": "stream",
     "text": [
      "2023-01-23 19:17:38,387 INFO Welcome to the CDS\n",
      "2023-01-23 19:17:38,388 INFO Sending request to https://cds.climate.copernicus.eu/api/v2/tasks/services/tool/toolbox/orchestrator/workflow/clientid-c32ba5606cc24e15a916444fe6a4a4af\n",
      "2023-01-23 19:17:38,447 INFO Request is queued\n",
      "2023-01-23 19:17:39,504 INFO Request is running\n",
      "2023-01-23 19:20:30,216 INFO Request is completed\n"
     ]
    },
    {
     "name": "stdout",
     "output_type": "stream",
     "text": [
      "Writing data to /scratch/franzihe/input/ERA5/daily_means/tp_daily_mean_-90_-45_ERA5_200908.nc\n"
     ]
    },
    {
     "name": "stderr",
     "output_type": "stream",
     "text": [
      "2023-01-23 19:20:31,439 INFO Welcome to the CDS\n",
      "2023-01-23 19:20:31,440 INFO Sending request to https://cds.climate.copernicus.eu/api/v2/tasks/services/tool/toolbox/orchestrator/workflow/clientid-2dbea25db83946b49c544f1a1be439d8\n",
      "2023-01-23 19:20:31,509 INFO Request is queued\n",
      "2023-01-23 19:20:32,566 INFO Request is running\n",
      "2023-01-23 19:22:25,512 INFO Request is completed\n"
     ]
    },
    {
     "name": "stdout",
     "output_type": "stream",
     "text": [
      "Writing data to /scratch/franzihe/input/ERA5/daily_means/tp_daily_mean_-90_-45_ERA5_200909.nc\n"
     ]
    },
    {
     "name": "stderr",
     "output_type": "stream",
     "text": [
      "2023-01-23 19:22:26,933 INFO Welcome to the CDS\n",
      "2023-01-23 19:22:26,934 INFO Sending request to https://cds.climate.copernicus.eu/api/v2/tasks/services/tool/toolbox/orchestrator/workflow/clientid-aa19cf86772f46a59b035448ebfe565c\n",
      "2023-01-23 19:22:27,029 INFO Request is queued\n",
      "2023-01-23 19:22:28,086 INFO Request is running\n",
      "2023-01-23 19:24:21,027 INFO Request is completed\n"
     ]
    },
    {
     "name": "stdout",
     "output_type": "stream",
     "text": [
      "Writing data to /scratch/franzihe/input/ERA5/daily_means/tp_daily_mean_-90_-45_ERA5_200910.nc\n"
     ]
    },
    {
     "name": "stderr",
     "output_type": "stream",
     "text": [
      "2023-01-23 19:24:22,222 INFO Welcome to the CDS\n",
      "2023-01-23 19:24:22,223 INFO Sending request to https://cds.climate.copernicus.eu/api/v2/tasks/services/tool/toolbox/orchestrator/workflow/clientid-66003334261e4c1fb7eda8125bd63536\n",
      "2023-01-23 19:24:22,297 INFO Request is queued\n",
      "2023-01-23 19:24:23,354 INFO Request is running\n",
      "2023-01-23 19:26:16,459 INFO Request is completed\n"
     ]
    },
    {
     "name": "stdout",
     "output_type": "stream",
     "text": [
      "Writing data to /scratch/franzihe/input/ERA5/daily_means/tp_daily_mean_-90_-45_ERA5_200911.nc\n"
     ]
    },
    {
     "name": "stderr",
     "output_type": "stream",
     "text": [
      "2023-01-23 19:26:17,703 INFO Welcome to the CDS\n",
      "2023-01-23 19:26:17,705 INFO Sending request to https://cds.climate.copernicus.eu/api/v2/tasks/services/tool/toolbox/orchestrator/workflow/clientid-7da03f11f9114a16a5ddfac4cbbd16ef\n",
      "2023-01-23 19:26:17,810 INFO Request is queued\n",
      "2023-01-23 19:26:18,867 INFO Request is running\n",
      "2023-01-23 19:28:11,803 INFO Request is completed\n"
     ]
    },
    {
     "name": "stdout",
     "output_type": "stream",
     "text": [
      "Writing data to /scratch/franzihe/input/ERA5/daily_means/tp_daily_mean_-90_-45_ERA5_200912.nc\n"
     ]
    },
    {
     "name": "stderr",
     "output_type": "stream",
     "text": [
      "2023-01-23 19:28:17,003 INFO Welcome to the CDS\n",
      "2023-01-23 19:28:17,004 INFO Sending request to https://cds.climate.copernicus.eu/api/v2/tasks/services/tool/toolbox/orchestrator/workflow/clientid-1ba5e9c1b2394a9ea7bb7356d2eb3e06\n",
      "2023-01-23 19:28:17,063 INFO Request is queued\n",
      "2023-01-23 19:28:18,119 INFO Request is running\n",
      "2023-01-23 19:31:08,811 INFO Request is completed\n"
     ]
    },
    {
     "name": "stdout",
     "output_type": "stream",
     "text": [
      "Writing data to /scratch/franzihe/input/ERA5/daily_means/tp_daily_mean_-90_-45_ERA5_201001.nc\n"
     ]
    },
    {
     "name": "stderr",
     "output_type": "stream",
     "text": [
      "2023-01-23 19:31:10,625 INFO Welcome to the CDS\n",
      "2023-01-23 19:31:10,626 INFO Sending request to https://cds.climate.copernicus.eu/api/v2/tasks/services/tool/toolbox/orchestrator/workflow/clientid-a701677be0014f48a7a1967d6314d918\n",
      "2023-01-23 19:31:10,697 INFO Request is queued\n",
      "2023-01-23 19:31:11,753 INFO Request is running\n",
      "2023-01-23 19:33:04,691 INFO Request is completed\n"
     ]
    },
    {
     "name": "stdout",
     "output_type": "stream",
     "text": [
      "Writing data to /scratch/franzihe/input/ERA5/daily_means/tp_daily_mean_-90_-45_ERA5_201002.nc\n"
     ]
    },
    {
     "name": "stderr",
     "output_type": "stream",
     "text": [
      "2023-01-23 19:33:05,924 INFO Welcome to the CDS\n",
      "2023-01-23 19:33:05,925 INFO Sending request to https://cds.climate.copernicus.eu/api/v2/tasks/services/tool/toolbox/orchestrator/workflow/clientid-ca3b676b7de249928f9814421bdaf03a\n",
      "2023-01-23 19:33:05,985 INFO Request is queued\n",
      "2023-01-23 19:33:07,040 INFO Request is running\n",
      "2023-01-23 19:35:57,740 INFO Request is completed\n"
     ]
    },
    {
     "name": "stdout",
     "output_type": "stream",
     "text": [
      "Writing data to /scratch/franzihe/input/ERA5/daily_means/tp_daily_mean_-90_-45_ERA5_201003.nc\n"
     ]
    },
    {
     "name": "stderr",
     "output_type": "stream",
     "text": [
      "2023-01-23 19:35:59,704 INFO Welcome to the CDS\n",
      "2023-01-23 19:35:59,706 INFO Sending request to https://cds.climate.copernicus.eu/api/v2/tasks/services/tool/toolbox/orchestrator/workflow/clientid-f5681e0df3474dbba9b517d629d10b93\n",
      "2023-01-23 19:35:59,781 INFO Request is queued\n",
      "2023-01-23 19:36:00,837 INFO Request is running\n",
      "2023-01-23 19:37:53,760 INFO Request is completed\n"
     ]
    },
    {
     "name": "stdout",
     "output_type": "stream",
     "text": [
      "Writing data to /scratch/franzihe/input/ERA5/daily_means/tp_daily_mean_-90_-45_ERA5_201004.nc\n"
     ]
    },
    {
     "name": "stderr",
     "output_type": "stream",
     "text": [
      "2023-01-23 19:37:54,873 INFO Welcome to the CDS\n",
      "2023-01-23 19:37:54,874 INFO Sending request to https://cds.climate.copernicus.eu/api/v2/tasks/services/tool/toolbox/orchestrator/workflow/clientid-29cb46cdd3ac4d14a3c8fc8c16ad16b9\n",
      "2023-01-23 19:37:54,952 INFO Request is queued\n",
      "2023-01-23 19:37:56,010 INFO Request is running\n",
      "2023-01-23 19:40:46,731 INFO Request is completed\n"
     ]
    },
    {
     "name": "stdout",
     "output_type": "stream",
     "text": [
      "Writing data to /scratch/franzihe/input/ERA5/daily_means/tp_daily_mean_-90_-45_ERA5_201005.nc\n"
     ]
    },
    {
     "name": "stderr",
     "output_type": "stream",
     "text": [
      "2023-01-23 19:40:47,965 INFO Welcome to the CDS\n",
      "2023-01-23 19:40:47,966 INFO Sending request to https://cds.climate.copernicus.eu/api/v2/tasks/services/tool/toolbox/orchestrator/workflow/clientid-8b574eace4de4d70adcf620511db613f\n",
      "2023-01-23 19:40:48,050 INFO Request is queued\n",
      "2023-01-23 19:40:49,107 INFO Request is running\n",
      "2023-01-23 19:43:39,827 INFO Request is completed\n"
     ]
    },
    {
     "name": "stdout",
     "output_type": "stream",
     "text": [
      "Writing data to /scratch/franzihe/input/ERA5/daily_means/tp_daily_mean_-90_-45_ERA5_201006.nc\n"
     ]
    },
    {
     "name": "stderr",
     "output_type": "stream",
     "text": [
      "2023-01-23 19:43:41,006 INFO Welcome to the CDS\n",
      "2023-01-23 19:43:41,007 INFO Sending request to https://cds.climate.copernicus.eu/api/v2/tasks/services/tool/toolbox/orchestrator/workflow/clientid-7a757d3a7b8d41fb814fdd5e7b070f39\n",
      "2023-01-23 19:43:41,153 INFO Request is queued\n",
      "2023-01-23 19:43:42,211 INFO Request is running\n",
      "2023-01-23 19:45:35,269 INFO Request is completed\n"
     ]
    },
    {
     "name": "stdout",
     "output_type": "stream",
     "text": [
      "Writing data to /scratch/franzihe/input/ERA5/daily_means/tp_daily_mean_-90_-45_ERA5_201007.nc\n"
     ]
    },
    {
     "name": "stderr",
     "output_type": "stream",
     "text": [
      "2023-01-23 19:45:36,549 INFO Welcome to the CDS\n",
      "2023-01-23 19:45:36,550 INFO Sending request to https://cds.climate.copernicus.eu/api/v2/tasks/services/tool/toolbox/orchestrator/workflow/clientid-e12a51ed4595476aa326199f24fbe5e0\n",
      "2023-01-23 19:45:36,642 INFO Request is queued\n",
      "2023-01-23 19:45:37,695 INFO Request is running\n",
      "2023-01-23 19:48:28,341 INFO Request is completed\n"
     ]
    },
    {
     "name": "stdout",
     "output_type": "stream",
     "text": [
      "Writing data to /scratch/franzihe/input/ERA5/daily_means/tp_daily_mean_-90_-45_ERA5_201008.nc\n"
     ]
    },
    {
     "name": "stderr",
     "output_type": "stream",
     "text": [
      "2023-01-23 19:48:29,672 INFO Welcome to the CDS\n",
      "2023-01-23 19:48:29,673 INFO Sending request to https://cds.climate.copernicus.eu/api/v2/tasks/services/tool/toolbox/orchestrator/workflow/clientid-b1b27005f896430786721eb81ab23ced\n",
      "2023-01-23 19:48:29,764 INFO Request is queued\n",
      "2023-01-23 19:48:30,817 INFO Request is running\n",
      "2023-01-23 19:50:23,704 INFO Request is completed\n"
     ]
    },
    {
     "name": "stdout",
     "output_type": "stream",
     "text": [
      "Writing data to /scratch/franzihe/input/ERA5/daily_means/tp_daily_mean_-90_-45_ERA5_201009.nc\n"
     ]
    },
    {
     "name": "stderr",
     "output_type": "stream",
     "text": [
      "2023-01-23 19:50:25,113 INFO Welcome to the CDS\n",
      "2023-01-23 19:50:25,114 INFO Sending request to https://cds.climate.copernicus.eu/api/v2/tasks/services/tool/toolbox/orchestrator/workflow/clientid-5ec89574b6ed457995dab83d0ef35931\n",
      "2023-01-23 19:50:25,213 INFO Request is queued\n",
      "2023-01-23 19:50:26,267 INFO Request is running\n",
      "2023-01-23 19:52:19,169 INFO Request is completed\n"
     ]
    },
    {
     "name": "stdout",
     "output_type": "stream",
     "text": [
      "Writing data to /scratch/franzihe/input/ERA5/daily_means/tp_daily_mean_-90_-45_ERA5_201010.nc\n"
     ]
    },
    {
     "name": "stderr",
     "output_type": "stream",
     "text": [
      "2023-01-23 19:52:20,300 INFO Welcome to the CDS\n",
      "2023-01-23 19:52:20,301 INFO Sending request to https://cds.climate.copernicus.eu/api/v2/tasks/services/tool/toolbox/orchestrator/workflow/clientid-869f22ee78ff4751963d047718e787b4\n",
      "2023-01-23 19:52:20,358 INFO Request is queued\n",
      "2023-01-23 19:52:21,412 INFO Request is running\n",
      "2023-01-23 19:54:14,322 INFO Request is completed\n"
     ]
    },
    {
     "name": "stdout",
     "output_type": "stream",
     "text": [
      "Writing data to /scratch/franzihe/input/ERA5/daily_means/tp_daily_mean_-90_-45_ERA5_201011.nc\n"
     ]
    },
    {
     "name": "stderr",
     "output_type": "stream",
     "text": [
      "2023-01-23 19:54:15,426 INFO Welcome to the CDS\n",
      "2023-01-23 19:54:15,428 INFO Sending request to https://cds.climate.copernicus.eu/api/v2/tasks/services/tool/toolbox/orchestrator/workflow/clientid-367b17348e7c47f5aae0cc6e1ac97183\n",
      "2023-01-23 19:54:15,559 INFO Request is queued\n",
      "2023-01-23 19:54:16,613 INFO Request is running\n",
      "2023-01-23 19:56:09,524 INFO Request is completed\n"
     ]
    },
    {
     "name": "stdout",
     "output_type": "stream",
     "text": [
      "Writing data to /scratch/franzihe/input/ERA5/daily_means/tp_daily_mean_-90_-45_ERA5_201012.nc\n"
     ]
    },
    {
     "name": "stderr",
     "output_type": "stream",
     "text": [
      "2023-01-23 19:56:10,703 INFO Welcome to the CDS\n",
      "2023-01-23 19:56:10,704 INFO Sending request to https://cds.climate.copernicus.eu/api/v2/tasks/services/tool/toolbox/orchestrator/workflow/clientid-26d06afdd1c64d1b938d70388572bc5b\n",
      "2023-01-23 19:56:10,773 INFO Request is queued\n"
     ]
    },
    {
     "name": "stdout",
     "output_type": "stream",
     "text": [
      "/scratch/franzihe/input/ERA5/daily_means/sf_daily_mean_45_90_ERA5_200701.nc is downloaded\n",
      "Have downloaded in total : 315 files\n",
      "/scratch/franzihe/input/ERA5/daily_means/sf_daily_mean_45_90_ERA5_200702.nc is downloaded\n",
      "Have downloaded in total : 316 files\n",
      "/scratch/franzihe/input/ERA5/daily_means/sf_daily_mean_45_90_ERA5_200703.nc is downloaded\n",
      "Have downloaded in total : 317 files\n",
      "/scratch/franzihe/input/ERA5/daily_means/sf_daily_mean_45_90_ERA5_200704.nc is downloaded\n",
      "Have downloaded in total : 318 files\n",
      "/scratch/franzihe/input/ERA5/daily_means/sf_daily_mean_45_90_ERA5_200705.nc is downloaded\n",
      "Have downloaded in total : 319 files\n",
      "/scratch/franzihe/input/ERA5/daily_means/sf_daily_mean_45_90_ERA5_200706.nc is downloaded\n",
      "Have downloaded in total : 320 files\n",
      "/scratch/franzihe/input/ERA5/daily_means/sf_daily_mean_45_90_ERA5_200707.nc is downloaded\n",
      "Have downloaded in total : 321 files\n",
      "/scratch/franzihe/input/ERA5/daily_means/sf_daily_mean_45_90_ERA5_200708.nc is downloaded\n",
      "Have downloaded in total : 322 files\n",
      "/scratch/franzihe/input/ERA5/daily_means/sf_daily_mean_45_90_ERA5_200709.nc is downloaded\n",
      "Have downloaded in total : 323 files\n",
      "/scratch/franzihe/input/ERA5/daily_means/sf_daily_mean_45_90_ERA5_200710.nc is downloaded\n",
      "Have downloaded in total : 324 files\n",
      "/scratch/franzihe/input/ERA5/daily_means/sf_daily_mean_45_90_ERA5_200711.nc is downloaded\n",
      "Have downloaded in total : 325 files\n",
      "/scratch/franzihe/input/ERA5/daily_means/sf_daily_mean_45_90_ERA5_200712.nc is downloaded\n",
      "Have downloaded in total : 326 files\n",
      "/scratch/franzihe/input/ERA5/daily_means/sf_daily_mean_45_90_ERA5_200801.nc is downloaded\n",
      "Have downloaded in total : 327 files\n",
      "/scratch/franzihe/input/ERA5/daily_means/sf_daily_mean_45_90_ERA5_200802.nc is downloaded\n",
      "Have downloaded in total : 328 files\n",
      "/scratch/franzihe/input/ERA5/daily_means/sf_daily_mean_45_90_ERA5_200803.nc is downloaded\n",
      "Have downloaded in total : 329 files\n",
      "/scratch/franzihe/input/ERA5/daily_means/sf_daily_mean_45_90_ERA5_200804.nc is downloaded\n",
      "Have downloaded in total : 330 files\n",
      "/scratch/franzihe/input/ERA5/daily_means/sf_daily_mean_45_90_ERA5_200805.nc is downloaded\n",
      "Have downloaded in total : 331 files\n",
      "/scratch/franzihe/input/ERA5/daily_means/sf_daily_mean_45_90_ERA5_200806.nc is downloaded\n",
      "Have downloaded in total : 332 files\n",
      "/scratch/franzihe/input/ERA5/daily_means/sf_daily_mean_45_90_ERA5_200807.nc is downloaded\n",
      "Have downloaded in total : 333 files\n",
      "/scratch/franzihe/input/ERA5/daily_means/sf_daily_mean_45_90_ERA5_200808.nc is downloaded\n",
      "Have downloaded in total : 334 files\n",
      "/scratch/franzihe/input/ERA5/daily_means/sf_daily_mean_45_90_ERA5_200809.nc is downloaded\n",
      "Have downloaded in total : 335 files\n",
      "/scratch/franzihe/input/ERA5/daily_means/sf_daily_mean_45_90_ERA5_200810.nc is downloaded\n",
      "Have downloaded in total : 336 files\n",
      "/scratch/franzihe/input/ERA5/daily_means/sf_daily_mean_45_90_ERA5_200811.nc is downloaded\n",
      "Have downloaded in total : 337 files\n",
      "/scratch/franzihe/input/ERA5/daily_means/sf_daily_mean_45_90_ERA5_200812.nc is downloaded\n",
      "Have downloaded in total : 338 files\n",
      "/scratch/franzihe/input/ERA5/daily_means/sf_daily_mean_45_90_ERA5_200901.nc is downloaded\n",
      "Have downloaded in total : 339 files\n",
      "/scratch/franzihe/input/ERA5/daily_means/sf_daily_mean_45_90_ERA5_200902.nc is downloaded\n",
      "Have downloaded in total : 340 files\n",
      "/scratch/franzihe/input/ERA5/daily_means/sf_daily_mean_45_90_ERA5_200903.nc is downloaded\n",
      "Have downloaded in total : 341 files\n",
      "/scratch/franzihe/input/ERA5/daily_means/sf_daily_mean_45_90_ERA5_200904.nc is downloaded\n",
      "Have downloaded in total : 342 files\n",
      "/scratch/franzihe/input/ERA5/daily_means/sf_daily_mean_45_90_ERA5_200905.nc is downloaded\n",
      "Have downloaded in total : 343 files\n",
      "/scratch/franzihe/input/ERA5/daily_means/sf_daily_mean_45_90_ERA5_200906.nc is downloaded\n",
      "Have downloaded in total : 344 files\n",
      "/scratch/franzihe/input/ERA5/daily_means/sf_daily_mean_45_90_ERA5_200907.nc is downloaded\n",
      "Have downloaded in total : 345 files\n",
      "/scratch/franzihe/input/ERA5/daily_means/sf_daily_mean_45_90_ERA5_200908.nc is downloaded\n",
      "Have downloaded in total : 346 files\n",
      "/scratch/franzihe/input/ERA5/daily_means/sf_daily_mean_45_90_ERA5_200909.nc is downloaded\n",
      "Have downloaded in total : 347 files\n",
      "/scratch/franzihe/input/ERA5/daily_means/sf_daily_mean_45_90_ERA5_200910.nc is downloaded\n",
      "Have downloaded in total : 348 files\n",
      "/scratch/franzihe/input/ERA5/daily_means/sf_daily_mean_45_90_ERA5_200911.nc is downloaded\n",
      "Have downloaded in total : 349 files\n",
      "/scratch/franzihe/input/ERA5/daily_means/sf_daily_mean_45_90_ERA5_200912.nc is downloaded\n",
      "Have downloaded in total : 350 files\n",
      "/scratch/franzihe/input/ERA5/daily_means/sf_daily_mean_45_90_ERA5_201001.nc is downloaded\n",
      "Have downloaded in total : 351 files\n",
      "/scratch/franzihe/input/ERA5/daily_means/sf_daily_mean_45_90_ERA5_201002.nc is downloaded\n",
      "Have downloaded in total : 352 files\n",
      "/scratch/franzihe/input/ERA5/daily_means/sf_daily_mean_45_90_ERA5_201003.nc is downloaded\n",
      "Have downloaded in total : 353 files\n",
      "/scratch/franzihe/input/ERA5/daily_means/sf_daily_mean_45_90_ERA5_201004.nc is downloaded\n",
      "Have downloaded in total : 354 files\n",
      "/scratch/franzihe/input/ERA5/daily_means/sf_daily_mean_45_90_ERA5_201005.nc is downloaded\n",
      "Have downloaded in total : 355 files\n",
      "/scratch/franzihe/input/ERA5/daily_means/sf_daily_mean_45_90_ERA5_201006.nc is downloaded\n",
      "Have downloaded in total : 356 files\n",
      "/scratch/franzihe/input/ERA5/daily_means/sf_daily_mean_45_90_ERA5_201007.nc is downloaded\n",
      "Have downloaded in total : 357 files\n",
      "/scratch/franzihe/input/ERA5/daily_means/sf_daily_mean_45_90_ERA5_201008.nc is downloaded\n",
      "Have downloaded in total : 358 files\n",
      "/scratch/franzihe/input/ERA5/daily_means/sf_daily_mean_45_90_ERA5_201009.nc is downloaded\n",
      "Have downloaded in total : 359 files\n",
      "/scratch/franzihe/input/ERA5/daily_means/sf_daily_mean_45_90_ERA5_201010.nc is downloaded\n",
      "Have downloaded in total : 360 files\n",
      "/scratch/franzihe/input/ERA5/daily_means/sf_daily_mean_45_90_ERA5_201011.nc is downloaded\n",
      "Have downloaded in total : 361 files\n",
      "/scratch/franzihe/input/ERA5/daily_means/sf_daily_mean_45_90_ERA5_201012.nc is downloaded\n",
      "Have downloaded in total : 362 files\n",
      "/scratch/franzihe/input/ERA5/daily_means/tclw_daily_mean_45_90_ERA5_200701.nc is downloaded\n",
      "Have downloaded in total : 363 files\n",
      "/scratch/franzihe/input/ERA5/daily_means/tclw_daily_mean_45_90_ERA5_200702.nc is downloaded\n",
      "Have downloaded in total : 364 files\n",
      "/scratch/franzihe/input/ERA5/daily_means/tclw_daily_mean_45_90_ERA5_200703.nc is downloaded\n",
      "Have downloaded in total : 365 files\n",
      "/scratch/franzihe/input/ERA5/daily_means/tclw_daily_mean_45_90_ERA5_200704.nc is downloaded\n",
      "Have downloaded in total : 366 files\n",
      "/scratch/franzihe/input/ERA5/daily_means/tclw_daily_mean_45_90_ERA5_200705.nc is downloaded\n",
      "Have downloaded in total : 367 files\n",
      "/scratch/franzihe/input/ERA5/daily_means/tclw_daily_mean_45_90_ERA5_200706.nc is downloaded\n",
      "Have downloaded in total : 368 files\n",
      "/scratch/franzihe/input/ERA5/daily_means/tclw_daily_mean_45_90_ERA5_200707.nc is downloaded\n",
      "Have downloaded in total : 369 files\n",
      "/scratch/franzihe/input/ERA5/daily_means/tclw_daily_mean_45_90_ERA5_200708.nc is downloaded\n",
      "Have downloaded in total : 370 files\n",
      "/scratch/franzihe/input/ERA5/daily_means/tclw_daily_mean_45_90_ERA5_200709.nc is downloaded\n",
      "Have downloaded in total : 371 files\n",
      "/scratch/franzihe/input/ERA5/daily_means/tclw_daily_mean_45_90_ERA5_200710.nc is downloaded\n",
      "Have downloaded in total : 372 files\n",
      "/scratch/franzihe/input/ERA5/daily_means/tclw_daily_mean_45_90_ERA5_200711.nc is downloaded\n",
      "Have downloaded in total : 373 files\n",
      "/scratch/franzihe/input/ERA5/daily_means/tclw_daily_mean_45_90_ERA5_200712.nc is downloaded\n",
      "Have downloaded in total : 374 files\n",
      "/scratch/franzihe/input/ERA5/daily_means/tclw_daily_mean_45_90_ERA5_200801.nc is downloaded\n",
      "Have downloaded in total : 375 files\n",
      "/scratch/franzihe/input/ERA5/daily_means/tclw_daily_mean_45_90_ERA5_200802.nc is downloaded\n",
      "Have downloaded in total : 376 files\n",
      "/scratch/franzihe/input/ERA5/daily_means/tclw_daily_mean_45_90_ERA5_200803.nc is downloaded\n",
      "Have downloaded in total : 377 files\n",
      "/scratch/franzihe/input/ERA5/daily_means/tclw_daily_mean_45_90_ERA5_200804.nc is downloaded\n",
      "Have downloaded in total : 378 files\n",
      "/scratch/franzihe/input/ERA5/daily_means/tclw_daily_mean_45_90_ERA5_200805.nc is downloaded\n",
      "Have downloaded in total : 379 files\n",
      "/scratch/franzihe/input/ERA5/daily_means/tclw_daily_mean_45_90_ERA5_200806.nc is downloaded\n",
      "Have downloaded in total : 380 files\n",
      "/scratch/franzihe/input/ERA5/daily_means/tclw_daily_mean_45_90_ERA5_200807.nc is downloaded\n",
      "Have downloaded in total : 381 files\n",
      "/scratch/franzihe/input/ERA5/daily_means/tclw_daily_mean_45_90_ERA5_200808.nc is downloaded\n",
      "Have downloaded in total : 382 files\n",
      "/scratch/franzihe/input/ERA5/daily_means/tclw_daily_mean_45_90_ERA5_200809.nc is downloaded\n",
      "Have downloaded in total : 383 files\n",
      "/scratch/franzihe/input/ERA5/daily_means/tclw_daily_mean_45_90_ERA5_200810.nc is downloaded\n",
      "Have downloaded in total : 384 files\n",
      "/scratch/franzihe/input/ERA5/daily_means/tclw_daily_mean_45_90_ERA5_200811.nc is downloaded\n",
      "Have downloaded in total : 385 files\n",
      "/scratch/franzihe/input/ERA5/daily_means/tclw_daily_mean_45_90_ERA5_200812.nc is downloaded\n",
      "Have downloaded in total : 386 files\n",
      "/scratch/franzihe/input/ERA5/daily_means/tclw_daily_mean_45_90_ERA5_200901.nc is downloaded\n",
      "Have downloaded in total : 387 files\n",
      "/scratch/franzihe/input/ERA5/daily_means/tclw_daily_mean_45_90_ERA5_200902.nc is downloaded\n",
      "Have downloaded in total : 388 files\n",
      "/scratch/franzihe/input/ERA5/daily_means/tclw_daily_mean_45_90_ERA5_200903.nc is downloaded\n",
      "Have downloaded in total : 389 files\n",
      "/scratch/franzihe/input/ERA5/daily_means/tclw_daily_mean_45_90_ERA5_200904.nc is downloaded\n",
      "Have downloaded in total : 390 files\n",
      "/scratch/franzihe/input/ERA5/daily_means/tclw_daily_mean_45_90_ERA5_200905.nc is downloaded\n",
      "Have downloaded in total : 391 files\n",
      "/scratch/franzihe/input/ERA5/daily_means/tclw_daily_mean_45_90_ERA5_200906.nc is downloaded\n",
      "Have downloaded in total : 392 files\n",
      "/scratch/franzihe/input/ERA5/daily_means/tclw_daily_mean_45_90_ERA5_200907.nc is downloaded\n",
      "Have downloaded in total : 393 files\n",
      "/scratch/franzihe/input/ERA5/daily_means/tclw_daily_mean_45_90_ERA5_200908.nc is downloaded\n",
      "Have downloaded in total : 394 files\n",
      "/scratch/franzihe/input/ERA5/daily_means/tclw_daily_mean_45_90_ERA5_200909.nc is downloaded\n",
      "Have downloaded in total : 395 files\n",
      "/scratch/franzihe/input/ERA5/daily_means/tclw_daily_mean_45_90_ERA5_200910.nc is downloaded\n",
      "Have downloaded in total : 396 files\n",
      "/scratch/franzihe/input/ERA5/daily_means/tclw_daily_mean_45_90_ERA5_200911.nc is downloaded\n",
      "Have downloaded in total : 397 files\n",
      "/scratch/franzihe/input/ERA5/daily_means/tclw_daily_mean_45_90_ERA5_200912.nc is downloaded\n",
      "Have downloaded in total : 398 files\n",
      "/scratch/franzihe/input/ERA5/daily_means/tclw_daily_mean_45_90_ERA5_201001.nc is downloaded\n",
      "Have downloaded in total : 399 files\n",
      "/scratch/franzihe/input/ERA5/daily_means/tclw_daily_mean_45_90_ERA5_201002.nc is downloaded\n",
      "Have downloaded in total : 400 files\n",
      "/scratch/franzihe/input/ERA5/daily_means/tclw_daily_mean_45_90_ERA5_201003.nc is downloaded\n",
      "Have downloaded in total : 401 files\n",
      "/scratch/franzihe/input/ERA5/daily_means/tclw_daily_mean_45_90_ERA5_201004.nc is downloaded\n",
      "Have downloaded in total : 402 files\n",
      "/scratch/franzihe/input/ERA5/daily_means/tclw_daily_mean_45_90_ERA5_201005.nc is downloaded\n",
      "Have downloaded in total : 403 files\n",
      "/scratch/franzihe/input/ERA5/daily_means/tclw_daily_mean_45_90_ERA5_201006.nc is downloaded\n",
      "Have downloaded in total : 404 files\n",
      "/scratch/franzihe/input/ERA5/daily_means/tclw_daily_mean_45_90_ERA5_201007.nc is downloaded\n",
      "Have downloaded in total : 405 files\n",
      "/scratch/franzihe/input/ERA5/daily_means/tclw_daily_mean_45_90_ERA5_201008.nc is downloaded\n",
      "Have downloaded in total : 406 files\n",
      "/scratch/franzihe/input/ERA5/daily_means/tclw_daily_mean_45_90_ERA5_201009.nc is downloaded\n",
      "Have downloaded in total : 407 files\n",
      "/scratch/franzihe/input/ERA5/daily_means/tclw_daily_mean_45_90_ERA5_201010.nc is downloaded\n",
      "Have downloaded in total : 408 files\n",
      "/scratch/franzihe/input/ERA5/daily_means/tclw_daily_mean_45_90_ERA5_201011.nc is downloaded\n",
      "Have downloaded in total : 409 files\n",
      "/scratch/franzihe/input/ERA5/daily_means/tclw_daily_mean_45_90_ERA5_201012.nc is downloaded\n",
      "Have downloaded in total : 410 files\n",
      "/scratch/franzihe/input/ERA5/daily_means/tciw_daily_mean_45_90_ERA5_200701.nc is downloaded\n",
      "Have downloaded in total : 411 files\n",
      "/scratch/franzihe/input/ERA5/daily_means/tciw_daily_mean_45_90_ERA5_200702.nc is downloaded\n",
      "Have downloaded in total : 412 files\n",
      "/scratch/franzihe/input/ERA5/daily_means/tciw_daily_mean_45_90_ERA5_200703.nc is downloaded\n",
      "Have downloaded in total : 413 files\n",
      "/scratch/franzihe/input/ERA5/daily_means/tciw_daily_mean_45_90_ERA5_200704.nc is downloaded\n",
      "Have downloaded in total : 414 files\n",
      "/scratch/franzihe/input/ERA5/daily_means/tciw_daily_mean_45_90_ERA5_200705.nc is downloaded\n",
      "Have downloaded in total : 415 files\n",
      "/scratch/franzihe/input/ERA5/daily_means/tciw_daily_mean_45_90_ERA5_200706.nc is downloaded\n",
      "Have downloaded in total : 416 files\n",
      "/scratch/franzihe/input/ERA5/daily_means/tciw_daily_mean_45_90_ERA5_200707.nc is downloaded\n",
      "Have downloaded in total : 417 files\n",
      "/scratch/franzihe/input/ERA5/daily_means/tciw_daily_mean_45_90_ERA5_200708.nc is downloaded\n",
      "Have downloaded in total : 418 files\n",
      "/scratch/franzihe/input/ERA5/daily_means/tciw_daily_mean_45_90_ERA5_200709.nc is downloaded\n",
      "Have downloaded in total : 419 files\n",
      "/scratch/franzihe/input/ERA5/daily_means/tciw_daily_mean_45_90_ERA5_200710.nc is downloaded\n",
      "Have downloaded in total : 420 files\n",
      "/scratch/franzihe/input/ERA5/daily_means/tciw_daily_mean_45_90_ERA5_200711.nc is downloaded\n",
      "Have downloaded in total : 421 files\n",
      "/scratch/franzihe/input/ERA5/daily_means/tciw_daily_mean_45_90_ERA5_200712.nc is downloaded\n",
      "Have downloaded in total : 422 files\n",
      "/scratch/franzihe/input/ERA5/daily_means/tciw_daily_mean_45_90_ERA5_200801.nc is downloaded\n",
      "Have downloaded in total : 423 files\n",
      "/scratch/franzihe/input/ERA5/daily_means/tciw_daily_mean_45_90_ERA5_200802.nc is downloaded\n",
      "Have downloaded in total : 424 files\n",
      "/scratch/franzihe/input/ERA5/daily_means/tciw_daily_mean_45_90_ERA5_200803.nc is downloaded\n",
      "Have downloaded in total : 425 files\n",
      "/scratch/franzihe/input/ERA5/daily_means/tciw_daily_mean_45_90_ERA5_200804.nc is downloaded\n",
      "Have downloaded in total : 426 files\n",
      "/scratch/franzihe/input/ERA5/daily_means/tciw_daily_mean_45_90_ERA5_200805.nc is downloaded\n",
      "Have downloaded in total : 427 files\n",
      "/scratch/franzihe/input/ERA5/daily_means/tciw_daily_mean_45_90_ERA5_200806.nc is downloaded\n",
      "Have downloaded in total : 428 files\n",
      "/scratch/franzihe/input/ERA5/daily_means/tciw_daily_mean_45_90_ERA5_200807.nc is downloaded\n",
      "Have downloaded in total : 429 files\n",
      "/scratch/franzihe/input/ERA5/daily_means/tciw_daily_mean_45_90_ERA5_200808.nc is downloaded\n",
      "Have downloaded in total : 430 files\n",
      "/scratch/franzihe/input/ERA5/daily_means/tciw_daily_mean_45_90_ERA5_200809.nc is downloaded\n",
      "Have downloaded in total : 431 files\n",
      "/scratch/franzihe/input/ERA5/daily_means/tciw_daily_mean_45_90_ERA5_200810.nc is downloaded\n",
      "Have downloaded in total : 432 files\n",
      "/scratch/franzihe/input/ERA5/daily_means/tciw_daily_mean_45_90_ERA5_200811.nc is downloaded\n",
      "Have downloaded in total : 433 files\n",
      "/scratch/franzihe/input/ERA5/daily_means/tciw_daily_mean_45_90_ERA5_200812.nc is downloaded\n",
      "Have downloaded in total : 434 files\n",
      "/scratch/franzihe/input/ERA5/daily_means/tciw_daily_mean_45_90_ERA5_200901.nc is downloaded\n",
      "Have downloaded in total : 435 files\n",
      "/scratch/franzihe/input/ERA5/daily_means/tciw_daily_mean_45_90_ERA5_200902.nc is downloaded\n",
      "Have downloaded in total : 436 files\n",
      "/scratch/franzihe/input/ERA5/daily_means/tciw_daily_mean_45_90_ERA5_200903.nc is downloaded\n",
      "Have downloaded in total : 437 files\n",
      "/scratch/franzihe/input/ERA5/daily_means/tciw_daily_mean_45_90_ERA5_200904.nc is downloaded\n",
      "Have downloaded in total : 438 files\n",
      "/scratch/franzihe/input/ERA5/daily_means/tciw_daily_mean_45_90_ERA5_200905.nc is downloaded\n",
      "Have downloaded in total : 439 files\n",
      "/scratch/franzihe/input/ERA5/daily_means/tciw_daily_mean_45_90_ERA5_200906.nc is downloaded\n",
      "Have downloaded in total : 440 files\n",
      "/scratch/franzihe/input/ERA5/daily_means/tciw_daily_mean_45_90_ERA5_200907.nc is downloaded\n",
      "Have downloaded in total : 441 files\n",
      "/scratch/franzihe/input/ERA5/daily_means/tciw_daily_mean_45_90_ERA5_200908.nc is downloaded\n",
      "Have downloaded in total : 442 files\n",
      "/scratch/franzihe/input/ERA5/daily_means/tciw_daily_mean_45_90_ERA5_200909.nc is downloaded\n",
      "Have downloaded in total : 443 files\n",
      "/scratch/franzihe/input/ERA5/daily_means/tciw_daily_mean_45_90_ERA5_200910.nc is downloaded\n",
      "Have downloaded in total : 444 files\n",
      "/scratch/franzihe/input/ERA5/daily_means/tciw_daily_mean_45_90_ERA5_200911.nc is downloaded\n",
      "Have downloaded in total : 445 files\n",
      "/scratch/franzihe/input/ERA5/daily_means/tciw_daily_mean_45_90_ERA5_200912.nc is downloaded\n",
      "Have downloaded in total : 446 files\n",
      "/scratch/franzihe/input/ERA5/daily_means/tciw_daily_mean_45_90_ERA5_201001.nc is downloaded\n",
      "Have downloaded in total : 447 files\n",
      "/scratch/franzihe/input/ERA5/daily_means/tciw_daily_mean_45_90_ERA5_201002.nc is downloaded\n",
      "Have downloaded in total : 448 files\n",
      "/scratch/franzihe/input/ERA5/daily_means/tciw_daily_mean_45_90_ERA5_201003.nc is downloaded\n",
      "Have downloaded in total : 449 files\n",
      "/scratch/franzihe/input/ERA5/daily_means/tciw_daily_mean_45_90_ERA5_201004.nc is downloaded\n",
      "Have downloaded in total : 450 files\n",
      "/scratch/franzihe/input/ERA5/daily_means/tciw_daily_mean_45_90_ERA5_201005.nc is downloaded\n",
      "Have downloaded in total : 451 files\n",
      "/scratch/franzihe/input/ERA5/daily_means/tciw_daily_mean_45_90_ERA5_201006.nc is downloaded\n",
      "Have downloaded in total : 452 files\n",
      "/scratch/franzihe/input/ERA5/daily_means/tciw_daily_mean_45_90_ERA5_201007.nc is downloaded\n",
      "Have downloaded in total : 453 files\n",
      "/scratch/franzihe/input/ERA5/daily_means/tciw_daily_mean_45_90_ERA5_201008.nc is downloaded\n",
      "Have downloaded in total : 454 files\n",
      "/scratch/franzihe/input/ERA5/daily_means/tciw_daily_mean_45_90_ERA5_201009.nc is downloaded\n",
      "Have downloaded in total : 455 files\n",
      "/scratch/franzihe/input/ERA5/daily_means/tciw_daily_mean_45_90_ERA5_201010.nc is downloaded\n",
      "Have downloaded in total : 456 files\n",
      "/scratch/franzihe/input/ERA5/daily_means/tciw_daily_mean_45_90_ERA5_201011.nc is downloaded\n",
      "Have downloaded in total : 457 files\n",
      "/scratch/franzihe/input/ERA5/daily_means/tciw_daily_mean_45_90_ERA5_201012.nc is downloaded\n",
      "Have downloaded in total : 458 files\n",
      "/scratch/franzihe/input/ERA5/daily_means/tcrw_daily_mean_45_90_ERA5_200701.nc is downloaded\n",
      "Have downloaded in total : 459 files\n",
      "/scratch/franzihe/input/ERA5/daily_means/tcrw_daily_mean_45_90_ERA5_200702.nc is downloaded\n",
      "Have downloaded in total : 460 files\n",
      "/scratch/franzihe/input/ERA5/daily_means/tcrw_daily_mean_45_90_ERA5_200703.nc is downloaded\n",
      "Have downloaded in total : 461 files\n",
      "/scratch/franzihe/input/ERA5/daily_means/tcrw_daily_mean_45_90_ERA5_200704.nc is downloaded\n",
      "Have downloaded in total : 462 files\n",
      "/scratch/franzihe/input/ERA5/daily_means/tcrw_daily_mean_45_90_ERA5_200705.nc is downloaded\n",
      "Have downloaded in total : 463 files\n",
      "/scratch/franzihe/input/ERA5/daily_means/tcrw_daily_mean_45_90_ERA5_200706.nc is downloaded\n",
      "Have downloaded in total : 464 files\n",
      "/scratch/franzihe/input/ERA5/daily_means/tcrw_daily_mean_45_90_ERA5_200707.nc is downloaded\n",
      "Have downloaded in total : 465 files\n",
      "/scratch/franzihe/input/ERA5/daily_means/tcrw_daily_mean_45_90_ERA5_200708.nc is downloaded\n",
      "Have downloaded in total : 466 files\n",
      "/scratch/franzihe/input/ERA5/daily_means/tcrw_daily_mean_45_90_ERA5_200709.nc is downloaded\n",
      "Have downloaded in total : 467 files\n",
      "/scratch/franzihe/input/ERA5/daily_means/tcrw_daily_mean_45_90_ERA5_200710.nc is downloaded\n",
      "Have downloaded in total : 468 files\n",
      "/scratch/franzihe/input/ERA5/daily_means/tcrw_daily_mean_45_90_ERA5_200711.nc is downloaded\n",
      "Have downloaded in total : 469 files\n",
      "/scratch/franzihe/input/ERA5/daily_means/tcrw_daily_mean_45_90_ERA5_200712.nc is downloaded\n",
      "Have downloaded in total : 470 files\n",
      "/scratch/franzihe/input/ERA5/daily_means/tcrw_daily_mean_45_90_ERA5_200801.nc is downloaded\n",
      "Have downloaded in total : 471 files\n",
      "/scratch/franzihe/input/ERA5/daily_means/tcrw_daily_mean_45_90_ERA5_200802.nc is downloaded\n",
      "Have downloaded in total : 472 files\n",
      "/scratch/franzihe/input/ERA5/daily_means/tcrw_daily_mean_45_90_ERA5_200803.nc is downloaded\n",
      "Have downloaded in total : 473 files\n",
      "/scratch/franzihe/input/ERA5/daily_means/tcrw_daily_mean_45_90_ERA5_200804.nc is downloaded\n",
      "Have downloaded in total : 474 files\n",
      "/scratch/franzihe/input/ERA5/daily_means/tcrw_daily_mean_45_90_ERA5_200805.nc is downloaded\n",
      "Have downloaded in total : 475 files\n",
      "/scratch/franzihe/input/ERA5/daily_means/tcrw_daily_mean_45_90_ERA5_200806.nc is downloaded\n",
      "Have downloaded in total : 476 files\n",
      "/scratch/franzihe/input/ERA5/daily_means/tcrw_daily_mean_45_90_ERA5_200807.nc is downloaded\n",
      "Have downloaded in total : 477 files\n",
      "/scratch/franzihe/input/ERA5/daily_means/tcrw_daily_mean_45_90_ERA5_200808.nc is downloaded\n",
      "Have downloaded in total : 478 files\n",
      "/scratch/franzihe/input/ERA5/daily_means/tcrw_daily_mean_45_90_ERA5_200809.nc is downloaded\n",
      "Have downloaded in total : 479 files\n",
      "/scratch/franzihe/input/ERA5/daily_means/tcrw_daily_mean_45_90_ERA5_200810.nc is downloaded\n",
      "Have downloaded in total : 480 files\n",
      "/scratch/franzihe/input/ERA5/daily_means/tcrw_daily_mean_45_90_ERA5_200811.nc is downloaded\n",
      "Have downloaded in total : 481 files\n",
      "/scratch/franzihe/input/ERA5/daily_means/tcrw_daily_mean_45_90_ERA5_200812.nc is downloaded\n",
      "Have downloaded in total : 482 files\n",
      "/scratch/franzihe/input/ERA5/daily_means/tcrw_daily_mean_45_90_ERA5_200901.nc is downloaded\n",
      "Have downloaded in total : 483 files\n",
      "/scratch/franzihe/input/ERA5/daily_means/tcrw_daily_mean_45_90_ERA5_200902.nc is downloaded\n",
      "Have downloaded in total : 484 files\n",
      "/scratch/franzihe/input/ERA5/daily_means/tcrw_daily_mean_45_90_ERA5_200903.nc is downloaded\n",
      "Have downloaded in total : 485 files\n",
      "/scratch/franzihe/input/ERA5/daily_means/tcrw_daily_mean_45_90_ERA5_200904.nc is downloaded\n",
      "Have downloaded in total : 486 files\n",
      "/scratch/franzihe/input/ERA5/daily_means/tcrw_daily_mean_45_90_ERA5_200905.nc is downloaded\n",
      "Have downloaded in total : 487 files\n",
      "/scratch/franzihe/input/ERA5/daily_means/tcrw_daily_mean_45_90_ERA5_200906.nc is downloaded\n",
      "Have downloaded in total : 488 files\n",
      "/scratch/franzihe/input/ERA5/daily_means/tcrw_daily_mean_45_90_ERA5_200907.nc is downloaded\n",
      "Have downloaded in total : 489 files\n",
      "/scratch/franzihe/input/ERA5/daily_means/tcrw_daily_mean_45_90_ERA5_200908.nc is downloaded\n",
      "Have downloaded in total : 490 files\n",
      "/scratch/franzihe/input/ERA5/daily_means/tcrw_daily_mean_45_90_ERA5_200909.nc is downloaded\n",
      "Have downloaded in total : 491 files\n",
      "/scratch/franzihe/input/ERA5/daily_means/tcrw_daily_mean_45_90_ERA5_200910.nc is downloaded\n",
      "Have downloaded in total : 492 files\n",
      "/scratch/franzihe/input/ERA5/daily_means/tcrw_daily_mean_45_90_ERA5_200911.nc is downloaded\n",
      "Have downloaded in total : 493 files\n",
      "/scratch/franzihe/input/ERA5/daily_means/tcrw_daily_mean_45_90_ERA5_200912.nc is downloaded\n",
      "Have downloaded in total : 494 files\n",
      "/scratch/franzihe/input/ERA5/daily_means/tcrw_daily_mean_45_90_ERA5_201001.nc is downloaded\n",
      "Have downloaded in total : 495 files\n",
      "/scratch/franzihe/input/ERA5/daily_means/tcrw_daily_mean_45_90_ERA5_201002.nc is downloaded\n",
      "Have downloaded in total : 496 files\n",
      "/scratch/franzihe/input/ERA5/daily_means/tcrw_daily_mean_45_90_ERA5_201003.nc is downloaded\n",
      "Have downloaded in total : 497 files\n",
      "/scratch/franzihe/input/ERA5/daily_means/tcrw_daily_mean_45_90_ERA5_201004.nc is downloaded\n",
      "Have downloaded in total : 498 files\n",
      "/scratch/franzihe/input/ERA5/daily_means/tcrw_daily_mean_45_90_ERA5_201005.nc is downloaded\n",
      "Have downloaded in total : 499 files\n",
      "/scratch/franzihe/input/ERA5/daily_means/tcrw_daily_mean_45_90_ERA5_201006.nc is downloaded\n",
      "Have downloaded in total : 500 files\n",
      "/scratch/franzihe/input/ERA5/daily_means/tcrw_daily_mean_45_90_ERA5_201007.nc is downloaded\n",
      "Have downloaded in total : 501 files\n",
      "/scratch/franzihe/input/ERA5/daily_means/tcrw_daily_mean_45_90_ERA5_201008.nc is downloaded\n",
      "Have downloaded in total : 502 files\n",
      "/scratch/franzihe/input/ERA5/daily_means/tcrw_daily_mean_45_90_ERA5_201009.nc is downloaded\n",
      "Have downloaded in total : 503 files\n",
      "/scratch/franzihe/input/ERA5/daily_means/tcrw_daily_mean_45_90_ERA5_201010.nc is downloaded\n",
      "Have downloaded in total : 504 files\n",
      "/scratch/franzihe/input/ERA5/daily_means/tcrw_daily_mean_45_90_ERA5_201011.nc is downloaded\n",
      "Have downloaded in total : 505 files\n",
      "/scratch/franzihe/input/ERA5/daily_means/tcrw_daily_mean_45_90_ERA5_201012.nc is downloaded\n",
      "Have downloaded in total : 506 files\n",
      "/scratch/franzihe/input/ERA5/daily_means/tcsw_daily_mean_45_90_ERA5_200701.nc is downloaded\n",
      "Have downloaded in total : 507 files\n",
      "/scratch/franzihe/input/ERA5/daily_means/tcsw_daily_mean_45_90_ERA5_200702.nc is downloaded\n",
      "Have downloaded in total : 508 files\n",
      "/scratch/franzihe/input/ERA5/daily_means/tcsw_daily_mean_45_90_ERA5_200703.nc is downloaded\n",
      "Have downloaded in total : 509 files\n",
      "/scratch/franzihe/input/ERA5/daily_means/tcsw_daily_mean_45_90_ERA5_200704.nc is downloaded\n",
      "Have downloaded in total : 510 files\n",
      "/scratch/franzihe/input/ERA5/daily_means/tcsw_daily_mean_45_90_ERA5_200705.nc is downloaded\n",
      "Have downloaded in total : 511 files\n",
      "/scratch/franzihe/input/ERA5/daily_means/tcsw_daily_mean_45_90_ERA5_200706.nc is downloaded\n",
      "Have downloaded in total : 512 files\n",
      "/scratch/franzihe/input/ERA5/daily_means/tcsw_daily_mean_45_90_ERA5_200707.nc is downloaded\n",
      "Have downloaded in total : 513 files\n",
      "/scratch/franzihe/input/ERA5/daily_means/tcsw_daily_mean_45_90_ERA5_200708.nc is downloaded\n",
      "Have downloaded in total : 514 files\n",
      "/scratch/franzihe/input/ERA5/daily_means/tcsw_daily_mean_45_90_ERA5_200709.nc is downloaded\n",
      "Have downloaded in total : 515 files\n",
      "/scratch/franzihe/input/ERA5/daily_means/tcsw_daily_mean_45_90_ERA5_200710.nc is downloaded\n",
      "Have downloaded in total : 516 files\n",
      "/scratch/franzihe/input/ERA5/daily_means/tcsw_daily_mean_45_90_ERA5_200711.nc is downloaded\n",
      "Have downloaded in total : 517 files\n",
      "/scratch/franzihe/input/ERA5/daily_means/tcsw_daily_mean_45_90_ERA5_200712.nc is downloaded\n",
      "Have downloaded in total : 518 files\n",
      "/scratch/franzihe/input/ERA5/daily_means/tcsw_daily_mean_45_90_ERA5_200801.nc is downloaded\n",
      "Have downloaded in total : 519 files\n",
      "/scratch/franzihe/input/ERA5/daily_means/tcsw_daily_mean_45_90_ERA5_200802.nc is downloaded\n",
      "Have downloaded in total : 520 files\n",
      "/scratch/franzihe/input/ERA5/daily_means/tcsw_daily_mean_45_90_ERA5_200803.nc is downloaded\n",
      "Have downloaded in total : 521 files\n",
      "/scratch/franzihe/input/ERA5/daily_means/tcsw_daily_mean_45_90_ERA5_200804.nc is downloaded\n",
      "Have downloaded in total : 522 files\n",
      "/scratch/franzihe/input/ERA5/daily_means/tcsw_daily_mean_45_90_ERA5_200805.nc is downloaded\n",
      "Have downloaded in total : 523 files\n",
      "/scratch/franzihe/input/ERA5/daily_means/tcsw_daily_mean_45_90_ERA5_200806.nc is downloaded\n",
      "Have downloaded in total : 524 files\n",
      "/scratch/franzihe/input/ERA5/daily_means/tcsw_daily_mean_45_90_ERA5_200807.nc is downloaded\n",
      "Have downloaded in total : 525 files\n",
      "/scratch/franzihe/input/ERA5/daily_means/tcsw_daily_mean_45_90_ERA5_200808.nc is downloaded\n",
      "Have downloaded in total : 526 files\n",
      "/scratch/franzihe/input/ERA5/daily_means/tcsw_daily_mean_45_90_ERA5_200809.nc is downloaded\n",
      "Have downloaded in total : 527 files\n",
      "/scratch/franzihe/input/ERA5/daily_means/tcsw_daily_mean_45_90_ERA5_200810.nc is downloaded\n",
      "Have downloaded in total : 528 files\n",
      "/scratch/franzihe/input/ERA5/daily_means/tcsw_daily_mean_45_90_ERA5_200811.nc is downloaded\n",
      "Have downloaded in total : 529 files\n",
      "/scratch/franzihe/input/ERA5/daily_means/tcsw_daily_mean_45_90_ERA5_200812.nc is downloaded\n",
      "Have downloaded in total : 530 files\n",
      "/scratch/franzihe/input/ERA5/daily_means/tcsw_daily_mean_45_90_ERA5_200901.nc is downloaded\n",
      "Have downloaded in total : 531 files\n",
      "/scratch/franzihe/input/ERA5/daily_means/tcsw_daily_mean_45_90_ERA5_200902.nc is downloaded\n",
      "Have downloaded in total : 532 files\n",
      "/scratch/franzihe/input/ERA5/daily_means/tcsw_daily_mean_45_90_ERA5_200903.nc is downloaded\n",
      "Have downloaded in total : 533 files\n",
      "/scratch/franzihe/input/ERA5/daily_means/tcsw_daily_mean_45_90_ERA5_200904.nc is downloaded\n",
      "Have downloaded in total : 534 files\n",
      "/scratch/franzihe/input/ERA5/daily_means/tcsw_daily_mean_45_90_ERA5_200905.nc is downloaded\n",
      "Have downloaded in total : 535 files\n",
      "/scratch/franzihe/input/ERA5/daily_means/tcsw_daily_mean_45_90_ERA5_200906.nc is downloaded\n",
      "Have downloaded in total : 536 files\n",
      "/scratch/franzihe/input/ERA5/daily_means/tcsw_daily_mean_45_90_ERA5_200907.nc is downloaded\n",
      "Have downloaded in total : 537 files\n",
      "/scratch/franzihe/input/ERA5/daily_means/tcsw_daily_mean_45_90_ERA5_200908.nc is downloaded\n",
      "Have downloaded in total : 538 files\n",
      "/scratch/franzihe/input/ERA5/daily_means/tcsw_daily_mean_45_90_ERA5_200909.nc is downloaded\n",
      "Have downloaded in total : 539 files\n",
      "/scratch/franzihe/input/ERA5/daily_means/tcsw_daily_mean_45_90_ERA5_200910.nc is downloaded\n",
      "Have downloaded in total : 540 files\n",
      "/scratch/franzihe/input/ERA5/daily_means/tcsw_daily_mean_45_90_ERA5_200911.nc is downloaded\n",
      "Have downloaded in total : 541 files\n",
      "/scratch/franzihe/input/ERA5/daily_means/tcsw_daily_mean_45_90_ERA5_200912.nc is downloaded\n",
      "Have downloaded in total : 542 files\n",
      "/scratch/franzihe/input/ERA5/daily_means/tcsw_daily_mean_45_90_ERA5_201001.nc is downloaded\n",
      "Have downloaded in total : 543 files\n",
      "/scratch/franzihe/input/ERA5/daily_means/tcsw_daily_mean_45_90_ERA5_201002.nc is downloaded\n",
      "Have downloaded in total : 544 files\n",
      "/scratch/franzihe/input/ERA5/daily_means/tcsw_daily_mean_45_90_ERA5_201003.nc is downloaded\n",
      "Have downloaded in total : 545 files\n",
      "/scratch/franzihe/input/ERA5/daily_means/tcsw_daily_mean_45_90_ERA5_201004.nc is downloaded\n",
      "Have downloaded in total : 546 files\n",
      "/scratch/franzihe/input/ERA5/daily_means/tcsw_daily_mean_45_90_ERA5_201005.nc is downloaded\n",
      "Have downloaded in total : 547 files\n",
      "/scratch/franzihe/input/ERA5/daily_means/tcsw_daily_mean_45_90_ERA5_201006.nc is downloaded\n",
      "Have downloaded in total : 548 files\n",
      "/scratch/franzihe/input/ERA5/daily_means/tcsw_daily_mean_45_90_ERA5_201007.nc is downloaded\n",
      "Have downloaded in total : 549 files\n",
      "/scratch/franzihe/input/ERA5/daily_means/tcsw_daily_mean_45_90_ERA5_201008.nc is downloaded\n",
      "Have downloaded in total : 550 files\n",
      "/scratch/franzihe/input/ERA5/daily_means/tcsw_daily_mean_45_90_ERA5_201009.nc is downloaded\n",
      "Have downloaded in total : 551 files\n",
      "/scratch/franzihe/input/ERA5/daily_means/tcsw_daily_mean_45_90_ERA5_201010.nc is downloaded\n",
      "Have downloaded in total : 552 files\n",
      "/scratch/franzihe/input/ERA5/daily_means/tcsw_daily_mean_45_90_ERA5_201011.nc is downloaded\n",
      "Have downloaded in total : 553 files\n",
      "/scratch/franzihe/input/ERA5/daily_means/tcsw_daily_mean_45_90_ERA5_201012.nc is downloaded\n",
      "Have downloaded in total : 554 files\n",
      "/scratch/franzihe/input/ERA5/daily_means/2t_daily_mean_45_90_ERA5_200701.nc is downloaded\n",
      "Have downloaded in total : 555 files\n",
      "/scratch/franzihe/input/ERA5/daily_means/2t_daily_mean_45_90_ERA5_200702.nc is downloaded\n",
      "Have downloaded in total : 556 files\n",
      "/scratch/franzihe/input/ERA5/daily_means/2t_daily_mean_45_90_ERA5_200703.nc is downloaded\n",
      "Have downloaded in total : 557 files\n",
      "/scratch/franzihe/input/ERA5/daily_means/2t_daily_mean_45_90_ERA5_200704.nc is downloaded\n",
      "Have downloaded in total : 558 files\n",
      "/scratch/franzihe/input/ERA5/daily_means/2t_daily_mean_45_90_ERA5_200705.nc is downloaded\n",
      "Have downloaded in total : 559 files\n",
      "/scratch/franzihe/input/ERA5/daily_means/2t_daily_mean_45_90_ERA5_200706.nc is downloaded\n",
      "Have downloaded in total : 560 files\n",
      "/scratch/franzihe/input/ERA5/daily_means/2t_daily_mean_45_90_ERA5_200707.nc is downloaded\n",
      "Have downloaded in total : 561 files\n",
      "/scratch/franzihe/input/ERA5/daily_means/2t_daily_mean_45_90_ERA5_200708.nc is downloaded\n",
      "Have downloaded in total : 562 files\n",
      "/scratch/franzihe/input/ERA5/daily_means/2t_daily_mean_45_90_ERA5_200709.nc is downloaded\n",
      "Have downloaded in total : 563 files\n",
      "/scratch/franzihe/input/ERA5/daily_means/2t_daily_mean_45_90_ERA5_200710.nc is downloaded\n",
      "Have downloaded in total : 564 files\n",
      "/scratch/franzihe/input/ERA5/daily_means/2t_daily_mean_45_90_ERA5_200711.nc is downloaded\n",
      "Have downloaded in total : 565 files\n",
      "/scratch/franzihe/input/ERA5/daily_means/2t_daily_mean_45_90_ERA5_200712.nc is downloaded\n",
      "Have downloaded in total : 566 files\n",
      "/scratch/franzihe/input/ERA5/daily_means/2t_daily_mean_45_90_ERA5_200801.nc is downloaded\n",
      "Have downloaded in total : 567 files\n",
      "/scratch/franzihe/input/ERA5/daily_means/2t_daily_mean_45_90_ERA5_200802.nc is downloaded\n",
      "Have downloaded in total : 568 files\n",
      "/scratch/franzihe/input/ERA5/daily_means/2t_daily_mean_45_90_ERA5_200803.nc is downloaded\n",
      "Have downloaded in total : 569 files\n",
      "/scratch/franzihe/input/ERA5/daily_means/2t_daily_mean_45_90_ERA5_200804.nc is downloaded\n",
      "Have downloaded in total : 570 files\n",
      "/scratch/franzihe/input/ERA5/daily_means/2t_daily_mean_45_90_ERA5_200805.nc is downloaded\n",
      "Have downloaded in total : 571 files\n",
      "/scratch/franzihe/input/ERA5/daily_means/2t_daily_mean_45_90_ERA5_200806.nc is downloaded\n",
      "Have downloaded in total : 572 files\n",
      "/scratch/franzihe/input/ERA5/daily_means/2t_daily_mean_45_90_ERA5_200807.nc is downloaded\n",
      "Have downloaded in total : 573 files\n",
      "/scratch/franzihe/input/ERA5/daily_means/2t_daily_mean_45_90_ERA5_200808.nc is downloaded\n",
      "Have downloaded in total : 574 files\n",
      "/scratch/franzihe/input/ERA5/daily_means/2t_daily_mean_45_90_ERA5_200809.nc is downloaded\n",
      "Have downloaded in total : 575 files\n",
      "/scratch/franzihe/input/ERA5/daily_means/2t_daily_mean_45_90_ERA5_200810.nc is downloaded\n",
      "Have downloaded in total : 576 files\n",
      "/scratch/franzihe/input/ERA5/daily_means/2t_daily_mean_45_90_ERA5_200811.nc is downloaded\n",
      "Have downloaded in total : 577 files\n",
      "/scratch/franzihe/input/ERA5/daily_means/2t_daily_mean_45_90_ERA5_200812.nc is downloaded\n",
      "Have downloaded in total : 578 files\n",
      "/scratch/franzihe/input/ERA5/daily_means/2t_daily_mean_45_90_ERA5_200901.nc is downloaded\n",
      "Have downloaded in total : 579 files\n",
      "/scratch/franzihe/input/ERA5/daily_means/2t_daily_mean_45_90_ERA5_200902.nc is downloaded\n",
      "Have downloaded in total : 580 files\n",
      "/scratch/franzihe/input/ERA5/daily_means/2t_daily_mean_45_90_ERA5_200903.nc is downloaded\n",
      "Have downloaded in total : 581 files\n",
      "/scratch/franzihe/input/ERA5/daily_means/2t_daily_mean_45_90_ERA5_200904.nc is downloaded\n",
      "Have downloaded in total : 582 files\n",
      "/scratch/franzihe/input/ERA5/daily_means/2t_daily_mean_45_90_ERA5_200905.nc is downloaded\n",
      "Have downloaded in total : 583 files\n",
      "/scratch/franzihe/input/ERA5/daily_means/2t_daily_mean_45_90_ERA5_200906.nc is downloaded\n",
      "Have downloaded in total : 584 files\n",
      "/scratch/franzihe/input/ERA5/daily_means/2t_daily_mean_45_90_ERA5_200907.nc is downloaded\n",
      "Have downloaded in total : 585 files\n",
      "/scratch/franzihe/input/ERA5/daily_means/2t_daily_mean_45_90_ERA5_200908.nc is downloaded\n",
      "Have downloaded in total : 586 files\n",
      "/scratch/franzihe/input/ERA5/daily_means/2t_daily_mean_45_90_ERA5_200909.nc is downloaded\n",
      "Have downloaded in total : 587 files\n",
      "/scratch/franzihe/input/ERA5/daily_means/2t_daily_mean_45_90_ERA5_200910.nc is downloaded\n",
      "Have downloaded in total : 588 files\n",
      "/scratch/franzihe/input/ERA5/daily_means/2t_daily_mean_45_90_ERA5_200911.nc is downloaded\n",
      "Have downloaded in total : 589 files\n",
      "/scratch/franzihe/input/ERA5/daily_means/2t_daily_mean_45_90_ERA5_200912.nc is downloaded\n",
      "Have downloaded in total : 590 files\n",
      "/scratch/franzihe/input/ERA5/daily_means/2t_daily_mean_45_90_ERA5_201001.nc is downloaded\n",
      "Have downloaded in total : 591 files\n",
      "/scratch/franzihe/input/ERA5/daily_means/2t_daily_mean_45_90_ERA5_201002.nc is downloaded\n",
      "Have downloaded in total : 592 files\n",
      "/scratch/franzihe/input/ERA5/daily_means/2t_daily_mean_45_90_ERA5_201003.nc is downloaded\n",
      "Have downloaded in total : 593 files\n",
      "/scratch/franzihe/input/ERA5/daily_means/2t_daily_mean_45_90_ERA5_201004.nc is downloaded\n",
      "Have downloaded in total : 594 files\n",
      "/scratch/franzihe/input/ERA5/daily_means/2t_daily_mean_45_90_ERA5_201005.nc is downloaded\n",
      "Have downloaded in total : 595 files\n",
      "/scratch/franzihe/input/ERA5/daily_means/2t_daily_mean_45_90_ERA5_201006.nc is downloaded\n",
      "Have downloaded in total : 596 files\n",
      "/scratch/franzihe/input/ERA5/daily_means/2t_daily_mean_45_90_ERA5_201007.nc is downloaded\n",
      "Have downloaded in total : 597 files\n",
      "/scratch/franzihe/input/ERA5/daily_means/2t_daily_mean_45_90_ERA5_201008.nc is downloaded\n",
      "Have downloaded in total : 598 files\n",
      "/scratch/franzihe/input/ERA5/daily_means/2t_daily_mean_45_90_ERA5_201009.nc is downloaded\n",
      "Have downloaded in total : 599 files\n",
      "/scratch/franzihe/input/ERA5/daily_means/2t_daily_mean_45_90_ERA5_201010.nc is downloaded\n",
      "Have downloaded in total : 600 files\n",
      "/scratch/franzihe/input/ERA5/daily_means/2t_daily_mean_45_90_ERA5_201011.nc is downloaded\n",
      "Have downloaded in total : 601 files\n",
      "/scratch/franzihe/input/ERA5/daily_means/2t_daily_mean_45_90_ERA5_201012.nc is downloaded\n",
      "Have downloaded in total : 602 files\n"
     ]
    },
    {
     "name": "stderr",
     "output_type": "stream",
     "text": [
      "2023-01-23 19:56:11,826 INFO Request is running\n",
      "2023-01-23 19:56:43,347 INFO Request is completed\n"
     ]
    },
    {
     "name": "stdout",
     "output_type": "stream",
     "text": [
      "Writing data to /scratch/franzihe/input/ERA5/daily_means/tp_daily_mean_45_90_ERA5_200701.nc\n"
     ]
    },
    {
     "name": "stderr",
     "output_type": "stream",
     "text": [
      "2023-01-23 19:56:44,440 INFO Welcome to the CDS\n",
      "2023-01-23 19:56:44,440 INFO Sending request to https://cds.climate.copernicus.eu/api/v2/tasks/services/tool/toolbox/orchestrator/workflow/clientid-7d34b2c434e14157b09a649c839953f1\n",
      "2023-01-23 19:56:44,533 INFO Request is queued\n",
      "2023-01-23 19:56:45,587 INFO Request is running\n",
      "2023-01-23 19:57:17,106 INFO Request is completed\n"
     ]
    },
    {
     "name": "stdout",
     "output_type": "stream",
     "text": [
      "Writing data to /scratch/franzihe/input/ERA5/daily_means/tp_daily_mean_45_90_ERA5_200702.nc\n"
     ]
    },
    {
     "name": "stderr",
     "output_type": "stream",
     "text": [
      "2023-01-23 19:57:18,377 INFO Welcome to the CDS\n",
      "2023-01-23 19:57:18,378 INFO Sending request to https://cds.climate.copernicus.eu/api/v2/tasks/services/tool/toolbox/orchestrator/workflow/clientid-3814614baccd40738840b384c92b1ca8\n",
      "2023-01-23 19:57:18,437 INFO Request is queued\n",
      "2023-01-23 19:57:19,490 INFO Request is running\n",
      "2023-01-23 19:57:51,005 INFO Request is completed\n"
     ]
    },
    {
     "name": "stdout",
     "output_type": "stream",
     "text": [
      "Writing data to /scratch/franzihe/input/ERA5/daily_means/tp_daily_mean_45_90_ERA5_200703.nc\n"
     ]
    },
    {
     "name": "stderr",
     "output_type": "stream",
     "text": [
      "2023-01-23 19:57:52,189 INFO Welcome to the CDS\n",
      "2023-01-23 19:57:52,191 INFO Sending request to https://cds.climate.copernicus.eu/api/v2/tasks/services/tool/toolbox/orchestrator/workflow/clientid-7404b1d68ff14fb28b2399f75c90de60\n",
      "2023-01-23 19:57:52,257 INFO Request is queued\n",
      "2023-01-23 19:57:53,311 INFO Request is running\n",
      "2023-01-23 19:58:24,829 INFO Request is completed\n"
     ]
    },
    {
     "name": "stdout",
     "output_type": "stream",
     "text": [
      "Writing data to /scratch/franzihe/input/ERA5/daily_means/tp_daily_mean_45_90_ERA5_200704.nc\n"
     ]
    },
    {
     "name": "stderr",
     "output_type": "stream",
     "text": [
      "2023-01-23 19:58:25,968 INFO Welcome to the CDS\n",
      "2023-01-23 19:58:25,969 INFO Sending request to https://cds.climate.copernicus.eu/api/v2/tasks/services/tool/toolbox/orchestrator/workflow/clientid-357cbc01b006412b834bcfe9f48b9b63\n",
      "2023-01-23 19:58:26,079 INFO Request is queued\n",
      "2023-01-23 19:58:27,435 INFO Request is running\n",
      "2023-01-23 19:58:58,951 INFO Request is completed\n"
     ]
    },
    {
     "name": "stdout",
     "output_type": "stream",
     "text": [
      "Writing data to /scratch/franzihe/input/ERA5/daily_means/tp_daily_mean_45_90_ERA5_200705.nc\n"
     ]
    },
    {
     "name": "stderr",
     "output_type": "stream",
     "text": [
      "2023-01-23 19:59:00,178 INFO Welcome to the CDS\n",
      "2023-01-23 19:59:00,179 INFO Sending request to https://cds.climate.copernicus.eu/api/v2/tasks/services/tool/toolbox/orchestrator/workflow/clientid-b4100364355a499d9b537e99f03c60d6\n",
      "2023-01-23 19:59:00,254 INFO Request is queued\n",
      "2023-01-23 19:59:01,307 INFO Request is running\n",
      "2023-01-23 19:59:32,825 INFO Request is completed\n"
     ]
    },
    {
     "name": "stdout",
     "output_type": "stream",
     "text": [
      "Writing data to /scratch/franzihe/input/ERA5/daily_means/tp_daily_mean_45_90_ERA5_200706.nc\n"
     ]
    },
    {
     "name": "stderr",
     "output_type": "stream",
     "text": [
      "2023-01-23 19:59:34,125 INFO Welcome to the CDS\n",
      "2023-01-23 19:59:34,126 INFO Sending request to https://cds.climate.copernicus.eu/api/v2/tasks/services/tool/toolbox/orchestrator/workflow/clientid-832b2185c41b4d16a1d494a8ec11eba5\n",
      "2023-01-23 19:59:34,220 INFO Request is queued\n",
      "2023-01-23 19:59:35,274 INFO Request is running\n",
      "2023-01-23 20:00:06,791 INFO Request is completed\n"
     ]
    },
    {
     "name": "stdout",
     "output_type": "stream",
     "text": [
      "Writing data to /scratch/franzihe/input/ERA5/daily_means/tp_daily_mean_45_90_ERA5_200707.nc\n"
     ]
    },
    {
     "name": "stderr",
     "output_type": "stream",
     "text": [
      "2023-01-23 20:00:07,927 INFO Welcome to the CDS\n",
      "2023-01-23 20:00:07,927 INFO Sending request to https://cds.climate.copernicus.eu/api/v2/tasks/services/tool/toolbox/orchestrator/workflow/clientid-2566a5a8e07648f2a2c8a7566127dd4c\n",
      "2023-01-23 20:00:07,987 INFO Request is queued\n",
      "2023-01-23 20:00:09,039 INFO Request is running\n",
      "2023-01-23 20:00:40,550 INFO Request is completed\n"
     ]
    },
    {
     "name": "stdout",
     "output_type": "stream",
     "text": [
      "Writing data to /scratch/franzihe/input/ERA5/daily_means/tp_daily_mean_45_90_ERA5_200708.nc\n"
     ]
    },
    {
     "name": "stderr",
     "output_type": "stream",
     "text": [
      "2023-01-23 20:00:41,898 INFO Welcome to the CDS\n",
      "2023-01-23 20:00:41,899 INFO Sending request to https://cds.climate.copernicus.eu/api/v2/tasks/services/tool/toolbox/orchestrator/workflow/clientid-6acee8a1055d44b3a686dde6e5395516\n",
      "2023-01-23 20:00:41,966 INFO Request is queued\n",
      "2023-01-23 20:00:43,021 INFO Request is running\n",
      "2023-01-23 20:01:14,540 INFO Request is completed\n"
     ]
    },
    {
     "name": "stdout",
     "output_type": "stream",
     "text": [
      "Writing data to /scratch/franzihe/input/ERA5/daily_means/tp_daily_mean_45_90_ERA5_200709.nc\n"
     ]
    },
    {
     "name": "stderr",
     "output_type": "stream",
     "text": [
      "2023-01-23 20:01:15,605 INFO Welcome to the CDS\n",
      "2023-01-23 20:01:15,606 INFO Sending request to https://cds.climate.copernicus.eu/api/v2/tasks/services/tool/toolbox/orchestrator/workflow/clientid-2f11ee505c6541a99eb53b75f01195da\n",
      "2023-01-23 20:01:15,662 INFO Request is queued\n",
      "2023-01-23 20:01:16,716 INFO Request is running\n",
      "2023-01-23 20:01:48,232 INFO Request is completed\n"
     ]
    },
    {
     "name": "stdout",
     "output_type": "stream",
     "text": [
      "Writing data to /scratch/franzihe/input/ERA5/daily_means/tp_daily_mean_45_90_ERA5_200710.nc\n"
     ]
    },
    {
     "name": "stderr",
     "output_type": "stream",
     "text": [
      "2023-01-23 20:01:49,466 INFO Welcome to the CDS\n",
      "2023-01-23 20:01:49,467 INFO Sending request to https://cds.climate.copernicus.eu/api/v2/tasks/services/tool/toolbox/orchestrator/workflow/clientid-d48ab7e758a34f15a1637805fb0ca934\n",
      "2023-01-23 20:01:49,523 INFO Request is queued\n",
      "2023-01-23 20:01:50,576 INFO Request is running\n",
      "2023-01-23 20:02:22,091 INFO Request is completed\n"
     ]
    },
    {
     "name": "stdout",
     "output_type": "stream",
     "text": [
      "Writing data to /scratch/franzihe/input/ERA5/daily_means/tp_daily_mean_45_90_ERA5_200711.nc\n"
     ]
    },
    {
     "name": "stderr",
     "output_type": "stream",
     "text": [
      "2023-01-23 20:02:23,376 INFO Welcome to the CDS\n",
      "2023-01-23 20:02:23,378 INFO Sending request to https://cds.climate.copernicus.eu/api/v2/tasks/services/tool/toolbox/orchestrator/workflow/clientid-d5487c82771d446892291c8c5adabe47\n",
      "2023-01-23 20:02:23,438 INFO Request is queued\n",
      "2023-01-23 20:02:24,490 INFO Request is running\n",
      "2023-01-23 20:02:56,001 INFO Request is completed\n"
     ]
    },
    {
     "name": "stdout",
     "output_type": "stream",
     "text": [
      "Writing data to /scratch/franzihe/input/ERA5/daily_means/tp_daily_mean_45_90_ERA5_200712.nc\n"
     ]
    },
    {
     "name": "stderr",
     "output_type": "stream",
     "text": [
      "2023-01-23 20:02:57,254 INFO Welcome to the CDS\n",
      "2023-01-23 20:02:57,255 INFO Sending request to https://cds.climate.copernicus.eu/api/v2/tasks/services/tool/toolbox/orchestrator/workflow/clientid-106cc700e4cf4513a43a52b0625d0ed9\n",
      "2023-01-23 20:02:57,328 INFO Request is queued\n",
      "2023-01-23 20:02:58,382 INFO Request is running\n",
      "2023-01-23 20:03:29,897 INFO Request is completed\n"
     ]
    },
    {
     "name": "stdout",
     "output_type": "stream",
     "text": [
      "Writing data to /scratch/franzihe/input/ERA5/daily_means/tp_daily_mean_45_90_ERA5_200801.nc\n"
     ]
    },
    {
     "name": "stderr",
     "output_type": "stream",
     "text": [
      "2023-01-23 20:03:31,232 INFO Welcome to the CDS\n",
      "2023-01-23 20:03:31,233 INFO Sending request to https://cds.climate.copernicus.eu/api/v2/tasks/services/tool/toolbox/orchestrator/workflow/clientid-2c95bae067c14b0195bbd7365c0b2ab1\n",
      "2023-01-23 20:03:31,309 INFO Request is queued\n",
      "2023-01-23 20:03:32,363 INFO Request is running\n",
      "2023-01-23 20:04:03,881 INFO Request is completed\n"
     ]
    },
    {
     "name": "stdout",
     "output_type": "stream",
     "text": [
      "Writing data to /scratch/franzihe/input/ERA5/daily_means/tp_daily_mean_45_90_ERA5_200802.nc\n"
     ]
    },
    {
     "name": "stderr",
     "output_type": "stream",
     "text": [
      "2023-01-23 20:04:05,253 INFO Welcome to the CDS\n",
      "2023-01-23 20:04:05,254 INFO Sending request to https://cds.climate.copernicus.eu/api/v2/tasks/services/tool/toolbox/orchestrator/workflow/clientid-981c80de1cb746bf88d01ea65d2eab4a\n",
      "2023-01-23 20:04:05,327 INFO Request is queued\n",
      "2023-01-23 20:04:06,380 INFO Request is running\n",
      "2023-01-23 20:04:37,898 INFO Request is completed\n"
     ]
    },
    {
     "name": "stdout",
     "output_type": "stream",
     "text": [
      "Writing data to /scratch/franzihe/input/ERA5/daily_means/tp_daily_mean_45_90_ERA5_200803.nc\n"
     ]
    },
    {
     "name": "stderr",
     "output_type": "stream",
     "text": [
      "2023-01-23 20:04:39,351 INFO Welcome to the CDS\n",
      "2023-01-23 20:04:39,353 INFO Sending request to https://cds.climate.copernicus.eu/api/v2/tasks/services/tool/toolbox/orchestrator/workflow/clientid-12a304e2cca44bf3b2f4dc5cabd001df\n",
      "2023-01-23 20:04:39,456 INFO Request is queued\n",
      "2023-01-23 20:04:40,510 INFO Request is running\n",
      "2023-01-23 20:05:12,213 INFO Request is completed\n"
     ]
    },
    {
     "name": "stdout",
     "output_type": "stream",
     "text": [
      "Writing data to /scratch/franzihe/input/ERA5/daily_means/tp_daily_mean_45_90_ERA5_200804.nc\n"
     ]
    },
    {
     "name": "stderr",
     "output_type": "stream",
     "text": [
      "2023-01-23 20:05:13,676 INFO Welcome to the CDS\n",
      "2023-01-23 20:05:13,677 INFO Sending request to https://cds.climate.copernicus.eu/api/v2/tasks/services/tool/toolbox/orchestrator/workflow/clientid-073b5544c5294a22b6ef44b5da39a8bf\n",
      "2023-01-23 20:05:13,738 INFO Request is queued\n",
      "2023-01-23 20:05:14,794 INFO Request is running\n",
      "2023-01-23 20:05:46,326 INFO Request is completed\n"
     ]
    },
    {
     "name": "stdout",
     "output_type": "stream",
     "text": [
      "Writing data to /scratch/franzihe/input/ERA5/daily_means/tp_daily_mean_45_90_ERA5_200805.nc\n"
     ]
    },
    {
     "name": "stderr",
     "output_type": "stream",
     "text": [
      "2023-01-23 20:05:47,564 INFO Welcome to the CDS\n",
      "2023-01-23 20:05:47,566 INFO Sending request to https://cds.climate.copernicus.eu/api/v2/tasks/services/tool/toolbox/orchestrator/workflow/clientid-ad1c09cbaa654371b1c2dfdd7bf16d00\n",
      "2023-01-23 20:05:47,625 INFO Request is queued\n",
      "2023-01-23 20:05:48,681 INFO Request is running\n",
      "2023-01-23 20:06:20,216 INFO Request is completed\n"
     ]
    },
    {
     "name": "stdout",
     "output_type": "stream",
     "text": [
      "Writing data to /scratch/franzihe/input/ERA5/daily_means/tp_daily_mean_45_90_ERA5_200806.nc\n"
     ]
    },
    {
     "name": "stderr",
     "output_type": "stream",
     "text": [
      "2023-01-23 20:06:21,342 INFO Welcome to the CDS\n",
      "2023-01-23 20:06:21,343 INFO Sending request to https://cds.climate.copernicus.eu/api/v2/tasks/services/tool/toolbox/orchestrator/workflow/clientid-41f5a691900c47feb180e7fcb626411e\n",
      "2023-01-23 20:06:21,419 INFO Request is queued\n",
      "2023-01-23 20:06:22,475 INFO Request is running\n",
      "2023-01-23 20:06:54,010 INFO Request is completed\n"
     ]
    },
    {
     "name": "stdout",
     "output_type": "stream",
     "text": [
      "Writing data to /scratch/franzihe/input/ERA5/daily_means/tp_daily_mean_45_90_ERA5_200807.nc\n"
     ]
    },
    {
     "name": "stderr",
     "output_type": "stream",
     "text": [
      "2023-01-23 20:06:55,228 INFO Welcome to the CDS\n",
      "2023-01-23 20:06:55,230 INFO Sending request to https://cds.climate.copernicus.eu/api/v2/tasks/services/tool/toolbox/orchestrator/workflow/clientid-acff9521561f41b783c444420f59928d\n",
      "2023-01-23 20:06:55,289 INFO Request is queued\n",
      "2023-01-23 20:06:56,344 INFO Request is running\n",
      "2023-01-23 20:07:27,876 INFO Request is completed\n"
     ]
    },
    {
     "name": "stdout",
     "output_type": "stream",
     "text": [
      "Writing data to /scratch/franzihe/input/ERA5/daily_means/tp_daily_mean_45_90_ERA5_200808.nc\n"
     ]
    },
    {
     "name": "stderr",
     "output_type": "stream",
     "text": [
      "2023-01-23 20:07:29,046 INFO Welcome to the CDS\n",
      "2023-01-23 20:07:29,048 INFO Sending request to https://cds.climate.copernicus.eu/api/v2/tasks/services/tool/toolbox/orchestrator/workflow/clientid-b421343c88694676b0efe1e9a6090d56\n",
      "2023-01-23 20:07:29,228 INFO Request is queued\n",
      "2023-01-23 20:07:30,285 INFO Request is running\n",
      "2023-01-23 20:08:01,824 INFO Request is completed\n"
     ]
    },
    {
     "name": "stdout",
     "output_type": "stream",
     "text": [
      "Writing data to /scratch/franzihe/input/ERA5/daily_means/tp_daily_mean_45_90_ERA5_200809.nc\n"
     ]
    },
    {
     "name": "stderr",
     "output_type": "stream",
     "text": [
      "2023-01-23 20:08:03,087 INFO Welcome to the CDS\n",
      "2023-01-23 20:08:03,088 INFO Sending request to https://cds.climate.copernicus.eu/api/v2/tasks/services/tool/toolbox/orchestrator/workflow/clientid-1abbd1865a684609a1f017ea6be417cb\n",
      "2023-01-23 20:08:03,179 INFO Request is queued\n",
      "2023-01-23 20:08:04,235 INFO Request is running\n",
      "2023-01-23 20:08:35,770 INFO Request is completed\n"
     ]
    },
    {
     "name": "stdout",
     "output_type": "stream",
     "text": [
      "Writing data to /scratch/franzihe/input/ERA5/daily_means/tp_daily_mean_45_90_ERA5_200810.nc\n"
     ]
    },
    {
     "name": "stderr",
     "output_type": "stream",
     "text": [
      "2023-01-23 20:08:37,610 INFO Welcome to the CDS\n",
      "2023-01-23 20:08:37,611 INFO Sending request to https://cds.climate.copernicus.eu/api/v2/tasks/services/tool/toolbox/orchestrator/workflow/clientid-5b69c4073ca447cd80855e7bdf913231\n",
      "2023-01-23 20:08:37,687 INFO Request is queued\n",
      "2023-01-23 20:08:38,745 INFO Request is running\n",
      "2023-01-23 20:09:10,282 INFO Request is completed\n"
     ]
    },
    {
     "name": "stdout",
     "output_type": "stream",
     "text": [
      "Writing data to /scratch/franzihe/input/ERA5/daily_means/tp_daily_mean_45_90_ERA5_200811.nc\n"
     ]
    },
    {
     "name": "stderr",
     "output_type": "stream",
     "text": [
      "2023-01-23 20:09:11,447 INFO Welcome to the CDS\n",
      "2023-01-23 20:09:11,448 INFO Sending request to https://cds.climate.copernicus.eu/api/v2/tasks/services/tool/toolbox/orchestrator/workflow/clientid-ae090d5b8ec949d291857e3d9f67a5a0\n",
      "2023-01-23 20:09:11,522 INFO Request is queued\n",
      "2023-01-23 20:09:12,580 INFO Request is running\n",
      "2023-01-23 20:09:44,116 INFO Request is completed\n"
     ]
    },
    {
     "name": "stdout",
     "output_type": "stream",
     "text": [
      "Writing data to /scratch/franzihe/input/ERA5/daily_means/tp_daily_mean_45_90_ERA5_200812.nc\n"
     ]
    },
    {
     "name": "stderr",
     "output_type": "stream",
     "text": [
      "2023-01-23 20:09:45,270 INFO Welcome to the CDS\n",
      "2023-01-23 20:09:45,271 INFO Sending request to https://cds.climate.copernicus.eu/api/v2/tasks/services/tool/toolbox/orchestrator/workflow/clientid-55d094be13b44935b1a3bcc5fc11df7a\n",
      "2023-01-23 20:09:45,333 INFO Request is queued\n",
      "2023-01-23 20:09:46,390 INFO Request is running\n",
      "2023-01-23 20:10:17,926 INFO Request is completed\n"
     ]
    },
    {
     "name": "stdout",
     "output_type": "stream",
     "text": [
      "Writing data to /scratch/franzihe/input/ERA5/daily_means/tp_daily_mean_45_90_ERA5_200901.nc\n"
     ]
    },
    {
     "name": "stderr",
     "output_type": "stream",
     "text": [
      "2023-01-23 20:10:19,310 INFO Welcome to the CDS\n",
      "2023-01-23 20:10:19,311 INFO Sending request to https://cds.climate.copernicus.eu/api/v2/tasks/services/tool/toolbox/orchestrator/workflow/clientid-6412695a7c14464ca3cfaa59ee7b39bd\n",
      "2023-01-23 20:10:19,387 INFO Request is queued\n",
      "2023-01-23 20:10:20,442 INFO Request is running\n",
      "2023-01-23 20:10:51,978 INFO Request is completed\n"
     ]
    },
    {
     "name": "stdout",
     "output_type": "stream",
     "text": [
      "Writing data to /scratch/franzihe/input/ERA5/daily_means/tp_daily_mean_45_90_ERA5_200902.nc\n"
     ]
    },
    {
     "name": "stderr",
     "output_type": "stream",
     "text": [
      "2023-01-23 20:10:53,581 INFO Welcome to the CDS\n",
      "2023-01-23 20:10:53,583 INFO Sending request to https://cds.climate.copernicus.eu/api/v2/tasks/services/tool/toolbox/orchestrator/workflow/clientid-3d3f45a1bf334f43aaaaf13cdda9b46a\n",
      "2023-01-23 20:10:53,657 INFO Request is queued\n",
      "2023-01-23 20:10:54,716 INFO Request is running\n",
      "2023-01-23 20:11:26,364 INFO Request is completed\n"
     ]
    },
    {
     "name": "stdout",
     "output_type": "stream",
     "text": [
      "Writing data to /scratch/franzihe/input/ERA5/daily_means/tp_daily_mean_45_90_ERA5_200903.nc\n"
     ]
    },
    {
     "name": "stderr",
     "output_type": "stream",
     "text": [
      "2023-01-23 20:11:27,890 INFO Welcome to the CDS\n",
      "2023-01-23 20:11:27,891 INFO Sending request to https://cds.climate.copernicus.eu/api/v2/tasks/services/tool/toolbox/orchestrator/workflow/clientid-597d3819506044f6a59ed784ba140fe5\n",
      "2023-01-23 20:11:27,956 INFO Request is queued\n",
      "2023-01-23 20:11:29,006 INFO Request is running\n",
      "2023-01-23 20:12:00,500 INFO Request is completed\n"
     ]
    },
    {
     "name": "stdout",
     "output_type": "stream",
     "text": [
      "Writing data to /scratch/franzihe/input/ERA5/daily_means/tp_daily_mean_45_90_ERA5_200904.nc\n"
     ]
    },
    {
     "name": "stderr",
     "output_type": "stream",
     "text": [
      "2023-01-23 20:12:01,605 INFO Welcome to the CDS\n",
      "2023-01-23 20:12:01,606 INFO Sending request to https://cds.climate.copernicus.eu/api/v2/tasks/services/tool/toolbox/orchestrator/workflow/clientid-19ee339900924e248e9f7a9f3f7f985f\n",
      "2023-01-23 20:12:01,661 INFO Request is queued\n",
      "2023-01-23 20:12:02,712 INFO Request is running\n",
      "2023-01-23 20:12:34,218 INFO Request is completed\n"
     ]
    },
    {
     "name": "stdout",
     "output_type": "stream",
     "text": [
      "Writing data to /scratch/franzihe/input/ERA5/daily_means/tp_daily_mean_45_90_ERA5_200905.nc\n"
     ]
    },
    {
     "name": "stderr",
     "output_type": "stream",
     "text": [
      "2023-01-23 20:12:35,333 INFO Welcome to the CDS\n",
      "2023-01-23 20:12:35,334 INFO Sending request to https://cds.climate.copernicus.eu/api/v2/tasks/services/tool/toolbox/orchestrator/workflow/clientid-28866da8c7484fc89d920882f5e5c8e7\n",
      "2023-01-23 20:12:35,399 INFO Request is queued\n",
      "2023-01-23 20:12:36,451 INFO Request is running\n",
      "2023-01-23 20:13:07,950 INFO Request is completed\n"
     ]
    },
    {
     "name": "stdout",
     "output_type": "stream",
     "text": [
      "Writing data to /scratch/franzihe/input/ERA5/daily_means/tp_daily_mean_45_90_ERA5_200906.nc\n"
     ]
    },
    {
     "name": "stderr",
     "output_type": "stream",
     "text": [
      "2023-01-23 20:13:09,113 INFO Welcome to the CDS\n",
      "2023-01-23 20:13:09,114 INFO Sending request to https://cds.climate.copernicus.eu/api/v2/tasks/services/tool/toolbox/orchestrator/workflow/clientid-dd741914ff3c44a8b3471cecb4309710\n",
      "2023-01-23 20:13:09,178 INFO Request is queued\n",
      "2023-01-23 20:13:10,228 INFO Request is running\n",
      "2023-01-23 20:13:41,723 INFO Request is completed\n"
     ]
    },
    {
     "name": "stdout",
     "output_type": "stream",
     "text": [
      "Writing data to /scratch/franzihe/input/ERA5/daily_means/tp_daily_mean_45_90_ERA5_200907.nc\n"
     ]
    },
    {
     "name": "stderr",
     "output_type": "stream",
     "text": [
      "2023-01-23 20:13:43,056 INFO Welcome to the CDS\n",
      "2023-01-23 20:13:43,057 INFO Sending request to https://cds.climate.copernicus.eu/api/v2/tasks/services/tool/toolbox/orchestrator/workflow/clientid-6092e012d5514c30a38927cf2928a384\n",
      "2023-01-23 20:13:43,111 INFO Request is queued\n",
      "2023-01-23 20:13:44,163 INFO Request is running\n",
      "2023-01-23 20:14:15,661 INFO Request is completed\n"
     ]
    },
    {
     "name": "stdout",
     "output_type": "stream",
     "text": [
      "Writing data to /scratch/franzihe/input/ERA5/daily_means/tp_daily_mean_45_90_ERA5_200908.nc\n"
     ]
    },
    {
     "name": "stderr",
     "output_type": "stream",
     "text": [
      "2023-01-23 20:14:18,757 INFO Welcome to the CDS\n",
      "2023-01-23 20:14:18,758 INFO Sending request to https://cds.climate.copernicus.eu/api/v2/tasks/services/tool/toolbox/orchestrator/workflow/clientid-53703f73614f420e89e4a4fe0e9299b2\n",
      "2023-01-23 20:14:18,814 INFO Request is queued\n",
      "2023-01-23 20:14:19,864 INFO Request is running\n",
      "2023-01-23 20:14:51,359 INFO Request is completed\n"
     ]
    },
    {
     "name": "stdout",
     "output_type": "stream",
     "text": [
      "Writing data to /scratch/franzihe/input/ERA5/daily_means/tp_daily_mean_45_90_ERA5_200909.nc\n"
     ]
    },
    {
     "name": "stderr",
     "output_type": "stream",
     "text": [
      "2023-01-23 20:14:53,834 INFO Welcome to the CDS\n",
      "2023-01-23 20:14:53,835 INFO Sending request to https://cds.climate.copernicus.eu/api/v2/tasks/services/tool/toolbox/orchestrator/workflow/clientid-1b79f2756a71496aa41fbb86f7c3baa2\n",
      "2023-01-23 20:14:53,889 INFO Request is queued\n",
      "2023-01-23 20:14:54,939 INFO Request is running\n",
      "2023-01-23 20:15:26,433 INFO Request is completed\n"
     ]
    },
    {
     "name": "stdout",
     "output_type": "stream",
     "text": [
      "Writing data to /scratch/franzihe/input/ERA5/daily_means/tp_daily_mean_45_90_ERA5_200910.nc\n"
     ]
    },
    {
     "name": "stderr",
     "output_type": "stream",
     "text": [
      "2023-01-23 20:15:27,716 INFO Welcome to the CDS\n",
      "2023-01-23 20:15:27,718 INFO Sending request to https://cds.climate.copernicus.eu/api/v2/tasks/services/tool/toolbox/orchestrator/workflow/clientid-cbdc84268344485b878e114cc85fb7f5\n",
      "2023-01-23 20:15:27,784 INFO Request is queued\n",
      "2023-01-23 20:15:28,834 INFO Request is running\n",
      "2023-01-23 20:16:00,331 INFO Request is completed\n"
     ]
    },
    {
     "name": "stdout",
     "output_type": "stream",
     "text": [
      "Writing data to /scratch/franzihe/input/ERA5/daily_means/tp_daily_mean_45_90_ERA5_200911.nc\n"
     ]
    },
    {
     "name": "stderr",
     "output_type": "stream",
     "text": [
      "2023-01-23 20:16:02,070 INFO Welcome to the CDS\n",
      "2023-01-23 20:16:02,071 INFO Sending request to https://cds.climate.copernicus.eu/api/v2/tasks/services/tool/toolbox/orchestrator/workflow/clientid-0efee7fae6494d2fa972655010c532d2\n",
      "2023-01-23 20:16:02,136 INFO Request is queued\n",
      "2023-01-23 20:16:03,188 INFO Request is running\n",
      "2023-01-23 20:16:34,687 INFO Request is completed\n"
     ]
    },
    {
     "name": "stdout",
     "output_type": "stream",
     "text": [
      "Writing data to /scratch/franzihe/input/ERA5/daily_means/tp_daily_mean_45_90_ERA5_200912.nc\n"
     ]
    },
    {
     "name": "stderr",
     "output_type": "stream",
     "text": [
      "2023-01-23 20:16:38,174 INFO Welcome to the CDS\n",
      "2023-01-23 20:16:38,175 INFO Sending request to https://cds.climate.copernicus.eu/api/v2/tasks/services/tool/toolbox/orchestrator/workflow/clientid-2cc3517fb1884ab38c90a328b9c5d006\n",
      "2023-01-23 20:16:38,256 INFO Request is queued\n",
      "2023-01-23 20:16:39,306 INFO Request is running\n",
      "2023-01-23 20:17:10,805 INFO Request is completed\n"
     ]
    },
    {
     "name": "stdout",
     "output_type": "stream",
     "text": [
      "Writing data to /scratch/franzihe/input/ERA5/daily_means/tp_daily_mean_45_90_ERA5_201001.nc\n"
     ]
    },
    {
     "name": "stderr",
     "output_type": "stream",
     "text": [
      "2023-01-23 20:17:13,796 INFO Welcome to the CDS\n",
      "2023-01-23 20:17:13,798 INFO Sending request to https://cds.climate.copernicus.eu/api/v2/tasks/services/tool/toolbox/orchestrator/workflow/clientid-167fbb1a8dc5402b8d68f81005fc29bb\n",
      "2023-01-23 20:17:13,876 INFO Request is queued\n",
      "2023-01-23 20:17:14,928 INFO Request is running\n",
      "2023-01-23 20:17:46,597 INFO Request is completed\n"
     ]
    },
    {
     "name": "stdout",
     "output_type": "stream",
     "text": [
      "Writing data to /scratch/franzihe/input/ERA5/daily_means/tp_daily_mean_45_90_ERA5_201002.nc\n"
     ]
    },
    {
     "name": "stderr",
     "output_type": "stream",
     "text": [
      "2023-01-23 20:17:47,766 INFO Welcome to the CDS\n",
      "2023-01-23 20:17:47,767 INFO Sending request to https://cds.climate.copernicus.eu/api/v2/tasks/services/tool/toolbox/orchestrator/workflow/clientid-5cff21d9375d479a9685dbdd3854c731\n",
      "2023-01-23 20:17:47,853 INFO Request is queued\n",
      "2023-01-23 20:17:48,907 INFO Request is running\n",
      "2023-01-23 20:18:20,426 INFO Request is completed\n"
     ]
    },
    {
     "name": "stdout",
     "output_type": "stream",
     "text": [
      "Writing data to /scratch/franzihe/input/ERA5/daily_means/tp_daily_mean_45_90_ERA5_201003.nc\n"
     ]
    },
    {
     "name": "stderr",
     "output_type": "stream",
     "text": [
      "2023-01-23 20:18:21,613 INFO Welcome to the CDS\n",
      "2023-01-23 20:18:21,614 INFO Sending request to https://cds.climate.copernicus.eu/api/v2/tasks/services/tool/toolbox/orchestrator/workflow/clientid-9ecd8c5e9f954a04ac18ee13b4372f45\n",
      "2023-01-23 20:18:21,671 INFO Request is queued\n",
      "2023-01-23 20:18:22,724 INFO Request is running\n",
      "2023-01-23 20:18:54,239 INFO Request is completed\n"
     ]
    },
    {
     "name": "stdout",
     "output_type": "stream",
     "text": [
      "Writing data to /scratch/franzihe/input/ERA5/daily_means/tp_daily_mean_45_90_ERA5_201004.nc\n"
     ]
    },
    {
     "name": "stderr",
     "output_type": "stream",
     "text": [
      "2023-01-23 20:18:55,480 INFO Welcome to the CDS\n",
      "2023-01-23 20:18:55,480 INFO Sending request to https://cds.climate.copernicus.eu/api/v2/tasks/services/tool/toolbox/orchestrator/workflow/clientid-7318b88a5b7d4f1fbf7891a96d6cc18d\n",
      "2023-01-23 20:18:55,569 INFO Request is queued\n",
      "2023-01-23 20:18:56,621 INFO Request is running\n",
      "2023-01-23 20:19:28,137 INFO Request is completed\n"
     ]
    },
    {
     "name": "stdout",
     "output_type": "stream",
     "text": [
      "Writing data to /scratch/franzihe/input/ERA5/daily_means/tp_daily_mean_45_90_ERA5_201005.nc\n"
     ]
    },
    {
     "name": "stderr",
     "output_type": "stream",
     "text": [
      "2023-01-23 20:19:29,435 INFO Welcome to the CDS\n",
      "2023-01-23 20:19:29,437 INFO Sending request to https://cds.climate.copernicus.eu/api/v2/tasks/services/tool/toolbox/orchestrator/workflow/clientid-62e39366a45e41c0a6088003c0eb1f2c\n",
      "2023-01-23 20:19:29,525 INFO Request is queued\n",
      "2023-01-23 20:19:30,579 INFO Request is running\n",
      "2023-01-23 20:20:02,096 INFO Request is completed\n"
     ]
    },
    {
     "name": "stdout",
     "output_type": "stream",
     "text": [
      "Writing data to /scratch/franzihe/input/ERA5/daily_means/tp_daily_mean_45_90_ERA5_201006.nc\n"
     ]
    },
    {
     "name": "stderr",
     "output_type": "stream",
     "text": [
      "2023-01-23 20:20:03,315 INFO Welcome to the CDS\n",
      "2023-01-23 20:20:03,316 INFO Sending request to https://cds.climate.copernicus.eu/api/v2/tasks/services/tool/toolbox/orchestrator/workflow/clientid-fd6b03af2a254b0b83f9c165d257a40c\n",
      "2023-01-23 20:20:03,389 INFO Request is queued\n",
      "2023-01-23 20:20:04,443 INFO Request is running\n",
      "2023-01-23 20:20:35,965 INFO Request is completed\n"
     ]
    },
    {
     "name": "stdout",
     "output_type": "stream",
     "text": [
      "Writing data to /scratch/franzihe/input/ERA5/daily_means/tp_daily_mean_45_90_ERA5_201007.nc\n"
     ]
    },
    {
     "name": "stderr",
     "output_type": "stream",
     "text": [
      "2023-01-23 20:20:38,950 INFO Welcome to the CDS\n",
      "2023-01-23 20:20:38,951 INFO Sending request to https://cds.climate.copernicus.eu/api/v2/tasks/services/tool/toolbox/orchestrator/workflow/clientid-e8a1feb63e144eb5accc320fc1e03c1e\n",
      "2023-01-23 20:20:39,036 INFO Request is queued\n",
      "2023-01-23 20:20:40,089 INFO Request is running\n",
      "2023-01-23 20:21:11,606 INFO Request is completed\n"
     ]
    },
    {
     "name": "stdout",
     "output_type": "stream",
     "text": [
      "Writing data to /scratch/franzihe/input/ERA5/daily_means/tp_daily_mean_45_90_ERA5_201008.nc\n"
     ]
    },
    {
     "name": "stderr",
     "output_type": "stream",
     "text": [
      "2023-01-23 20:21:13,237 INFO Welcome to the CDS\n",
      "2023-01-23 20:21:13,238 INFO Sending request to https://cds.climate.copernicus.eu/api/v2/tasks/services/tool/toolbox/orchestrator/workflow/clientid-e8fa6fa1bd56426fb4bb595afe3751a0\n",
      "2023-01-23 20:21:13,307 INFO Request is queued\n",
      "2023-01-23 20:21:14,361 INFO Request is running\n",
      "2023-01-23 20:21:45,878 INFO Request is completed\n"
     ]
    },
    {
     "name": "stdout",
     "output_type": "stream",
     "text": [
      "Writing data to /scratch/franzihe/input/ERA5/daily_means/tp_daily_mean_45_90_ERA5_201009.nc\n"
     ]
    },
    {
     "name": "stderr",
     "output_type": "stream",
     "text": [
      "2023-01-23 20:21:47,071 INFO Welcome to the CDS\n",
      "2023-01-23 20:21:47,073 INFO Sending request to https://cds.climate.copernicus.eu/api/v2/tasks/services/tool/toolbox/orchestrator/workflow/clientid-f4fe0f3aeb674516832c527f0ad688c3\n",
      "2023-01-23 20:21:47,160 INFO Request is queued\n",
      "2023-01-23 20:21:48,215 INFO Request is running\n",
      "2023-01-23 20:22:19,737 INFO Request is completed\n"
     ]
    },
    {
     "name": "stdout",
     "output_type": "stream",
     "text": [
      "Writing data to /scratch/franzihe/input/ERA5/daily_means/tp_daily_mean_45_90_ERA5_201010.nc\n"
     ]
    },
    {
     "name": "stderr",
     "output_type": "stream",
     "text": [
      "2023-01-23 20:22:20,878 INFO Welcome to the CDS\n",
      "2023-01-23 20:22:20,879 INFO Sending request to https://cds.climate.copernicus.eu/api/v2/tasks/services/tool/toolbox/orchestrator/workflow/clientid-85e849bc1261422aa9b617762621595e\n",
      "2023-01-23 20:22:20,946 INFO Request is queued\n",
      "2023-01-23 20:22:22,000 INFO Request is running\n",
      "2023-01-23 20:22:53,514 INFO Request is completed\n"
     ]
    },
    {
     "name": "stdout",
     "output_type": "stream",
     "text": [
      "Writing data to /scratch/franzihe/input/ERA5/daily_means/tp_daily_mean_45_90_ERA5_201011.nc\n"
     ]
    },
    {
     "name": "stderr",
     "output_type": "stream",
     "text": [
      "2023-01-23 20:22:55,175 INFO Welcome to the CDS\n",
      "2023-01-23 20:22:55,176 INFO Sending request to https://cds.climate.copernicus.eu/api/v2/tasks/services/tool/toolbox/orchestrator/workflow/clientid-9e95f633633a4919868c44c1c677566a\n",
      "2023-01-23 20:22:55,250 INFO Request is queued\n",
      "2023-01-23 20:22:56,304 INFO Request is running\n",
      "2023-01-23 20:23:27,816 INFO Request is completed\n"
     ]
    },
    {
     "name": "stdout",
     "output_type": "stream",
     "text": [
      "Writing data to /scratch/franzihe/input/ERA5/daily_means/tp_daily_mean_45_90_ERA5_201012.nc\n"
     ]
    }
   ],
   "source": [
    "# c = cdsapi.Client(timeout=480)\n",
    "c = cdsapi.Client()\n",
    "\n",
    "counter=0\n",
    "for lat in latitude:\n",
    "    for keys, var in variable.items(): \n",
    "\n",
    "        for yr in YEARS:\n",
    "            for mn in MONTHS:\n",
    "                file_name = '{}_{}_{}_{}_ERA5_{}{}.nc'.format(keys,stat, lat[0], lat[1],yr,mn)\n",
    "                file_out = os.path.join(era_out, file_name)\n",
    "                \n",
    "                files = glob(file_out)\n",
    "                if file_out in files:\n",
    "                    print(file_out + ' is downloaded')\n",
    "                    counter += 1\n",
    "                    print(\"Have downloaded in total : \" + str(counter) + \" files\")\n",
    "                else:\n",
    "                \n",
    "                    result = c.service(\n",
    "                        \"tool.toolbox.orchestrator.workflow\",\n",
    "                        params={\n",
    "                            \"realm\": \"user-apps\",\n",
    "                            \"project\": \"app-c3s-daily-era5-statistics\",\n",
    "                            \"version\": \"master\",\n",
    "                            \"kwargs\": {\n",
    "                                \"dataset\": \"reanalysis-era5-single-levels\",\n",
    "                                \"product_type\": \"reanalysis\",\n",
    "                                \"variable\": var,\n",
    "                                \"statistic\": stat,\n",
    "                                \"year\": yr,\n",
    "                                \"month\": mn,\n",
    "                                \"time_zone\": \"UTC+00:0\",\n",
    "                                \"frequency\": \"1-hourly\",\n",
    "            #\n",
    "            # Users can change the output grid resolution and selected area\n",
    "            #\n",
    "                                \"grid\": \"0.25/0.25\",\n",
    "                                \"area\":{\"lat\": lat, \"lon\": [-180, 180]}\n",
    "                                },\n",
    "                            \"workflow_name\": \"application\"\n",
    "                    })\n",
    "                    \n",
    "            # set name of output file for each month (statistic, variable, year, month     \n",
    "            \n",
    "                    \n",
    "                    \n",
    "                    location=result[0]['location']\n",
    "                    res = requests.get(location, stream = True)\n",
    "                    print(\"Writing data to \" + file_out)\n",
    "                    with open(file_out,'wb') as fh:\n",
    "                        for r in res.iter_content(chunk_size = 1024):\n",
    "                            fh.write(r)\n",
    "                    fh.close()"
   ]
  },
  {
   "cell_type": "code",
   "execution_count": null,
   "metadata": {},
   "outputs": [],
   "source": []
  }
 ],
 "metadata": {
  "kernelspec": {
   "display_name": "globalsnow",
   "language": "python",
   "name": "python3"
  },
  "language_info": {
   "codemirror_mode": {
    "name": "ipython",
    "version": 3
   },
   "file_extension": ".py",
   "mimetype": "text/x-python",
   "name": "python",
   "nbconvert_exporter": "python",
   "pygments_lexer": "ipython3",
   "version": "3.10.6"
  },
  "orig_nbformat": 4,
  "vscode": {
   "interpreter": {
    "hash": "7f24944080b15318569c1ef785be98f8dd5a0531d3a23558ab9e7edab213d92e"
   }
  }
 },
 "nbformat": 4,
 "nbformat_minor": 2
}
