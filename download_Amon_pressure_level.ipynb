{
 "cells": [
  {
   "cell_type": "markdown",
   "metadata": {},
   "source": [
    "# ERA5 monthly averaged data on pressure levels from 1985 to 2014\n",
    "\n",
    "ERA5 form: https://cds.climate.copernicus.eu/cdsapp#!/dataset/reanalysis-era5-pressure-levels-monthly-means?tab=form\n",
    "\n",
    "ERA5 variables: https://confluence.ecmwf.int/display/CKB/ERA5%3A+data+documentation"
   ]
  },
  {
   "cell_type": "code",
   "execution_count": null,
   "metadata": {},
   "outputs": [],
   "source": [
    "import cdsapi\n",
    "import glob"
   ]
  },
  {
   "cell_type": "code",
   "execution_count": null,
   "metadata": {},
   "outputs": [],
   "source": [
    "path = '/home/franzihe/nird_franzihe/data/ERA5/'"
   ]
  },
  {
   "cell_type": "code",
   "execution_count": null,
   "metadata": {},
   "outputs": [],
   "source": [
    "form = 'netcdf' # 'grib'"
   ]
  },
  {
   "cell_type": "code",
   "execution_count": null,
   "metadata": {},
   "outputs": [],
   "source": [
    "available_month = {'01_12':['01', '02', '03', '04', '05', '06', '07', '08', '09', '10', '11', '12']}"
   ]
  },
  {
   "cell_type": "code",
   "execution_count": null,
   "metadata": {
    "lines_to_next_cell": 2
   },
   "outputs": [],
   "source": [
    "available_years = {\n",
    "                   \"85-89\": ['1985','1986','1987','1988','1989',],\n",
    "                   \"90-99\": ['1990','1991','1992','1993','1994','1995','1996','1997','1998','1999',],\n",
    "                   \"00-09\": ['2000','2001','2002','2003','2004','2005','2006','2007','2008','2009',],\n",
    "                   \"10-14\": ['2010','2011','2012','2013','2014',]\n",
    "                    }"
   ]
  },
  {
   "cell_type": "code",
   "execution_count": null,
   "metadata": {},
   "outputs": [],
   "source": [
    "variable = {'t'   :'temperature',\n",
    "            'clwc':'specific_cloud_liquid_water_content',\n",
    "            'ciwc':'specific_cloud_ice_water_content',\n",
    "            'cswc':'specific_snow_water_content'}"
   ]
  },
  {
   "cell_type": "markdown",
   "metadata": {},
   "source": [
    "CMIP6:\n",
    "- _Amon_ :Monthly atmospheric data [mon] (75 variables) (http://clipc-services.ceda.ac.uk/dreq/index/miptable.html)\n",
    "\n",
    "ERA5:\n",
    "- Monthly means (of daily means) for the month as a whole - in the CDS, referred to as \"monthly averaged\". These monthly means are created from all the hourly (3 hourly for the ensemble) data in the month.\n",
    "(https://confluence.ecmwf.int/pages/viewpage.action?pageId=82870405#ERA5:datadocumentation-Monthlymeans)"
   ]
  },
  {
   "cell_type": "code",
   "execution_count": null,
   "metadata": {},
   "outputs": [],
   "source": [
    "counter = 0\n",
    "for keys, var in variable.items(): \n",
    "    for years in (available_years):\n",
    "        for months in available_month:\n",
    "         #   print(var, available_years[years], available_month[months])\n",
    "            \n",
    "            if form == 'netcdf':\n",
    "                _ff = 'nc'\n",
    "            elif form == 'grib':\n",
    "                _ff = 'grib'\n",
    "\n",
    "\n",
    "            filename = '{keys}_Amon_ERA5_{starty}{startm}_{endy}{endm}.{format}'.format(keys = keys,\n",
    "                                                                                   starty = available_years[years][0],\n",
    "                                                                                   startm = available_month[months][0],\n",
    "                                                                                   endy = available_years[years][-1], \n",
    "                                                                                   endm = available_month[months][-1], \n",
    "                                                                                      format = _ff)\n",
    "    #        print(filename)\n",
    "\n",
    "            files = glob.glob(path+filename)\n",
    "            if path + filename in files:\n",
    "                print(path + filename + ' is downloaded')\n",
    "                counter += 1\n",
    "                print(\"Have downloaded in total : \" + str(counter) + \" files\")\n",
    "            else:\n",
    "                c = cdsapi.Client()\n",
    "\n",
    "                c.retrieve(\n",
    "                    'reanalysis-era5-pressure-levels-monthly-means',\n",
    "                    {\n",
    "                        'product_type': 'monthly_averaged_reanalysis',\n",
    "                        'variable': var,\n",
    "                        'pressure_level': [\n",
    "                            '1', '2', '3',\n",
    "                            '5', '7', '10',\n",
    "                            '20', '30', '50',\n",
    "                            '70', '100', '125',\n",
    "                            '150', '175', '200',\n",
    "                            '225', '250', '300',\n",
    "                            '350', '400', '450',\n",
    "                            '500', '550', '600',\n",
    "                            '650', '700', '750',\n",
    "                            '775', '800', '825',\n",
    "                            '850', '875', '900',\n",
    "                            '925', '950', '975',\n",
    "                            '1000',\n",
    "                        ],\n",
    "                        'year': available_years[years],\n",
    "                        'month': available_month[months],\n",
    "                        'time': '00:00',\n",
    "                        'format': form,\n",
    "                        'stream': 'moda'\n",
    "                    },\n",
    "                    path + filename)\n",
    "                print('File saved: {}'.format(path + filename))"
   ]
  },
  {
   "cell_type": "code",
   "execution_count": null,
   "metadata": {},
   "outputs": [],
   "source": []
  }
 ],
 "metadata": {
  "jupytext": {
   "formats": "ipynb,py:light"
  },
  "kernelspec": {
   "display_name": "Python 3",
   "language": "python",
   "name": "python3"
  },
  "language_info": {
   "codemirror_mode": {
    "name": "ipython",
    "version": 3
   },
   "file_extension": ".py",
   "mimetype": "text/x-python",
   "name": "python",
   "nbconvert_exporter": "python",
   "pygments_lexer": "ipython3",
   "version": "3.7.3"
  }
 },
 "nbformat": 4,
 "nbformat_minor": 4
}
