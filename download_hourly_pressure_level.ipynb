{
 "cells": [
  {
   "cell_type": "markdown",
   "metadata": {},
   "source": [
    "# ERA5 monthly averaged data on pressure levels from 1985 to 2014\n",
    "\n",
    "ERA5 form: https://cds.climate.copernicus.eu/cdsapp#!/dataset/reanalysis-era5-pressure-levels?tab=form\n",
    "\n",
    "ERA5 variables: https://confluence.ecmwf.int/display/CKB/ERA5%3A+data+documentation"
   ]
  },
  {
   "cell_type": "code",
   "execution_count": null,
   "metadata": {},
   "outputs": [],
   "source": [
    "import cdsapi\n",
    "import glob"
   ]
  },
  {
   "cell_type": "code",
   "execution_count": null,
   "metadata": {},
   "outputs": [],
   "source": [
    "path = '/home/franzihe/nird_NS9600K/franzihe/data/ERA5/3_hourly/'"
   ]
  },
  {
   "cell_type": "code",
   "execution_count": null,
   "metadata": {},
   "outputs": [],
   "source": [
    "form = 'netcdf' # 'grib'"
   ]
  },
  {
   "cell_type": "code",
   "execution_count": null,
   "metadata": {},
   "outputs": [],
   "source": [
    "available_month = {\n",
    "                   '01':['01'],\n",
    "                   '02':['02'],\n",
    "                   '03':['03'],\n",
    "                   '04':['04'], \n",
    "                   '05':['05'], \n",
    "                   '06':['06'], \n",
    "                   '07':['07'],\n",
    "                   '08':['08'], \n",
    "                   '09':['09'], \n",
    "                   '10':['10'], \n",
    "                   '11':['11'], \n",
    "                   '12':['12']\n",
    "                  }"
   ]
  },
  {
   "cell_type": "code",
   "execution_count": null,
   "metadata": {
    "lines_to_next_cell": 2
   },
   "outputs": [],
   "source": [
    "available_years = {\n",
    "                   \"08\": ['2008',],\n",
    "                    }"
   ]
  },
  {
   "cell_type": "code",
   "execution_count": null,
   "metadata": {},
   "outputs": [],
   "source": [
    "variable = {'t'   :'temperature',\n",
    "            'crwc':'specific_rain_water_content',\n",
    "            'cswc':'specific_snow_water_content',\n",
    "             'clwc':'specific_cloud_liquid_water_content',\n",
    "            'ciwc':'specific_cloud_ice_water_content'\n",
    "           }"
   ]
  },
  {
   "cell_type": "code",
   "execution_count": null,
   "metadata": {},
   "outputs": [],
   "source": [
    "counter = 0\n",
    "for keys, var in variable.items(): \n",
    "    for years in (available_years):\n",
    "        for months in available_month:\n",
    "            \n",
    "            if form == 'netcdf':\n",
    "                _ff = 'nc'\n",
    "            elif form == 'grib':\n",
    "                _ff = 'grib'\n",
    "\n",
    "\n",
    "            filename = '{keys}_3hourly_ERA5_{starty}{startm}.{format}'.format(keys = keys,\n",
    "                                                                                   starty = available_years[years][0],\n",
    "                                                                                   startm = available_month[months][0], \n",
    "                                                                                      format = _ff)\n",
    "            files = glob.glob(path+filename)\n",
    "            if path + filename in files:\n",
    "                print(path + filename + ' is downloaded')\n",
    "                counter += 1\n",
    "                print(\"Have downloaded in total : \" + str(counter) + \" files\")\n",
    "            else:\n",
    "                c = cdsapi.Client()\n",
    "\n",
    "                c.retrieve(\n",
    "                    'reanalysis-era5-pressure-levels',\n",
    "                    {\n",
    "                        'product_type': 'reanalysis',\n",
    "                        'format': form,\n",
    "                        'pressure_level': [\n",
    "                            '1', '2', '3',\n",
    "                            '5', '7', '10',\n",
    "                            '20', '30', '50',\n",
    "                            '70', '100', '125',\n",
    "                            '150', '175', '200',\n",
    "                            '225', '250', '300',\n",
    "                            '350', '400', '450',\n",
    "                            '500', '550', '600',\n",
    "                            '650', '700', '750',\n",
    "                            '775', '800', '825',\n",
    "                            '850', '875', '900',\n",
    "                            '925', '950', '975',\n",
    "                            '1000',\n",
    "                        ],\n",
    "                        'variable': var,\n",
    "                        'year': available_years[years],\n",
    "                        'month': available_month[months],\n",
    "                        'day': [\n",
    "                            '01', '02', '03',\n",
    "                            '04', '05', '06',\n",
    "                            '07', '08', '09',\n",
    "                            '10', '11', '12',\n",
    "                            '13', '14', '15',\n",
    "                            '16', '17', '18',\n",
    "                            '19', '20', '21',\n",
    "                            '22', '23', '24',\n",
    "                            '25', '26', '27',\n",
    "                            '28', '29', '30',\n",
    "                            '31',\n",
    "                        ],\n",
    "                        'time': [\n",
    "                            '00:00', '03:00', '06:00',\n",
    "                            '09:00', '12:00', '15:00',\n",
    "                            '18:00', '21:00',\n",
    "                        ],\n",
    "                    },\n",
    "                    path + filename)\n",
    "                print('File saved: {}'.format(path + filename))"
   ]
  },
  {
   "cell_type": "code",
   "execution_count": null,
   "metadata": {},
   "outputs": [],
   "source": []
  }
 ],
 "metadata": {
  "jupytext": {
   "formats": "ipynb,py:light"
  },
  "kernelspec": {
   "display_name": "Python 3",
   "language": "python",
   "name": "python3"
  },
  "language_info": {
   "codemirror_mode": {
    "name": "ipython",
    "version": 3
   },
   "file_extension": ".py",
   "mimetype": "text/x-python",
   "name": "python",
   "nbconvert_exporter": "python",
   "pygments_lexer": "ipython3",
   "version": "3.7.8"
  }
 },
 "nbformat": 4,
 "nbformat_minor": 4
}
