{
 "cells": [
  {
   "cell_type": "markdown",
   "metadata": {},
   "source": [
    "# ERA5 monthly averaged data on single levels from 1985 to 2014\n",
    "ERA5 form: https://cds.climate.copernicus.eu/cdsapp#!/dataset/reanalysis-era5-single-levels-monthly-means?tab=form\n",
    "\n",
    "ERA5 variables: https://confluence.ecmwf.int/display/CKB/ERA5%3A+data+documentation"
   ]
  },
  {
   "cell_type": "code",
   "execution_count": null,
   "metadata": {},
   "outputs": [],
   "source": [
    "import cdsapi\n",
    "import glob"
   ]
  },
  {
   "cell_type": "code",
   "execution_count": null,
   "metadata": {},
   "outputs": [],
   "source": [
    "path = '/home/franzihe/nird_franzihe/data/ERA5/'\n",
    "path = '/home/franzihe/nird_ERA5/'"
   ]
  },
  {
   "cell_type": "code",
   "execution_count": null,
   "metadata": {},
   "outputs": [],
   "source": [
    "form = 'netcdf' # 'grib'"
   ]
  },
  {
   "cell_type": "code",
   "execution_count": null,
   "metadata": {},
   "outputs": [],
   "source": [
    "available_month = {'01_12':['01', '02', '03', '04', '05', '06', '07', '08', '09', '10', '11', '12']}"
   ]
  },
  {
   "cell_type": "code",
   "execution_count": null,
   "metadata": {},
   "outputs": [],
   "source": [
    "available_years = {\n",
    "                   \"85-89\": ['1985','1986','1987','1988','1989',],\n",
    "                   \"90-99\": ['1990','1991','1992','1993','1994','1995','1996','1997','1998','1999',],\n",
    "                   \"00-09\": ['2000','2001','2002','2003','2004','2005','2006','2007','2008','2009',],\n",
    "                   \"10-14\": ['2010','2011','2012','2013','2014',]\n",
    "                    }"
   ]
  },
  {
   "cell_type": "code",
   "execution_count": null,
   "metadata": {},
   "outputs": [],
   "source": [
    "variable = {'2t':   '2m_temperature', \n",
    "            'msr'  :'mean_snowfall_rate',\n",
    "            'sf'   :'snowfall', }"
   ]
  },
  {
   "cell_type": "code",
   "execution_count": null,
   "metadata": {},
   "outputs": [],
   "source": [
    "counter = 0\n",
    "for keys, var in variable.items(): \n",
    "    for years in (available_years):\n",
    "        for months in available_month:\n",
    "         #   print(var, available_years[years], available_month[months])\n",
    "            \n",
    "            if form == 'netcdf':\n",
    "                _ff = 'nc'\n",
    "            elif form == 'grib':\n",
    "                _ff = 'grib'\n",
    "\n",
    "\n",
    "            filename = '{keys}_Amon_ERA5_{starty}{startm}_{endy}{endm}.{format}'.format(keys = keys,\n",
    "                                                                                   starty = available_years[years][0],\n",
    "                                                                                   startm = available_month[months][0],\n",
    "                                                                                   endy = available_years[years][-1], \n",
    "                                                                                   endm = available_month[months][-1], \n",
    "                                                                                      format = _ff)\n",
    "#            print(filename)\n",
    "\n",
    "            files = glob.glob(path+filename)\n",
    "            if path + filename in files:\n",
    "                print(path + filename + ' is downloaded')\n",
    "                counter += 1\n",
    "                print(\"Have downloaded in total : \" + str(counter) + \" files\")\n",
    "            else:\n",
    "                c = cdsapi.Client()\n",
    "\n",
    "            c.retrieve(\n",
    "                'reanalysis-era5-single-levels-monthly-means',\n",
    "                {\n",
    "                    'product_type': 'monthly_averaged_reanalysis',\n",
    "                    'variable': var,\n",
    "                    'year': available_years[years],\n",
    "                    'month': available_month[months],\n",
    "                    'time': '00:00',\n",
    "#                    'grid': '0.25/0.25',        # Regrid from the default grid to a regular lat/lon with specified resolution. The first number is east-west resolution (longitude) and the second is north-south (latitude).\n",
    "                    'format': form,\n",
    "                    'stream': 'moda'\n",
    "                },\n",
    "                path + filename)\n",
    "            print('File saved: {}'.format(path + filename))"
   ]
  }
 ],
 "metadata": {
  "jupytext": {
   "formats": "ipynb,py:light"
  },
  "kernelspec": {
   "display_name": "Python 3",
   "language": "python",
   "name": "python3"
  },
  "language_info": {
   "codemirror_mode": {
    "name": "ipython",
    "version": 3
   },
   "file_extension": ".py",
   "mimetype": "text/x-python",
   "name": "python",
   "nbconvert_exporter": "python",
   "pygments_lexer": "ipython3",
   "version": "3.7.3"
  }
 },
 "nbformat": 4,
 "nbformat_minor": 4
}
