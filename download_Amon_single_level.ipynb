{
 "cells": [
  {
   "cell_type": "markdown",
   "metadata": {},
   "source": [
    "# ERA5 monthly averaged data on single levels from 1985 to 2014\n",
    "ERA5 form: https://cds.climate.copernicus.eu/cdsapp#!/dataset/reanalysis-era5-single-levels-monthly-means?tab=form\n",
    "\n",
    "ERA5 variables: https://confluence.ecmwf.int/display/CKB/ERA5%3A+data+documentation"
   ]
  },
  {
   "cell_type": "code",
   "execution_count": 1,
   "metadata": {},
   "outputs": [],
   "source": [
    "import cdsapi\n",
    "import glob"
   ]
  },
  {
   "cell_type": "code",
   "execution_count": 2,
   "metadata": {},
   "outputs": [],
   "source": [
    "# path = '/home/franzihe/nird_franzihe/data/ERA5/'\n",
    "# path = '/home/franzihe/nird_ERA5/'\n",
    "path = '/scratch/franzihe/input/ERA5/monthly_means/0.25deg/'"
   ]
  },
  {
   "cell_type": "code",
   "execution_count": 3,
   "metadata": {},
   "outputs": [],
   "source": [
    "form = 'netcdf' # 'grib'"
   ]
  },
  {
   "cell_type": "code",
   "execution_count": 4,
   "metadata": {},
   "outputs": [],
   "source": [
    "available_month = {'01_12':['01', '02', '03', '04', '05', '06', '07', '08', '09', '10', '11', '12']}"
   ]
  },
  {
   "cell_type": "code",
   "execution_count": 5,
   "metadata": {},
   "outputs": [],
   "source": [
    "available_years = {\n",
    "                   \"85-89\": ['1985','1986','1987','1988','1989',],\n",
    "                   \"90-99\": ['1990','1991','1992','1993','1994','1995','1996','1997','1998','1999',],\n",
    "                   \"00-09\": ['2000','2001','2002','2003','2004','2005','2006','2007','2008','2009',],\n",
    "                   \"10-14\": ['2010','2011','2012','2013','2014',]\n",
    "                    }"
   ]
  },
  {
   "cell_type": "code",
   "execution_count": 6,
   "metadata": {},
   "outputs": [],
   "source": [
    "variable = {\n",
    "            # '2t':   '2m_temperature', \n",
    "            # 'msr'  :'mean_snowfall_rate',\n",
    "            # 'sf'   :'snowfall', \n",
    "            # 'tclw' : 'total_column_cloud_liquid_water',\n",
    "            # 'tciw' : 'Total column cloud ice water',\n",
    "            'tcsw' : 'total_column_snow_water',\n",
    "            'tcrw' : 'total_column_rain_water',\n",
    "            'tcslw': 'total_column_supercooled_liquid_water'\n",
    "            }"
   ]
  },
  {
   "cell_type": "code",
   "execution_count": 7,
   "metadata": {},
   "outputs": [
    {
     "name": "stderr",
     "output_type": "stream",
     "text": [
      "2022-09-22 14:36:55,812 INFO Welcome to the CDS\n",
      "2022-09-22 14:36:55,812 INFO Sending request to https://cds.climate.copernicus.eu/api/v2/resources/reanalysis-era5-single-levels-monthly-means\n",
      "2022-09-22 14:36:56,002 INFO Request is queued\n",
      "2022-09-22 14:36:57,052 INFO Request is running\n",
      "2022-09-22 14:37:17,091 INFO Request is completed\n",
      "2022-09-22 14:37:17,091 INFO Downloading https://download-0011-clone.copernicus-climate.eu/cache-compute-0011/cache/data1/adaptor.mars.internal-1663850233.4340053-16687-16-f8baf325-2290-41e8-93f7-0f0ea9752786.nc to /scratch/franzihe/input/ERA5/monthly_means/0.25deg/tcsw_Amon_ERA5_198501_198912.nc (118.8M)\n",
      "2022-09-22 14:37:20,361 INFO Download rate 36.3M/s \n",
      "2022-09-22 14:37:20,459 INFO Welcome to the CDS\n",
      "2022-09-22 14:37:20,460 INFO Sending request to https://cds.climate.copernicus.eu/api/v2/resources/reanalysis-era5-single-levels-monthly-means\n",
      "2022-09-22 14:37:20,537 INFO Request is queued\n"
     ]
    },
    {
     "name": "stdout",
     "output_type": "stream",
     "text": [
      "File saved: /scratch/franzihe/input/ERA5/monthly_means/0.25deg/tcsw_Amon_ERA5_198501_198912.nc\n"
     ]
    },
    {
     "name": "stderr",
     "output_type": "stream",
     "text": [
      "2022-09-22 14:37:21,588 INFO Request is running\n",
      "2022-09-22 14:38:10,241 INFO Request is completed\n",
      "2022-09-22 14:38:10,242 INFO Downloading https://download-0011-clone.copernicus-climate.eu/cache-compute-0011/cache/data0/adaptor.mars.internal-1663850273.818209-26410-5-7cab235f-954f-40b3-aee8-20058bcc6725.nc to /scratch/franzihe/input/ERA5/monthly_means/0.25deg/tcsw_Amon_ERA5_199001_199912.nc (237.6M)\n",
      "2022-09-22 14:38:15,782 INFO Download rate 42.9M/s \n",
      "2022-09-22 14:38:15,883 INFO Welcome to the CDS\n",
      "2022-09-22 14:38:15,883 INFO Sending request to https://cds.climate.copernicus.eu/api/v2/resources/reanalysis-era5-single-levels-monthly-means\n",
      "2022-09-22 14:38:15,938 INFO Request is queued\n"
     ]
    },
    {
     "name": "stdout",
     "output_type": "stream",
     "text": [
      "File saved: /scratch/franzihe/input/ERA5/monthly_means/0.25deg/tcsw_Amon_ERA5_199001_199912.nc\n"
     ]
    },
    {
     "name": "stderr",
     "output_type": "stream",
     "text": [
      "2022-09-22 14:38:16,988 INFO Request is running\n",
      "2022-09-22 14:39:05,640 INFO Request is completed\n",
      "2022-09-22 14:39:05,641 INFO Downloading https://download-0002-clone.copernicus-climate.eu/cache-compute-0002/cache/data9/adaptor.mars.internal-1663850329.0666077-14643-14-b90ce538-99d1-42f8-af67-128cf49b6570.nc to /scratch/franzihe/input/ERA5/monthly_means/0.25deg/tcsw_Amon_ERA5_200001_200912.nc (237.6M)\n",
      "2022-09-22 14:39:11,122 INFO Download rate 43.4M/s \n",
      "2022-09-22 14:39:11,221 INFO Welcome to the CDS\n",
      "2022-09-22 14:39:11,221 INFO Sending request to https://cds.climate.copernicus.eu/api/v2/resources/reanalysis-era5-single-levels-monthly-means\n",
      "2022-09-22 14:39:11,277 INFO Request is queued\n"
     ]
    },
    {
     "name": "stdout",
     "output_type": "stream",
     "text": [
      "File saved: /scratch/franzihe/input/ERA5/monthly_means/0.25deg/tcsw_Amon_ERA5_200001_200912.nc\n"
     ]
    },
    {
     "name": "stderr",
     "output_type": "stream",
     "text": [
      "2022-09-22 14:39:19,606 INFO Request is running\n",
      "2022-09-22 14:39:43,825 INFO Request is completed\n",
      "2022-09-22 14:39:43,826 INFO Downloading https://download-0020.copernicus-climate.eu/cache-compute-0020/cache/data2/adaptor.mars.internal-1663850372.2312632-7305-4-65e7b324-7efc-455c-909e-39e586d54b5c.nc to /scratch/franzihe/input/ERA5/monthly_means/0.25deg/tcsw_Amon_ERA5_201001_201412.nc (118.8M)\n",
      "2022-09-22 14:39:46,618 INFO Download rate 42.6M/s \n",
      "2022-09-22 14:39:46,718 INFO Welcome to the CDS\n",
      "2022-09-22 14:39:46,718 INFO Sending request to https://cds.climate.copernicus.eu/api/v2/resources/reanalysis-era5-single-levels-monthly-means\n",
      "2022-09-22 14:39:46,805 INFO Request is queued\n"
     ]
    },
    {
     "name": "stdout",
     "output_type": "stream",
     "text": [
      "File saved: /scratch/franzihe/input/ERA5/monthly_means/0.25deg/tcsw_Amon_ERA5_201001_201412.nc\n"
     ]
    },
    {
     "name": "stderr",
     "output_type": "stream",
     "text": [
      "2022-09-22 14:39:55,135 INFO Request is running\n",
      "2022-09-22 14:40:19,355 INFO Request is completed\n",
      "2022-09-22 14:40:19,356 INFO Downloading https://download-0004-clone.copernicus-climate.eu/cache-compute-0004/cache/data8/adaptor.mars.internal-1663850408.221303-20426-1-d26e1bd0-7567-4a21-acbc-9553092a8b38.nc to /scratch/franzihe/input/ERA5/monthly_means/0.25deg/tcrw_Amon_ERA5_198501_198912.nc (118.8M)\n",
      "2022-09-22 14:40:22,534 INFO Download rate 37.4M/s \n",
      "2022-09-22 14:40:22,632 INFO Welcome to the CDS\n",
      "2022-09-22 14:40:22,632 INFO Sending request to https://cds.climate.copernicus.eu/api/v2/resources/reanalysis-era5-single-levels-monthly-means\n",
      "2022-09-22 14:40:22,703 INFO Request is queued\n"
     ]
    },
    {
     "name": "stdout",
     "output_type": "stream",
     "text": [
      "File saved: /scratch/franzihe/input/ERA5/monthly_means/0.25deg/tcrw_Amon_ERA5_198501_198912.nc\n"
     ]
    },
    {
     "name": "stderr",
     "output_type": "stream",
     "text": [
      "2022-09-22 14:40:25,305 INFO Request is running\n",
      "2022-09-22 14:41:12,388 INFO Request is completed\n",
      "2022-09-22 14:41:12,389 INFO Downloading https://download-0005-clone.copernicus-climate.eu/cache-compute-0005/cache/data7/adaptor.mars.internal-1663850456.4737573-20414-5-df756b53-d0b6-495f-a0cf-6c8d29467e6b.nc to /scratch/franzihe/input/ERA5/monthly_means/0.25deg/tcrw_Amon_ERA5_199001_199912.nc (237.6M)\n",
      "2022-09-22 14:41:17,227 INFO Download rate 49.1M/s \n",
      "2022-09-22 14:41:17,327 INFO Welcome to the CDS\n",
      "2022-09-22 14:41:17,328 INFO Sending request to https://cds.climate.copernicus.eu/api/v2/resources/reanalysis-era5-single-levels-monthly-means\n",
      "2022-09-22 14:41:17,410 INFO Request is queued\n"
     ]
    },
    {
     "name": "stdout",
     "output_type": "stream",
     "text": [
      "File saved: /scratch/franzihe/input/ERA5/monthly_means/0.25deg/tcrw_Amon_ERA5_199001_199912.nc\n"
     ]
    },
    {
     "name": "stderr",
     "output_type": "stream",
     "text": [
      "2022-09-22 14:41:22,313 INFO Request is running\n",
      "2022-09-22 14:42:07,111 INFO Request is completed\n",
      "2022-09-22 14:42:07,112 INFO Downloading https://download-0019.copernicus-climate.eu/cache-compute-0019/cache/data5/adaptor.mars.internal-1663850514.1711578-25714-15-6a50aa48-315f-420f-b85a-fc6efebf7955.nc to /scratch/franzihe/input/ERA5/monthly_means/0.25deg/tcrw_Amon_ERA5_200001_200912.nc (237.6M)\n",
      "2022-09-22 14:42:15,437 INFO Download rate 28.5M/s \n",
      "2022-09-22 14:42:15,536 INFO Welcome to the CDS\n",
      "2022-09-22 14:42:15,536 INFO Sending request to https://cds.climate.copernicus.eu/api/v2/resources/reanalysis-era5-single-levels-monthly-means\n",
      "2022-09-22 14:42:15,596 INFO Request is queued\n"
     ]
    },
    {
     "name": "stdout",
     "output_type": "stream",
     "text": [
      "File saved: /scratch/franzihe/input/ERA5/monthly_means/0.25deg/tcrw_Amon_ERA5_200001_200912.nc\n"
     ]
    },
    {
     "name": "stderr",
     "output_type": "stream",
     "text": [
      "2022-09-22 14:42:18,197 INFO Request is running\n",
      "2022-09-22 14:42:48,147 INFO Request is completed\n",
      "2022-09-22 14:42:48,148 INFO Downloading https://download-0015-clone.copernicus-climate.eu/cache-compute-0015/cache/data0/adaptor.mars.internal-1663850559.600224-31223-5-72bd2331-5830-4e54-ac09-4fbc22150db0.nc to /scratch/franzihe/input/ERA5/monthly_means/0.25deg/tcrw_Amon_ERA5_201001_201412.nc (118.8M)\n",
      "2022-09-22 14:42:50,834 INFO Download rate 44.3M/s \n",
      "2022-09-22 14:42:50,931 INFO Welcome to the CDS\n",
      "2022-09-22 14:42:50,932 INFO Sending request to https://cds.climate.copernicus.eu/api/v2/resources/reanalysis-era5-single-levels-monthly-means\n",
      "2022-09-22 14:42:50,995 INFO Request is queued\n"
     ]
    },
    {
     "name": "stdout",
     "output_type": "stream",
     "text": [
      "File saved: /scratch/franzihe/input/ERA5/monthly_means/0.25deg/tcrw_Amon_ERA5_201001_201412.nc\n"
     ]
    },
    {
     "name": "stderr",
     "output_type": "stream",
     "text": [
      "2022-09-22 14:42:52,047 INFO Request is running\n",
      "2022-09-22 14:43:12,098 INFO Request is completed\n",
      "2022-09-22 14:43:12,099 INFO Downloading https://download-0015-clone.copernicus-climate.eu/cache-compute-0015/cache/data8/adaptor.mars.internal-1663850588.0647957-21180-15-ea9e1c35-4a7e-49c3-b694-b2e0baa3d3a0.nc to /scratch/franzihe/input/ERA5/monthly_means/0.25deg/tcslw_Amon_ERA5_198501_198912.nc (118.8M)\n",
      "2022-09-22 14:43:14,861 INFO Download rate 43M/s   \n",
      "2022-09-22 14:43:14,958 INFO Welcome to the CDS\n",
      "2022-09-22 14:43:14,958 INFO Sending request to https://cds.climate.copernicus.eu/api/v2/resources/reanalysis-era5-single-levels-monthly-means\n",
      "2022-09-22 14:43:15,031 INFO Request is queued\n"
     ]
    },
    {
     "name": "stdout",
     "output_type": "stream",
     "text": [
      "File saved: /scratch/franzihe/input/ERA5/monthly_means/0.25deg/tcslw_Amon_ERA5_198501_198912.nc\n"
     ]
    },
    {
     "name": "stderr",
     "output_type": "stream",
     "text": [
      "2022-09-22 14:43:16,081 INFO Request is running\n",
      "2022-09-22 14:44:04,869 INFO Request is completed\n",
      "2022-09-22 14:44:04,870 INFO Downloading https://download-0009-clone.copernicus-climate.eu/cache-compute-0009/cache/data9/adaptor.mars.internal-1663850631.4130611-24732-18-03d2ebce-491b-40e1-bce4-a50cdf3aa68f.nc to /scratch/franzihe/input/ERA5/monthly_means/0.25deg/tcslw_Amon_ERA5_199001_199912.nc (237.6M)\n",
      "2022-09-22 14:44:11,977 INFO Download rate 33.4M/s    \n",
      "2022-09-22 14:44:12,077 INFO Welcome to the CDS\n",
      "2022-09-22 14:44:12,078 INFO Sending request to https://cds.climate.copernicus.eu/api/v2/resources/reanalysis-era5-single-levels-monthly-means\n",
      "2022-09-22 14:44:12,133 INFO Request is queued\n"
     ]
    },
    {
     "name": "stdout",
     "output_type": "stream",
     "text": [
      "File saved: /scratch/franzihe/input/ERA5/monthly_means/0.25deg/tcslw_Amon_ERA5_199001_199912.nc\n"
     ]
    },
    {
     "name": "stderr",
     "output_type": "stream",
     "text": [
      "2022-09-22 14:44:33,233 INFO Request is running\n",
      "2022-09-22 14:45:27,545 INFO Request is completed\n",
      "2022-09-22 14:45:27,546 INFO Downloading https://download-0011-clone.copernicus-climate.eu/cache-compute-0011/cache/data5/adaptor.mars.internal-1663850706.1762269-16734-18-b0c3e756-fd09-4e0e-9993-3a382cdb8686.nc to /scratch/franzihe/input/ERA5/monthly_means/0.25deg/tcslw_Amon_ERA5_200001_200912.nc (237.6M)\n",
      "2022-09-22 14:45:32,986 INFO Download rate 43.7M/s \n",
      "2022-09-22 14:45:33,085 INFO Welcome to the CDS\n",
      "2022-09-22 14:45:33,085 INFO Sending request to https://cds.climate.copernicus.eu/api/v2/resources/reanalysis-era5-single-levels-monthly-means\n",
      "2022-09-22 14:45:33,185 INFO Request is queued\n"
     ]
    },
    {
     "name": "stdout",
     "output_type": "stream",
     "text": [
      "File saved: /scratch/franzihe/input/ERA5/monthly_means/0.25deg/tcslw_Amon_ERA5_200001_200912.nc\n"
     ]
    },
    {
     "name": "stderr",
     "output_type": "stream",
     "text": [
      "2022-09-22 14:46:05,735 INFO Request is running\n",
      "2022-09-22 14:46:48,594 INFO Request is completed\n",
      "2022-09-22 14:46:48,595 INFO Downloading https://download-0010-clone.copernicus-climate.eu/cache-compute-0010/cache/data1/adaptor.mars.internal-1663850782.6337147-11749-8-883f60d8-ca6a-4efb-a3b1-d2582b45eb6f.nc to /scratch/franzihe/input/ERA5/monthly_means/0.25deg/tcslw_Amon_ERA5_201001_201412.nc (118.8M)\n",
      "2022-09-22 14:46:51,081 INFO Download rate 47.8M/s \n"
     ]
    },
    {
     "name": "stdout",
     "output_type": "stream",
     "text": [
      "File saved: /scratch/franzihe/input/ERA5/monthly_means/0.25deg/tcslw_Amon_ERA5_201001_201412.nc\n"
     ]
    }
   ],
   "source": [
    "counter = 0\n",
    "for keys, var in variable.items(): \n",
    "    for years in (available_years):\n",
    "        for months in available_month:\n",
    "         #   print(var, available_years[years], available_month[months])\n",
    "            \n",
    "            if form == 'netcdf':\n",
    "                _ff = 'nc'\n",
    "            elif form == 'grib':\n",
    "                _ff = 'grib'\n",
    "\n",
    "\n",
    "            filename = '{keys}_Amon_ERA5_{starty}{startm}_{endy}{endm}.{format}'.format(keys = keys,\n",
    "                                                                                   starty = available_years[years][0],\n",
    "                                                                                   startm = available_month[months][0],\n",
    "                                                                                   endy = available_years[years][-1], \n",
    "                                                                                   endm = available_month[months][-1], \n",
    "                                                                                      format = _ff)\n",
    "#            print(filename)\n",
    "\n",
    "            files = glob.glob(path+filename)\n",
    "            if path + filename in files:\n",
    "                print(path + filename + ' is downloaded')\n",
    "                counter += 1\n",
    "                print(\"Have downloaded in total : \" + str(counter) + \" files\")\n",
    "            else:\n",
    "                c = cdsapi.Client()\n",
    "                c.retrieve(\n",
    "                'reanalysis-era5-single-levels-monthly-means',\n",
    "                {\n",
    "                    'product_type': 'monthly_averaged_reanalysis',\n",
    "                    'variable': var,\n",
    "                    'year': available_years[years],\n",
    "                    'month': available_month[months],\n",
    "                    'time': '00:00',\n",
    "#                    'grid': '0.25/0.25',        # Regrid from the default grid to a regular lat/lon with specified resolution. The first number is east-west resolution (longitude) and the second is north-south (latitude).\n",
    "                    'format': form,\n",
    "                    'stream': 'moda'\n",
    "                },\n",
    "                path + filename)\n",
    "            print('File saved: {}'.format(path + filename))"
   ]
  },
  {
   "cell_type": "code",
   "execution_count": null,
   "metadata": {},
   "outputs": [],
   "source": []
  }
 ],
 "metadata": {
  "jupytext": {
   "formats": "ipynb,py:light"
  },
  "kernelspec": {
   "display_name": "Python 3.9.9 ('geocat': conda)",
   "language": "python",
   "name": "python3"
  },
  "language_info": {
   "codemirror_mode": {
    "name": "ipython",
    "version": 3
   },
   "file_extension": ".py",
   "mimetype": "text/x-python",
   "name": "python",
   "nbconvert_exporter": "python",
   "pygments_lexer": "ipython3",
   "version": "3.9.9"
  },
  "vscode": {
   "interpreter": {
    "hash": "5b36e1c9915b977edda31f5592cccc942598cf9b523d29af91b08f804ee9f263"
   }
  }
 },
 "nbformat": 4,
 "nbformat_minor": 4
}
